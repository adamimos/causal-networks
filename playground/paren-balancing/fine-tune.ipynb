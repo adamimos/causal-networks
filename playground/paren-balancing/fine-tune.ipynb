{
 "cells": [
  {
   "cell_type": "markdown",
   "metadata": {},
   "source": [
    "## Fine-tuning a model to do the parenthesis balancing task"
   ]
  },
  {
   "cell_type": "markdown",
   "metadata": {},
   "source": [
    "## Setup"
   ]
  },
  {
   "cell_type": "code",
   "execution_count": 1,
   "metadata": {},
   "outputs": [],
   "source": [
    "FORCE_CPU = False\n",
    "SEED = 2384\n",
    "BASE_MODEL_NAME = \"gelu-1l\"\n",
    "\n",
    "TEXT_DATASET_FILE = \"../../data/paren-balancing/single_line.csv\"\n",
    "\n",
    "OPEN_PAREN_STR_TOKENS = [\"(\"]\n",
    "CLOSE_PAREN_STR_TOKENS = [\")\"]\n",
    "\n",
    "TEST_DATASET_SIZE = 0.1\n",
    "VALIDATION_DATASET_SIZE = 0.1\n",
    "\n",
    "BATCH_SIZE = 256\n",
    "EPOCHS = 10\n",
    "LEARNING_RATE = 1e-4\n",
    "LR_SCHEDULER_PATIENCE = 1000"
   ]
  },
  {
   "cell_type": "code",
   "execution_count": 2,
   "metadata": {},
   "outputs": [],
   "source": [
    "from copy import deepcopy\n",
    "from math import sqrt\n",
    "\n",
    "from IPython.display import display\n",
    "\n",
    "import torch\n",
    "import torch.nn as nn\n",
    "import torch.nn.functional as F\n",
    "from torch.utils.data import TensorDataset, DataLoader\n",
    "\n",
    "import einops\n",
    "\n",
    "import numpy as np\n",
    "\n",
    "import pandas as pd\n",
    "\n",
    "from tqdm import tqdm\n",
    "\n",
    "import plotly.express as px\n",
    "\n",
    "from transformer_lens import HookedTransformer\n",
    "from transformer_lens.components import Unembed"
   ]
  },
  {
   "cell_type": "code",
   "execution_count": 3,
   "metadata": {},
   "outputs": [
    {
     "name": "stdout",
     "output_type": "stream",
     "text": [
      "cuda\n"
     ]
    }
   ],
   "source": [
    "if not FORCE_CPU and torch.cuda.is_available():\n",
    "    device = torch.device(\"cuda\")\n",
    "else:\n",
    "    device = torch.device(\"cpu\")\n",
    "print(device)"
   ]
  },
  {
   "cell_type": "code",
   "execution_count": 4,
   "metadata": {},
   "outputs": [],
   "source": [
    "import plotly.io as pio\n",
    "pio.renderers.default = \"colab+vscode\""
   ]
  },
  {
   "cell_type": "markdown",
   "metadata": {},
   "source": [
    "## Model"
   ]
  },
  {
   "cell_type": "code",
   "execution_count": 5,
   "metadata": {},
   "outputs": [
    {
     "name": "stdout",
     "output_type": "stream",
     "text": [
      "Loaded pretrained model gelu-1l into HookedTransformer\n"
     ]
    },
    {
     "data": {
      "text/plain": [
       "<All keys matched successfully>"
      ]
     },
     "execution_count": 5,
     "metadata": {},
     "output_type": "execute_result"
    }
   ],
   "source": [
    "base_model = HookedTransformer.from_pretrained(BASE_MODEL_NAME, device=device)\n",
    "\n",
    "model_config = deepcopy(base_model.cfg)\n",
    "model_config.d_vocab_out = 2\n",
    "\n",
    "model = HookedTransformer(cfg=model_config)\n",
    "\n",
    "model_state_dict = deepcopy(base_model.state_dict())\n",
    "model_state_dict[\"unembed.W_U\"] = torch.empty(\n",
    "    model_config.d_model, model_config.d_vocab_out\n",
    ").to(device)\n",
    "model_state_dict[\"unembed.b_U\"] = torch.empty(model_config.d_vocab_out).to(device)\n",
    "nn.init.uniform_(\n",
    "    model_state_dict[\"unembed.W_U\"],\n",
    "    -1/sqrt(model_config.d_model),\n",
    "    1/sqrt(model_config.d_model),\n",
    ")\n",
    "nn.init.uniform_(\n",
    "    model_state_dict[\"unembed.b_U\"],\n",
    "    -1/sqrt(model_config.d_model),\n",
    "    1/sqrt(model_config.d_model),\n",
    ")\n",
    "\n",
    "model.load_state_dict(model_state_dict)"
   ]
  },
  {
   "cell_type": "code",
   "execution_count": 6,
   "metadata": {},
   "outputs": [
    {
     "name": "stdout",
     "output_type": "stream",
     "text": [
      "2\n"
     ]
    }
   ],
   "source": [
    "pad_token_id = base_model.tokenizer.pad_token_id\n",
    "print(pad_token_id)"
   ]
  },
  {
   "cell_type": "markdown",
   "metadata": {},
   "source": [
    "## Dataset"
   ]
  },
  {
   "cell_type": "code",
   "execution_count": 7,
   "metadata": {},
   "outputs": [],
   "source": [
    "open_paren_tokens = model.to_tokens(\n",
    "    OPEN_PAREN_STR_TOKENS, prepend_bos=False, move_to_device=False, truncate=False\n",
    ")\n",
    "open_paren_tokens = [\n",
    "    open_paren_tokens[i, 0].item() for i in range(open_paren_tokens.shape[0])\n",
    "]\n",
    "\n",
    "closed_paren_tokens = model.to_tokens(\n",
    "    CLOSE_PAREN_STR_TOKENS, prepend_bos=False, move_to_device=False, truncate=False\n",
    ")\n",
    "closed_paren_tokens = [\n",
    "    closed_paren_tokens[i, 0].item() for i in range(closed_paren_tokens.shape[0])\n",
    "]"
   ]
  },
  {
   "cell_type": "code",
   "execution_count": 8,
   "metadata": {},
   "outputs": [],
   "source": [
    "text_data = pd.read_csv(TEXT_DATASET_FILE)\n",
    "text_data_tokenised = base_model.to_tokens(text_data[\"text\"].values, move_to_device=False)"
   ]
  },
  {
   "cell_type": "code",
   "execution_count": 9,
   "metadata": {},
   "outputs": [],
   "source": [
    "open_bracket = torch.isin(text_data_tokenised, torch.tensor(open_paren_tokens))\n",
    "closed_bracket = torch.isin(text_data_tokenised, torch.tensor(closed_paren_tokens))\n",
    "bracket_values = torch.zeros_like(text_data_tokenised, dtype=torch.long)\n",
    "bracket_values = bracket_values + open_bracket.long() - closed_bracket.long()\n",
    "cumsum = torch.cumsum(bracket_values, dim=-1)\n",
    "output_data = (cumsum > 0).to(dtype=torch.long)"
   ]
  },
  {
   "cell_type": "code",
   "execution_count": 10,
   "metadata": {},
   "outputs": [],
   "source": [
    "loss_mask = text_data_tokenised != pad_token_id"
   ]
  },
  {
   "cell_type": "code",
   "execution_count": 11,
   "metadata": {},
   "outputs": [],
   "source": [
    "shuffled_indices = torch.randperm(text_data_tokenised.shape[0])\n",
    "train_indices = shuffled_indices[\n",
    "    : int(\n",
    "        text_data_tokenised.shape[0] * (1 - TEST_DATASET_SIZE - VALIDATION_DATASET_SIZE)\n",
    "    )\n",
    "]\n",
    "validation_indices = shuffled_indices[\n",
    "    int(\n",
    "        text_data_tokenised.shape[0] * (1 - TEST_DATASET_SIZE - VALIDATION_DATASET_SIZE)\n",
    "    ) : int(text_data_tokenised.shape[0] * (1 - TEST_DATASET_SIZE))\n",
    "]\n",
    "test_indices = shuffled_indices[\n",
    "    int(text_data_tokenised.shape[0] * (1 - TEST_DATASET_SIZE)) :\n",
    "]\n",
    "\n",
    "train_dataset = TensorDataset(\n",
    "    text_data_tokenised[train_indices],\n",
    "    output_data[train_indices],\n",
    "    loss_mask[train_indices],\n",
    ")\n",
    "validation_dataset = TensorDataset(\n",
    "    text_data_tokenised[validation_indices],\n",
    "    output_data[validation_indices],\n",
    "    loss_mask[validation_indices],\n",
    ")\n",
    "test_dataset = TensorDataset(\n",
    "    text_data_tokenised[test_indices],\n",
    "    output_data[test_indices],\n",
    "    loss_mask[test_indices],\n",
    ")"
   ]
  },
  {
   "cell_type": "markdown",
   "metadata": {},
   "source": [
    "## Training"
   ]
  },
  {
   "cell_type": "code",
   "execution_count": 12,
   "metadata": {},
   "outputs": [],
   "source": [
    "train_dataloader = DataLoader(\n",
    "    train_dataset, batch_size=BATCH_SIZE, shuffle=False, drop_last=True\n",
    ")\n",
    "validation_dataloader = DataLoader(\n",
    "    validation_dataset, batch_size=BATCH_SIZE, shuffle=False, drop_last=True\n",
    ")\n",
    "test_dataloader = DataLoader(\n",
    "    test_dataset, batch_size=BATCH_SIZE, shuffle=False, drop_last=True\n",
    ")"
   ]
  },
  {
   "cell_type": "code",
   "execution_count": 13,
   "metadata": {},
   "outputs": [
    {
     "name": "stderr",
     "output_type": "stream",
     "text": [
      "Epoch 1/10:   1%|▏         | 9/637 [00:39<46:15,  4.42s/it]\n"
     ]
    },
    {
     "ename": "KeyboardInterrupt",
     "evalue": "",
     "output_type": "error",
     "traceback": [
      "\u001b[0;31m---------------------------------------------------------------------------\u001b[0m",
      "\u001b[0;31mKeyboardInterrupt\u001b[0m                         Traceback (most recent call last)",
      "Cell \u001b[0;32mIn[13], line 30\u001b[0m\n\u001b[1;32m     28\u001b[0m loss\u001b[39m.\u001b[39mbackward()\n\u001b[1;32m     29\u001b[0m optimizer\u001b[39m.\u001b[39mstep()\n\u001b[0;32m---> 30\u001b[0m scheduler\u001b[39m.\u001b[39;49mstep(loss)\n\u001b[1;32m     32\u001b[0m total_loss \u001b[39m+\u001b[39m\u001b[39m=\u001b[39m loss\u001b[39m.\u001b[39mitem()\n\u001b[1;32m     33\u001b[0m \u001b[39mwith\u001b[39;00m torch\u001b[39m.\u001b[39mno_grad():\n",
      "File \u001b[0;32m~/.virtualenvs/causal-networks/lib/python3.11/site-packages/torch/optim/lr_scheduler.py:1009\u001b[0m, in \u001b[0;36mReduceLROnPlateau.step\u001b[0;34m(self, metrics, epoch)\u001b[0m\n\u001b[1;32m   1007\u001b[0m \u001b[39mdef\u001b[39;00m \u001b[39mstep\u001b[39m(\u001b[39mself\u001b[39m, metrics, epoch\u001b[39m=\u001b[39m\u001b[39mNone\u001b[39;00m):\n\u001b[1;32m   1008\u001b[0m     \u001b[39m# convert `metrics` to float, in case it's a zero-dim Tensor\u001b[39;00m\n\u001b[0;32m-> 1009\u001b[0m     current \u001b[39m=\u001b[39m \u001b[39mfloat\u001b[39m(metrics)\n\u001b[1;32m   1010\u001b[0m     \u001b[39mif\u001b[39;00m epoch \u001b[39mis\u001b[39;00m \u001b[39mNone\u001b[39;00m:\n\u001b[1;32m   1011\u001b[0m         epoch \u001b[39m=\u001b[39m \u001b[39mself\u001b[39m\u001b[39m.\u001b[39mlast_epoch \u001b[39m+\u001b[39m \u001b[39m1\u001b[39m\n",
      "\u001b[0;31mKeyboardInterrupt\u001b[0m: "
     ]
    }
   ],
   "source": [
    "optimizer = torch.optim.SGD(model.parameters(), lr=LEARNING_RATE)\n",
    "scheduler = torch.optim.lr_scheduler.ReduceLROnPlateau(\n",
    "    optimizer, \"min\", patience=1000, verbose=True\n",
    ")\n",
    "losses = np.empty(EPOCHS)\n",
    "accuracies = np.empty(EPOCHS)\n",
    "\n",
    "for epoch in range(EPOCHS):\n",
    "    total_loss = 0.0\n",
    "    total_agreement = 0.0\n",
    "\n",
    "    iterator = tqdm(\n",
    "        train_dataloader,\n",
    "        total=len(train_dataloader),\n",
    "        desc=f\"Epoch {epoch + 1}/{EPOCHS}\",\n",
    "    )\n",
    "    for tokens, gold_output, loss_mask in iterator:\n",
    "        tokens = tokens.to(device)\n",
    "        gold_output = gold_output.to(device)\n",
    "        loss_mask = loss_mask.to(device)\n",
    "\n",
    "        optimizer.zero_grad()\n",
    "\n",
    "        output = model(tokens)\n",
    "        output_rearranged = einops.rearrange(output, \"batch seq out -> batch out seq\")\n",
    "        loss = F.cross_entropy(output_rearranged, gold_output, reduction=\"none\")\n",
    "        loss = loss[loss_mask].mean()\n",
    "        loss.backward()\n",
    "        optimizer.step()\n",
    "        scheduler.step(loss)\n",
    "\n",
    "        total_loss += loss.item()\n",
    "        with torch.no_grad():\n",
    "            total_agreement += (\n",
    "                (torch.argmax(output, dim=-1) == gold_output)[loss_mask]\n",
    "                .float()\n",
    "                .mean()\n",
    "                .item()\n",
    "            )\n",
    "\n",
    "    losses[epoch] = total_loss / len(train_dataloader)\n",
    "    accuracies[epoch] = total_agreement / len(train_dataloader)\n",
    "\n",
    "    print(f\"Loss: {losses[epoch]:.4f}, Accuracy: {accuracies[epoch]:.4f}\")"
   ]
  }
 ],
 "metadata": {
  "kernelspec": {
   "display_name": "causal-networks",
   "language": "python",
   "name": "python3"
  },
  "language_info": {
   "codemirror_mode": {
    "name": "ipython",
    "version": 3
   },
   "file_extension": ".py",
   "mimetype": "text/x-python",
   "name": "python",
   "nbconvert_exporter": "python",
   "pygments_lexer": "ipython3",
   "version": "3.11.2"
  },
  "orig_nbformat": 4
 },
 "nbformat": 4,
 "nbformat_minor": 2
}
