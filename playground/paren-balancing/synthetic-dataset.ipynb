{
 "cells": [
  {
   "cell_type": "markdown",
   "metadata": {},
   "source": [
    "# Synthetic dataset for parenthesis balancing"
   ]
  },
  {
   "cell_type": "markdown",
   "metadata": {},
   "source": [
    "## Setup"
   ]
  },
  {
   "cell_type": "code",
   "execution_count": 60,
   "metadata": {},
   "outputs": [],
   "source": [
    "FORCE_CPU = True\n",
    "SEED = 2384\n",
    "MODEL_NAME = \"gelu-1l\"\n",
    "\n",
    "DATASET_SIZE = 100000\n",
    "DATASET_SAMPLE_LENGTH = 31\n",
    "DATASET_MAX_DEPTH = 3\n",
    "\n",
    "DATA_FILE = \"../../data/paren-balancing/synthetic_a_l31_d3.csv\""
   ]
  },
  {
   "cell_type": "code",
   "execution_count": 61,
   "metadata": {},
   "outputs": [],
   "source": [
    "import math\n",
    "\n",
    "import torch\n",
    "\n",
    "import pandas as pd\n",
    "\n",
    "import numpy as np\n",
    "\n",
    "import plotly.express as px\n",
    "\n",
    "from transformer_lens import HookedTransformer"
   ]
  },
  {
   "cell_type": "code",
   "execution_count": 62,
   "metadata": {},
   "outputs": [],
   "source": [
    "np.random.seed(SEED)"
   ]
  },
  {
   "cell_type": "code",
   "execution_count": 63,
   "metadata": {},
   "outputs": [
    {
     "name": "stdout",
     "output_type": "stream",
     "text": [
      "cpu\n"
     ]
    }
   ],
   "source": [
    "if not FORCE_CPU and torch.cuda.is_available():\n",
    "    device = torch.device(\"cuda\")\n",
    "else:\n",
    "    device = torch.device(\"cpu\")\n",
    "print(device)"
   ]
  },
  {
   "cell_type": "code",
   "execution_count": 64,
   "metadata": {},
   "outputs": [
    {
     "name": "stdout",
     "output_type": "stream",
     "text": [
      "Loaded pretrained model gelu-1l into HookedTransformer\n"
     ]
    }
   ],
   "source": [
    "model = HookedTransformer.from_pretrained(MODEL_NAME, device=device)"
   ]
  },
  {
   "cell_type": "code",
   "execution_count": 65,
   "metadata": {},
   "outputs": [],
   "source": [
    "alphabet = \"abcdefghijklmnopqrstuvwxyz\""
   ]
  },
  {
   "cell_type": "markdown",
   "metadata": {},
   "source": [
    "## Tokens"
   ]
  },
  {
   "cell_type": "code",
   "execution_count": 66,
   "metadata": {},
   "outputs": [],
   "source": [
    "d_vocab = model.tokenizer.vocab_size\n",
    "str_tokens = model.to_str_tokens(torch.arange(d_vocab), prepend_bos=False)"
   ]
  },
  {
   "cell_type": "code",
   "execution_count": 67,
   "metadata": {},
   "outputs": [],
   "source": [
    "paren_tokens = [str_token for str_token in str_tokens if \"(\" in str_token or \")\" in str_token]\n",
    "for paren_token in paren_tokens:\n",
    "    for letter in alphabet + alphabet.upper():\n",
    "        if letter in paren_token:\n",
    "            print(paren_token)"
   ]
  },
  {
   "cell_type": "markdown",
   "metadata": {},
   "source": [
    "## Dataset"
   ]
  },
  {
   "cell_type": "code",
   "execution_count": 68,
   "metadata": {},
   "outputs": [],
   "source": [
    "num_brackets = math.ceil(DATASET_SAMPLE_LENGTH / 2)\n",
    "num_letters = DATASET_SAMPLE_LENGTH - num_brackets"
   ]
  },
  {
   "cell_type": "code",
   "execution_count": 69,
   "metadata": {},
   "outputs": [],
   "source": [
    "bracket_delta = 2 * np.random.randint(0, 2, (DATASET_SIZE, num_brackets)) - 1\n",
    "bracket_cumsum = np.cumsum(bracket_delta, axis=1)\n",
    "bracket_cumsum = np.abs(bracket_cumsum)\n",
    "bracket_cumsum = DATASET_MAX_DEPTH - np.abs(DATASET_MAX_DEPTH - bracket_cumsum)\n",
    "bracket_delta = np.diff(bracket_cumsum, axis=1, prepend=0)\n",
    "assert np.all(np.cumsum(bracket_delta, axis=1) == bracket_cumsum)"
   ]
  },
  {
   "cell_type": "code",
   "execution_count": 70,
   "metadata": {},
   "outputs": [
    {
     "data": {
      "text/plain": [
       "array([['(', '(', '(', ..., '(', '(', ')'],\n",
       "       ['(', ')', '(', ..., '(', ')', ')'],\n",
       "       ['(', ')', '(', ..., ')', '(', ')'],\n",
       "       ...,\n",
       "       ['(', ')', '(', ..., ')', '(', '('],\n",
       "       ['(', ')', '(', ..., ')', '(', ')'],\n",
       "       ['(', ')', '(', ..., '(', ')', '(']], dtype='<U1')"
      ]
     },
     "execution_count": 70,
     "metadata": {},
     "output_type": "execute_result"
    }
   ],
   "source": [
    "brackets = np.where(bracket_delta == 1, \"(\", \")\")\n",
    "brackets"
   ]
  },
  {
   "cell_type": "code",
   "execution_count": 71,
   "metadata": {},
   "outputs": [
    {
     "data": {
      "text/plain": [
       "array([['Q', 'n', 'f', ..., 'O', 'x', 'L'],\n",
       "       ['a', 'f', 'w', ..., 'S', 'H', 'v'],\n",
       "       ['l', 'j', 'Y', ..., 'd', 'q', 'h'],\n",
       "       ...,\n",
       "       ['A', 'a', 'A', ..., 'b', 'n', 'd'],\n",
       "       ['f', 'm', 'p', ..., 'y', 'O', 'D'],\n",
       "       ['d', 'L', 'V', ..., 'k', 's', 't']], dtype='<U1')"
      ]
     },
     "execution_count": 71,
     "metadata": {},
     "output_type": "execute_result"
    }
   ],
   "source": [
    "alphabet_full_np = np.array(list(alphabet + alphabet.upper()))\n",
    "letters = alphabet_full_np[\n",
    "    np.random.randint(0, len(alphabet_full_np), (DATASET_SIZE, num_letters))\n",
    "]\n",
    "letters"
   ]
  },
  {
   "cell_type": "code",
   "execution_count": 72,
   "metadata": {},
   "outputs": [
    {
     "data": {
      "text/plain": [
       "array([['(', 'Q', '(', ..., '(', 'L', ')'],\n",
       "       ['(', 'a', ')', ..., ')', 'v', ')'],\n",
       "       ['(', 'l', ')', ..., '(', 'h', ')'],\n",
       "       ...,\n",
       "       ['(', 'A', ')', ..., '(', 'd', '('],\n",
       "       ['(', 'f', ')', ..., '(', 'D', ')'],\n",
       "       ['(', 'd', ')', ..., ')', 't', '(']], dtype='<U1')"
      ]
     },
     "execution_count": 72,
     "metadata": {},
     "output_type": "execute_result"
    }
   ],
   "source": [
    "interleaved = np.empty((DATASET_SIZE, DATASET_SAMPLE_LENGTH), dtype=\"U1\")\n",
    "interleaved[:, ::2] = brackets\n",
    "interleaved[:, 1::2] = letters\n",
    "interleaved"
   ]
  },
  {
   "cell_type": "code",
   "execution_count": 73,
   "metadata": {},
   "outputs": [
    {
     "data": {
      "text/plain": [
       "['(Q(n(f)w)B)l(Z)E(b(z(a)G)O(x(L)',\n",
       " '(a)f(w(g)M)p(R(Z)d)v(T)i(S(H)v)',\n",
       " '(l)j(Y)f(S)x(v(O)d)A(P(P)d)q(h)',\n",
       " '(C)H(w(j)F(p)r(D(t)U)e(B(J)b(r)',\n",
       " '(P(j(e)i(s)e)y(V(U)b(r)y(L)N(N)',\n",
       " '(K(a(k)R(q)s(n)C)D(v)b(Q(Y)H)m(',\n",
       " '(x(K)Q)j(t(S(g)N(h)O)u(u)B)J(q)',\n",
       " '(B)X(k)L(P)c(C(k(s)m)b)n(M)N(M)',\n",
       " '(O(V)x)R(U(E(A)d(t)w(t)l)x(K)P(',\n",
       " '(e(J)W(f)J)s(G)W(G)h(k)c(W(d)u)']"
      ]
     },
     "execution_count": 73,
     "metadata": {},
     "output_type": "execute_result"
    }
   ],
   "source": [
    "dataset = [\"\".join(row) for row in interleaved]\n",
    "dataset[:10]"
   ]
  },
  {
   "cell_type": "markdown",
   "metadata": {},
   "source": [
    "## Checking tokenization"
   ]
  },
  {
   "cell_type": "code",
   "execution_count": 74,
   "metadata": {},
   "outputs": [],
   "source": [
    "tokenized = model.to_tokens(dataset)"
   ]
  },
  {
   "cell_type": "code",
   "execution_count": 75,
   "metadata": {},
   "outputs": [],
   "source": [
    "assert not torch.any(tokenized[:,-1] == 2)"
   ]
  },
  {
   "cell_type": "markdown",
   "metadata": {},
   "source": [
    "## Saving"
   ]
  },
  {
   "cell_type": "code",
   "execution_count": 76,
   "metadata": {},
   "outputs": [
    {
     "data": {
      "text/html": [
       "<div>\n",
       "<style scoped>\n",
       "    .dataframe tbody tr th:only-of-type {\n",
       "        vertical-align: middle;\n",
       "    }\n",
       "\n",
       "    .dataframe tbody tr th {\n",
       "        vertical-align: top;\n",
       "    }\n",
       "\n",
       "    .dataframe thead th {\n",
       "        text-align: right;\n",
       "    }\n",
       "</style>\n",
       "<table border=\"1\" class=\"dataframe\">\n",
       "  <thead>\n",
       "    <tr style=\"text-align: right;\">\n",
       "      <th></th>\n",
       "      <th>text</th>\n",
       "    </tr>\n",
       "  </thead>\n",
       "  <tbody>\n",
       "    <tr>\n",
       "      <th>0</th>\n",
       "      <td>(Q(n(f)w)B)l(Z)E(b(z(a)G)O(x(L)</td>\n",
       "    </tr>\n",
       "    <tr>\n",
       "      <th>1</th>\n",
       "      <td>(a)f(w(g)M)p(R(Z)d)v(T)i(S(H)v)</td>\n",
       "    </tr>\n",
       "    <tr>\n",
       "      <th>2</th>\n",
       "      <td>(l)j(Y)f(S)x(v(O)d)A(P(P)d)q(h)</td>\n",
       "    </tr>\n",
       "    <tr>\n",
       "      <th>3</th>\n",
       "      <td>(C)H(w(j)F(p)r(D(t)U)e(B(J)b(r)</td>\n",
       "    </tr>\n",
       "    <tr>\n",
       "      <th>4</th>\n",
       "      <td>(P(j(e)i(s)e)y(V(U)b(r)y(L)N(N)</td>\n",
       "    </tr>\n",
       "  </tbody>\n",
       "</table>\n",
       "</div>"
      ],
      "text/plain": [
       "                              text\n",
       "0  (Q(n(f)w)B)l(Z)E(b(z(a)G)O(x(L)\n",
       "1  (a)f(w(g)M)p(R(Z)d)v(T)i(S(H)v)\n",
       "2  (l)j(Y)f(S)x(v(O)d)A(P(P)d)q(h)\n",
       "3  (C)H(w(j)F(p)r(D(t)U)e(B(J)b(r)\n",
       "4  (P(j(e)i(s)e)y(V(U)b(r)y(L)N(N)"
      ]
     },
     "execution_count": 76,
     "metadata": {},
     "output_type": "execute_result"
    }
   ],
   "source": [
    "dataset_df = pd.DataFrame(dataset, columns=[\"text\"])\n",
    "dataset_df.head()"
   ]
  },
  {
   "cell_type": "code",
   "execution_count": 77,
   "metadata": {},
   "outputs": [],
   "source": [
    "dataset_df.to_csv(DATA_FILE, index=False)"
   ]
  }
 ],
 "metadata": {
  "kernelspec": {
   "display_name": "causal-networks",
   "language": "python",
   "name": "python3"
  },
  "language_info": {
   "codemirror_mode": {
    "name": "ipython",
    "version": 3
   },
   "file_extension": ".py",
   "mimetype": "text/x-python",
   "name": "python",
   "nbconvert_exporter": "python",
   "pygments_lexer": "ipython3",
   "version": "3.11.2"
  },
  "orig_nbformat": 4
 },
 "nbformat": 4,
 "nbformat_minor": 2
}
