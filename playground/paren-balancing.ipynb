{
 "cells": [
  {
   "attachments": {},
   "cell_type": "markdown",
   "metadata": {},
   "source": [
    "## Setup"
   ]
  },
  {
   "cell_type": "code",
   "execution_count": 60,
   "metadata": {},
   "outputs": [
    {
     "name": "stdout",
     "output_type": "stream",
     "text": [
      "The autoreload extension is already loaded. To reload it, use:\n",
      "  %reload_ext autoreload\n"
     ]
    }
   ],
   "source": [
    "%load_ext autoreload\n",
    "%autoreload 2"
   ]
  },
  {
   "cell_type": "code",
   "execution_count": 61,
   "metadata": {},
   "outputs": [],
   "source": [
    "FORCE_CPU = True\n",
    "SEED = 2384\n",
    "MODEL_NAME = \"gelu-1l\"\n",
    "\n",
    "OPEN_PAREN_STR_TOKENS = [\"(\"]\n",
    "CLOSE_PAREN_STR_TOKENS = [\")\"]\n",
    "SUPPRESSING_STR_TOKENS = [\"(\", \"_\", \",\", \"+\", \".\"]\n",
    "\n",
    "DATA_FILE = \"../data/paren-balancing/single_line.csv\"\n",
    "\n",
    "SAVE_DATA = False\n",
    "LOAD_DATA = True\n",
    "TOKENISED_DATA_FILE = \"saved_data/tokenised_clean_data.pt\"\n",
    "TRAIN_II_DATA_FILE = \"saved_data/train_ii_data.pt\"\n",
    "TEST_II_DATA_FILE = \"saved_data/test_ii_data.pt\"\n",
    "\n",
    "DATASET_MAX_SIZE = 10000\n",
    "TEST_PROPORTION = 0.1\n",
    "TRAIN_II_DATASET_SIZE = 10000\n",
    "TEST_II_DATASET_SIZE = 1000\n",
    "TRAIN_EPOCHS = 10\n",
    "TRAIN_BATCH_SIZE = 16000"
   ]
  },
  {
   "cell_type": "code",
   "execution_count": 62,
   "metadata": {},
   "outputs": [],
   "source": [
    "import random\n",
    "from dataclasses import dataclass\n",
    "from collections import OrderedDict\n",
    "\n",
    "import torch\n",
    "import torch.nn as nn\n",
    "import torch.nn.functional as F\n",
    "import torch.optim as optim\n",
    "from torch.utils.data import DataLoader\n",
    "\n",
    "import numpy as np\n",
    "\n",
    "from scipy.ndimage import gaussian_filter1d\n",
    "\n",
    "import pandas as pd\n",
    "\n",
    "import matplotlib.pyplot as plt\n",
    "\n",
    "import plotly.express as px\n",
    "\n",
    "from transformer_lens import HookedTransformer\n",
    "from transformer_lens.utils import to_numpy\n",
    "\n",
    "from causal_networks.dag import (\n",
    "    DAGModel,\n",
    "    InputNode,\n",
    "    GreaterThanZeroNode,\n",
    "    InSetOutSetNode,\n",
    "    CumSumNode,\n",
    ")\n",
    "from causal_networks.variable_alignment import TransformerVariableAlignment"
   ]
  },
  {
   "cell_type": "code",
   "execution_count": 63,
   "metadata": {},
   "outputs": [
    {
     "name": "stdout",
     "output_type": "stream",
     "text": [
      "cpu\n"
     ]
    }
   ],
   "source": [
    "if not FORCE_CPU and torch.cuda.is_available():\n",
    "    device = torch.device(\"cuda\")\n",
    "else:\n",
    "    device = torch.device(\"cpu\")\n",
    "print(device)"
   ]
  },
  {
   "attachments": {},
   "cell_type": "markdown",
   "metadata": {},
   "source": [
    "## Low-level model"
   ]
  },
  {
   "cell_type": "code",
   "execution_count": 64,
   "metadata": {},
   "outputs": [
    {
     "name": "stdout",
     "output_type": "stream",
     "text": [
      "Loaded pretrained model gelu-1l into HookedTransformer\n"
     ]
    }
   ],
   "source": [
    "model = HookedTransformer.from_pretrained(MODEL_NAME, device=device)"
   ]
  },
  {
   "cell_type": "code",
   "execution_count": 65,
   "metadata": {},
   "outputs": [],
   "source": [
    "d_vocab = model.tokenizer.vocab_size"
   ]
  },
  {
   "cell_type": "code",
   "execution_count": 66,
   "metadata": {},
   "outputs": [
    {
     "name": "stdout",
     "output_type": "stream",
     "text": [
      "Open paren tokens: [10]\n",
      "Closed paren tokens: [11]\n",
      "Suppressing tokens: [10, 65, 14, 13, 16]\n"
     ]
    }
   ],
   "source": [
    "open_paren_tokens = model.to_tokens(\n",
    "    OPEN_PAREN_STR_TOKENS, prepend_bos=False, move_to_device=False, truncate=False\n",
    ")\n",
    "open_paren_tokens = [\n",
    "    open_paren_tokens[i, 0].item() for i in range(open_paren_tokens.shape[0])\n",
    "]\n",
    "\n",
    "closed_paren_tokens = model.to_tokens(\n",
    "    CLOSE_PAREN_STR_TOKENS, prepend_bos=False, move_to_device=False, truncate=False\n",
    ")\n",
    "closed_paren_tokens = [\n",
    "    closed_paren_tokens[i, 0].item() for i in range(closed_paren_tokens.shape[0])\n",
    "]\n",
    "\n",
    "suppressing_tokens = model.to_tokens(\n",
    "    SUPPRESSING_STR_TOKENS, prepend_bos=False, move_to_device=False, truncate=False\n",
    ")\n",
    "suppressing_tokens = [\n",
    "    suppressing_tokens[i, 0].item() for i in range(suppressing_tokens.shape[0])\n",
    "]\n",
    "\n",
    "print(\"Open paren tokens:\", open_paren_tokens)\n",
    "print(\"Closed paren tokens:\", closed_paren_tokens)\n",
    "print(\"Suppressing tokens:\", suppressing_tokens)"
   ]
  },
  {
   "cell_type": "code",
   "execution_count": 67,
   "metadata": {},
   "outputs": [
    {
     "data": {
      "text/plain": [
       "['<|EOS|>', '<|BOS|>', '<|PAD|>', '!', '\"', '#', '$', '%', '&', \"'\"]"
      ]
     },
     "execution_count": 67,
     "metadata": {},
     "output_type": "execute_result"
    }
   ],
   "source": [
    "str_tokens = model.to_str_tokens(torch.arange(d_vocab), prepend_bos=False)\n",
    "str_tokens[:10]"
   ]
  },
  {
   "attachments": {},
   "cell_type": "markdown",
   "metadata": {},
   "source": [
    "## Recurrent DAG"
   ]
  },
  {
   "cell_type": "code",
   "execution_count": 68,
   "metadata": {},
   "outputs": [
    {
     "data": {
      "image/png": "[encoded data removed]",
      "text/plain": [
       "<Figure size 300x100 with 1 Axes>"
      ]
     },
     "metadata": {},
     "output_type": "display_data"
    },
    {
     "data": {
      "text/html": [
       "<pre style=\"white-space:pre;overflow-x:auto;line-height:normal;font-family:Menlo,'DejaVu Sans Mono',consolas,'Courier New',monospace\"><span style=\"font-style: italic\">                  Node Information                   </span>\n",
       "┏━━━━━━┳━━━━━━━━━━━━━━━━━━━━━━━━━━━━━━━━━━━━━━━━━━━━┓\n",
       "┃<span style=\"font-weight: bold\"> Node </span>┃<span style=\"font-weight: bold\"> Module                                     </span>┃\n",
       "┡━━━━━━╇━━━━━━━━━━━━━━━━━━━━━━━━━━━━━━━━━━━━━━━━━━━━┩\n",
       "│ x    │ InputNode()                                │\n",
       "│ v    │ InSetOutSetNode(in_set=[10], out_set=[11]) │\n",
       "│ s    │ CumSumNode(dim=-1)                         │\n",
       "│ c    │ GreaterThanZeroNode()                      │\n",
       "└──────┴────────────────────────────────────────────┘\n",
       "</pre>\n"
      ],
      "text/plain": [
       "\u001b[3m                  Node Information                   \u001b[0m\n",
       "┏━━━━━━┳━━━━━━━━━━━━━━━━━━━━━━━━━━━━━━━━━━━━━━━━━━━━┓\n",
       "┃\u001b[1m \u001b[0m\u001b[1mNode\u001b[0m\u001b[1m \u001b[0m┃\u001b[1m \u001b[0m\u001b[1mModule                                    \u001b[0m\u001b[1m \u001b[0m┃\n",
       "┡━━━━━━╇━━━━━━━━━━━━━━━━━━━━━━━━━━━━━━━━━━━━━━━━━━━━┩\n",
       "│ x    │ InputNode()                                │\n",
       "│ v    │ InSetOutSetNode(in_set=[10], out_set=[11]) │\n",
       "│ s    │ CumSumNode(dim=-1)                         │\n",
       "│ c    │ GreaterThanZeroNode()                      │\n",
       "└──────┴────────────────────────────────────────────┘\n"
      ]
     },
     "metadata": {},
     "output_type": "display_data"
    }
   ],
   "source": [
    "dag1 = DAGModel()\n",
    "\n",
    "\n",
    "def input_display_value_converter(x: torch.Tensor):\n",
    "    if x.ndim == 1:\n",
    "        return str(model.to_str_tokens(x, prepend_bos=False))\n",
    "    elif x.ndim == 2:\n",
    "        return str(\n",
    "            [model.to_str_tokens(x[i], prepend_bos=False) for i in range(x.shape[0])]\n",
    "        )\n",
    "    else:\n",
    "        raise ValueError(\"Unsupported input dimensionality\")\n",
    "\n",
    "def vis_layout(*args, **kwargs):\n",
    "    return dict(x=(0,0), v=(1,0), s=(2,0), c=(3,0))\n",
    "\n",
    "dag1.add_node(\n",
    "    \"x\",\n",
    "    InputNode(display_value_converter=input_display_value_converter),\n",
    ")\n",
    "dag1.add_node(\"v\", InSetOutSetNode(open_paren_tokens, closed_paren_tokens))\n",
    "dag1.add_node(\"s\", CumSumNode())\n",
    "dag1.add_node(\"c\", GreaterThanZeroNode())\n",
    "\n",
    "dag1.add_edge(\"x\", \"v\")\n",
    "dag1.add_edge(\"v\", \"s\")\n",
    "dag1.add_edge(\"s\", \"c\")\n",
    "\n",
    "dag1.set_visualization_params(layout=vis_layout, canvas_size=(3, 1))\n",
    "\n",
    "dag1.visualize()"
   ]
  },
  {
   "cell_type": "code",
   "execution_count": 69,
   "metadata": {},
   "outputs": [],
   "source": [
    "def string_to_dag_inputs(strings: str | list[str], unsqueeze_batch_dim=False):\n",
    "    if isinstance(strings, str):\n",
    "        strings = [strings]\n",
    "    tokens = model.to_tokens(strings)\n",
    "    if unsqueeze_batch_dim:\n",
    "        tokens = tokens.unsqueeze(0)\n",
    "    return dict(x=tokens)"
   ]
  },
  {
   "cell_type": "code",
   "execution_count": 70,
   "metadata": {},
   "outputs": [
    {
     "name": "stdout",
     "output_type": "stream",
     "text": [
      "string1 dag input {'x': tensor([[ 1, 10, 70, 10, 70, 11, 70, 11, 70]])}\n",
      "string2 dag input {'x': tensor([[ 1, 10, 70, 11, 70, 10, 70, 11, 70]])}\n"
     ]
    }
   ],
   "source": [
    "string1 = \"(d(d)d)d\"\n",
    "string2 = \"(d)d(d)d\"\n",
    "print(\"string1 dag input\", string_to_dag_inputs(string1))\n",
    "print(\"string2 dag input\", string_to_dag_inputs(string2))"
   ]
  },
  {
   "cell_type": "code",
   "execution_count": 71,
   "metadata": {},
   "outputs": [
    {
     "data": {
      "text/plain": [
       "{'c': tensor([[False,  True,  True, False, False,  True,  True, False, False]])}"
      ]
     },
     "execution_count": 71,
     "metadata": {},
     "output_type": "execute_result"
    }
   ],
   "source": [
    "dag1(string_to_dag_inputs([string2]))"
   ]
  },
  {
   "cell_type": "code",
   "execution_count": 72,
   "metadata": {},
   "outputs": [
    {
     "data": {
      "image/png": "[encoded data removed]",
      "text/plain": [
       "<Figure size 300x100 with 1 Axes>"
      ]
     },
     "metadata": {},
     "output_type": "display_data"
    },
    {
     "data": {
      "text/html": [
       "<pre style=\"white-space:pre;overflow-x:auto;line-height:normal;font-family:Menlo,'DejaVu Sans Mono',consolas,'Courier New',monospace\"><span style=\"font-style: italic\">                                                 Node Information                                                  </span>\n",
       "┏━━━━━━┳━━━━━━━━━━━━━━━━━━━━━━━━━━━━━━━━━━━━━━━━━━━━┳━━━━━━━━━━━━━━━━━━━━━━━━━━━━━━━━━━━━━━━━━━━━━━━━━━━━━━━━━━━━━┓\n",
       "┃<span style=\"font-weight: bold\"> Node </span>┃<span style=\"font-weight: bold\"> Module                                     </span>┃<span style=\"font-weight: bold\"> Value                                                       </span>┃\n",
       "┡━━━━━━╇━━━━━━━━━━━━━━━━━━━━━━━━━━━━━━━━━━━━━━━━━━━━╇━━━━━━━━━━━━━━━━━━━━━━━━━━━━━━━━━━━━━━━━━━━━━━━━━━━━━━━━━━━━━┩\n",
       "│ x    │ InputNode()                                │ [['&lt;|BOS|&gt;', '(', 'd', ')', 'd', '(', 'd', ')', 'd']]       │\n",
       "│ v    │ InSetOutSetNode(in_set=[10], out_set=[11]) │ [[0, 1, 0, -1, 0, 1, 0, -1, 0]]                             │\n",
       "│ s    │ CumSumNode(dim=-1)                         │ [[0, 1, 1, 0, 0, 1, 1, 0, 0]]                               │\n",
       "│ c    │ GreaterThanZeroNode()                      │ [[False, True, True, False, False, True, True, False,       │\n",
       "│      │                                            │ False]]                                                     │\n",
       "└──────┴────────────────────────────────────────────┴─────────────────────────────────────────────────────────────┘\n",
       "</pre>\n"
      ],
      "text/plain": [
       "\u001b[3m                                                 Node Information                                                  \u001b[0m\n",
       "┏━━━━━━┳━━━━━━━━━━━━━━━━━━━━━━━━━━━━━━━━━━━━━━━━━━━━┳━━━━━━━━━━━━━━━━━━━━━━━━━━━━━━━━━━━━━━━━━━━━━━━━━━━━━━━━━━━━━┓\n",
       "┃\u001b[1m \u001b[0m\u001b[1mNode\u001b[0m\u001b[1m \u001b[0m┃\u001b[1m \u001b[0m\u001b[1mModule                                    \u001b[0m\u001b[1m \u001b[0m┃\u001b[1m \u001b[0m\u001b[1mValue                                                      \u001b[0m\u001b[1m \u001b[0m┃\n",
       "┡━━━━━━╇━━━━━━━━━━━━━━━━━━━━━━━━━━━━━━━━━━━━━━━━━━━━╇━━━━━━━━━━━━━━━━━━━━━━━━━━━━━━━━━━━━━━━━━━━━━━━━━━━━━━━━━━━━━┩\n",
       "│ x    │ InputNode()                                │ [['<|BOS|>', '(', 'd', ')', 'd', '(', 'd', ')', 'd']]       │\n",
       "│ v    │ InSetOutSetNode(in_set=[10], out_set=[11]) │ [[0, 1, 0, -1, 0, 1, 0, -1, 0]]                             │\n",
       "│ s    │ CumSumNode(dim=-1)                         │ [[0, 1, 1, 0, 0, 1, 1, 0, 0]]                               │\n",
       "│ c    │ GreaterThanZeroNode()                      │ [[False, True, True, False, False, True, True, False,       │\n",
       "│      │                                            │ False]]                                                     │\n",
       "└──────┴────────────────────────────────────────────┴─────────────────────────────────────────────────────────────┘\n"
      ]
     },
     "metadata": {},
     "output_type": "display_data"
    }
   ],
   "source": [
    "dag1.visualize(display_node_values=True)"
   ]
  },
  {
   "cell_type": "code",
   "execution_count": 73,
   "metadata": {},
   "outputs": [
    {
     "data": {
      "image/png": "[encoded data removed]",
      "text/plain": [
       "<Figure size 300x100 with 1 Axes>"
      ]
     },
     "metadata": {},
     "output_type": "display_data"
    },
    {
     "data": {
      "text/html": [
       "<pre style=\"white-space:pre;overflow-x:auto;line-height:normal;font-family:Menlo,'DejaVu Sans Mono',consolas,'Courier New',monospace\"><span style=\"font-style: italic\">                                                 Node Information                                                  </span>\n",
       "┏━━━━━━┳━━━━━━━━━━━━━━━━━━━━━━━━━━━━━━━━━━━━━━━━━━━━┳━━━━━━━━━━━━━━━━━━━━━━━━━━━━━━━━━━━━━━━━━━━━━━━━━━━━━━━━━━━━━┓\n",
       "┃<span style=\"font-weight: bold\"> Node </span>┃<span style=\"font-weight: bold\"> Module                                     </span>┃<span style=\"font-weight: bold\"> Value                                                       </span>┃\n",
       "┡━━━━━━╇━━━━━━━━━━━━━━━━━━━━━━━━━━━━━━━━━━━━━━━━━━━━╇━━━━━━━━━━━━━━━━━━━━━━━━━━━━━━━━━━━━━━━━━━━━━━━━━━━━━━━━━━━━━┩\n",
       "│ x    │ InputNode()                                │ [['&lt;|BOS|&gt;', '(', 'd', '(', 'd', ')', 'd', ')', 'd']]       │\n",
       "│ v    │ InSetOutSetNode(in_set=[10], out_set=[11]) │ [[0, 1, 0, -1, 0, -1, 0, -1, 0]]                            │\n",
       "│ s    │ CumSumNode(dim=-1)                         │ [[0, 1, 1, 0, 0, -1, -1, -2, -2]]                           │\n",
       "│ c    │ GreaterThanZeroNode()                      │ [[False, True, True, False, False, False, False, False,     │\n",
       "│      │                                            │ False]]                                                     │\n",
       "└──────┴────────────────────────────────────────────┴─────────────────────────────────────────────────────────────┘\n",
       "</pre>\n"
      ],
      "text/plain": [
       "\u001b[3m                                                 Node Information                                                  \u001b[0m\n",
       "┏━━━━━━┳━━━━━━━━━━━━━━━━━━━━━━━━━━━━━━━━━━━━━━━━━━━━┳━━━━━━━━━━━━━━━━━━━━━━━━━━━━━━━━━━━━━━━━━━━━━━━━━━━━━━━━━━━━━┓\n",
       "┃\u001b[1m \u001b[0m\u001b[1mNode\u001b[0m\u001b[1m \u001b[0m┃\u001b[1m \u001b[0m\u001b[1mModule                                    \u001b[0m\u001b[1m \u001b[0m┃\u001b[1m \u001b[0m\u001b[1mValue                                                      \u001b[0m\u001b[1m \u001b[0m┃\n",
       "┡━━━━━━╇━━━━━━━━━━━━━━━━━━━━━━━━━━━━━━━━━━━━━━━━━━━━╇━━━━━━━━━━━━━━━━━━━━━━━━━━━━━━━━━━━━━━━━━━━━━━━━━━━━━━━━━━━━━┩\n",
       "│ x    │ InputNode()                                │ [['<|BOS|>', '(', 'd', '(', 'd', ')', 'd', ')', 'd']]       │\n",
       "│ v    │ InSetOutSetNode(in_set=[10], out_set=[11]) │ [[0, 1, 0, -1, 0, -1, 0, -1, 0]]                            │\n",
       "│ s    │ CumSumNode(dim=-1)                         │ [[0, 1, 1, 0, 0, -1, -1, -2, -2]]                           │\n",
       "│ c    │ GreaterThanZeroNode()                      │ [[False, True, True, False, False, False, False, False,     │\n",
       "│      │                                            │ False]]                                                     │\n",
       "└──────┴────────────────────────────────────────────┴─────────────────────────────────────────────────────────────┘\n"
      ]
     },
     "metadata": {},
     "output_type": "display_data"
    }
   ],
   "source": [
    "intervention_v_mask = torch.zeros([1, 2, 9], dtype=torch.bool)\n",
    "intervention_v_mask[0, 0, 1] = True\n",
    "intervention_v_mask[0, 1, 3] = True\n",
    "\n",
    "dag1.run_interchange_intervention(\n",
    "    base_input=string_to_dag_inputs([string1]),\n",
    "    source_inputs=string_to_dag_inputs([string1, string2], unsqueeze_batch_dim=True),\n",
    "    intervention_mask={\"v\": intervention_v_mask},\n",
    ")\n",
    "dag1.visualize(display_node_values=True)"
   ]
  },
  {
   "attachments": {},
   "cell_type": "markdown",
   "metadata": {},
   "source": [
    "## Variable alignment"
   ]
  },
  {
   "cell_type": "code",
   "execution_count": null,
   "metadata": {},
   "outputs": [
    {
     "data": {
      "text/plain": [
       "['hook_embed',\n",
       " 'hook_pos_embed',\n",
       " 'blocks.0.ln1.hook_scale',\n",
       " 'blocks.0.ln1.hook_normalized',\n",
       " 'blocks.0.ln2.hook_scale',\n",
       " 'blocks.0.ln2.hook_normalized',\n",
       " 'blocks.0.attn.hook_k',\n",
       " 'blocks.0.attn.hook_q',\n",
       " 'blocks.0.attn.hook_v',\n",
       " 'blocks.0.attn.hook_z',\n",
       " 'blocks.0.attn.hook_attn_scores',\n",
       " 'blocks.0.attn.hook_pattern',\n",
       " 'blocks.0.attn.hook_result',\n",
       " 'blocks.0.mlp.hook_pre',\n",
       " 'blocks.0.mlp.hook_post',\n",
       " 'blocks.0.hook_q_input',\n",
       " 'blocks.0.hook_k_input',\n",
       " 'blocks.0.hook_v_input',\n",
       " 'blocks.0.hook_attn_out',\n",
       " 'blocks.0.hook_mlp_in',\n",
       " 'blocks.0.hook_mlp_out',\n",
       " 'blocks.0.hook_resid_pre',\n",
       " 'blocks.0.hook_resid_mid',\n",
       " 'blocks.0.hook_resid_post',\n",
       " 'ln_final.hook_scale',\n",
       " 'ln_final.hook_normalized']"
      ]
     },
     "execution_count": 21,
     "metadata": {},
     "output_type": "execute_result"
    }
   ],
   "source": [
    "list(model.hook_dict.keys())"
   ]
  },
  {
   "cell_type": "code",
   "execution_count": null,
   "metadata": {},
   "outputs": [
    {
     "name": "stdout",
     "output_type": "stream",
     "text": [
      "Running model to determine activation space size...\n"
     ]
    }
   ],
   "source": [
    "def input_alignment(x: torch.tensor, vectorised=False):\n",
    "    if vectorised:\n",
    "        return dict(x=to_numpy(x))\n",
    "    if x.ndim == 1:\n",
    "        return dict(x=model.to_str_tokens(x))\n",
    "    elif x.ndim == 2:\n",
    "        return [\n",
    "            dict(\n",
    "                x=model.to_str_tokens(x[i]),\n",
    "            )\n",
    "            for i in range(x.shape[0])\n",
    "        ]\n",
    "    else:\n",
    "        raise ValueError(\"Invalid input shape\")\n",
    "\n",
    "\n",
    "def output_alignment(y: torch.tensor):\n",
    "    return dict(y=list(to_numpy(torch.argmax(y, dim=-1))))\n",
    "\n",
    "\n",
    "def output_modifier(y: torch.tensor):\n",
    "    binary_output = torch.empty(*y.shape[:-1], 2, device=y.device)\n",
    "    binary_output[..., 0] = y[..., open_paren_tokens].sum(dim=-1)\n",
    "    binary_output[..., 1] = y[..., closed_paren_tokens].sum(dim=-1)\n",
    "    \n",
    "    return F.softmax(binary_output, dim=-1)\n",
    "\n",
    "variable_alignment = VariableAlignmentTransformer(\n",
    "    dag=dag1,\n",
    "    low_level_model=model,\n",
    "    dag_nodes=[\"s\"],\n",
    "    input_alignment=input_alignment,\n",
    "    output_alignment=output_alignment,\n",
    "    intervene_model_hooks=[\"blocks.0.hook_resid_mid\"],\n",
    "    subspaces_sizes=[128],\n",
    "    output_modifier=output_modifier,\n",
    "    device=device,\n",
    "    verbosity=1,\n",
    ")"
   ]
  },
  {
   "cell_type": "code",
   "execution_count": null,
   "metadata": {},
   "outputs": [
    {
     "data": {
      "text/plain": [
       "tensor([[ 1, 10, 70, 10, 70, 11, 70, 11, 70],\n",
       "        [ 1, 10, 70, 11, 70, 10, 70, 11, 70]], device='cuda:0')"
      ]
     },
     "execution_count": 23,
     "metadata": {},
     "output_type": "execute_result"
    }
   ],
   "source": [
    "model.to_tokens([string1, string2])"
   ]
  },
  {
   "cell_type": "code",
   "execution_count": null,
   "metadata": {},
   "outputs": [
    {
     "name": "stdout",
     "output_type": "stream",
     "text": [
      "Creating interchange intervention dataset...\n"
     ]
    },
    {
     "name": "stderr",
     "output_type": "stream",
     "text": [
      "Precomputing activation vectors: 100%|██████████| 1/1 [00:00<00:00, 223.66it/s]\n",
      "Computing gold outputs: 100%|██████████| 10/10 [00:00<00:00, 2733.34it/s]\n"
     ]
    },
    {
     "data": {
      "text/plain": [
       "(tensor([ 1, 10, 70, 11, 70, 10, 70, 11, 70]),\n",
       " tensor([[[ 1, 10, 70, 11, 70, 10, 70, 11, 70],\n",
       "          [ 1, 10, 70, 11, 70, 10, 70, 11, 70],\n",
       "          [ 1, 10, 70, 11, 70, 10, 70, 11, 70],\n",
       "          [ 1, 10, 70, 11, 70, 10, 70, 11, 70],\n",
       "          [ 1, 10, 70, 11, 70, 10, 70, 11, 70],\n",
       "          [ 1, 10, 70, 11, 70, 10, 70, 11, 70],\n",
       "          [ 1, 10, 70, 10, 70, 11, 70, 11, 70],\n",
       "          [ 1, 10, 70, 11, 70, 10, 70, 11, 70],\n",
       "          [ 1, 10, 70, 11, 70, 10, 70, 11, 70]]]),\n",
       " tensor([[[ 0.1987,  0.2988, -0.2028,  ..., -0.1113,  0.0219, -0.1860],\n",
       "          [ 0.0716,  0.3524,  0.1183,  ...,  0.0634,  0.1977,  0.0485],\n",
       "          [ 0.2872,  0.0938,  0.4312,  ...,  0.0091,  0.4367,  0.1501],\n",
       "          ...,\n",
       "          [ 0.3341,  0.1542,  0.6004,  ...,  0.0055,  0.5116,  0.2204],\n",
       "          [-0.0367,  0.3568,  0.1034,  ...,  0.2684,  0.2692, -0.2830],\n",
       "          [ 0.3733,  0.0024,  0.3274,  ..., -0.0718,  0.6497,  0.1244]],\n",
       " \n",
       "         [[ 0.1987,  0.2988, -0.2028,  ..., -0.1113,  0.0219, -0.1860],\n",
       "          [ 0.0716,  0.3524,  0.1183,  ...,  0.0634,  0.1977,  0.0485],\n",
       "          [ 0.2872,  0.0938,  0.4312,  ...,  0.0091,  0.4367,  0.1501],\n",
       "          ...,\n",
       "          [ 0.3341,  0.1542,  0.6004,  ...,  0.0055,  0.5116,  0.2204],\n",
       "          [-0.0367,  0.3568,  0.1034,  ...,  0.2684,  0.2692, -0.2830],\n",
       "          [ 0.3733,  0.0024,  0.3274,  ..., -0.0718,  0.6497,  0.1244]],\n",
       " \n",
       "         [[ 0.1987,  0.2988, -0.2028,  ..., -0.1113,  0.0219, -0.1860],\n",
       "          [ 0.0716,  0.3524,  0.1183,  ...,  0.0634,  0.1977,  0.0485],\n",
       "          [ 0.2872,  0.0938,  0.4312,  ...,  0.0091,  0.4367,  0.1501],\n",
       "          ...,\n",
       "          [ 0.3341,  0.1542,  0.6004,  ...,  0.0055,  0.5116,  0.2204],\n",
       "          [-0.0367,  0.3568,  0.1034,  ...,  0.2684,  0.2692, -0.2830],\n",
       "          [ 0.3733,  0.0024,  0.3274,  ..., -0.0718,  0.6497,  0.1244]],\n",
       " \n",
       "         ...,\n",
       " \n",
       "         [[ 0.1987,  0.2988, -0.2028,  ..., -0.1113,  0.0219, -0.1860],\n",
       "          [ 0.0716,  0.3524,  0.1183,  ...,  0.0634,  0.1977,  0.0485],\n",
       "          [ 0.2872,  0.0938,  0.4312,  ...,  0.0091,  0.4367,  0.1501],\n",
       "          ...,\n",
       "          [ 0.3952,  0.0488,  0.3497,  ..., -0.1454,  0.5359,  0.1040],\n",
       "          [-0.0362,  0.3238,  0.0227,  ...,  0.2225,  0.2904, -0.3171],\n",
       "          [ 0.3756, -0.0249,  0.2792,  ..., -0.1151,  0.6550,  0.0970]],\n",
       " \n",
       "         [[ 0.1987,  0.2988, -0.2028,  ..., -0.1113,  0.0219, -0.1860],\n",
       "          [ 0.0716,  0.3524,  0.1183,  ...,  0.0634,  0.1977,  0.0485],\n",
       "          [ 0.2872,  0.0938,  0.4312,  ...,  0.0091,  0.4367,  0.1501],\n",
       "          ...,\n",
       "          [ 0.3341,  0.1542,  0.6004,  ...,  0.0055,  0.5116,  0.2204],\n",
       "          [-0.0367,  0.3568,  0.1034,  ...,  0.2684,  0.2692, -0.2830],\n",
       "          [ 0.3733,  0.0024,  0.3274,  ..., -0.0718,  0.6497,  0.1244]],\n",
       " \n",
       "         [[ 0.1987,  0.2988, -0.2028,  ..., -0.1113,  0.0219, -0.1860],\n",
       "          [ 0.0716,  0.3524,  0.1183,  ...,  0.0634,  0.1977,  0.0485],\n",
       "          [ 0.2872,  0.0938,  0.4312,  ...,  0.0091,  0.4367,  0.1501],\n",
       "          ...,\n",
       "          [ 0.3341,  0.1542,  0.6004,  ...,  0.0055,  0.5116,  0.2204],\n",
       "          [-0.0367,  0.3568,  0.1034,  ...,  0.2684,  0.2692, -0.2830],\n",
       "          [ 0.3733,  0.0024,  0.3274,  ..., -0.0718,  0.6497,  0.1244]]]),\n",
       " tensor([0, 1, 1, 0, 0, 1, 1, 0, 0]))"
      ]
     },
     "execution_count": 24,
     "metadata": {},
     "output_type": "execute_result"
    }
   ],
   "source": [
    "dataset = variable_alignment.create_interchange_intervention_dataset(\n",
    "    model.to_tokens([string1, string2], move_to_device=False), num_samples=10\n",
    ")\n",
    "dataset[0]"
   ]
  },
  {
   "cell_type": "code",
   "execution_count": null,
   "metadata": {},
   "outputs": [],
   "source": [
    "output = variable_alignment.run_distributed_interchange_intervention(\n",
    "    dataset[:][0].to(device), dataset[:][1].to(device), dataset[:][2].to(device)\n",
    ")"
   ]
  },
  {
   "cell_type": "code",
   "execution_count": null,
   "metadata": {},
   "outputs": [
    {
     "data": {
      "text/plain": [
       "torch.Size([10, 9, 2])"
      ]
     },
     "execution_count": 26,
     "metadata": {},
     "output_type": "execute_result"
    }
   ],
   "source": [
    "output.shape"
   ]
  },
  {
   "cell_type": "code",
   "execution_count": null,
   "metadata": {},
   "outputs": [
    {
     "data": {
      "text/plain": [
       "tensor([[0, 0, 1, 0, 1, 0, 1, 0, 1],\n",
       "        [0, 0, 1, 0, 1, 0, 1, 0, 1],\n",
       "        [0, 0, 1, 1, 1, 1, 1, 0, 0],\n",
       "        [0, 0, 1, 0, 1, 0, 1, 0, 1],\n",
       "        [0, 0, 1, 1, 1, 0, 1, 0, 0],\n",
       "        [0, 0, 1, 0, 1, 0, 1, 0, 1],\n",
       "        [0, 0, 1, 0, 1, 0, 1, 0, 1],\n",
       "        [0, 0, 1, 0, 1, 0, 1, 0, 1],\n",
       "        [0, 0, 1, 0, 1, 0, 1, 0, 1],\n",
       "        [0, 0, 1, 0, 1, 0, 1, 0, 1]], device='cuda:0')"
      ]
     },
     "execution_count": 27,
     "metadata": {},
     "output_type": "execute_result"
    }
   ],
   "source": [
    "output.argmax(dim=-1)"
   ]
  },
  {
   "attachments": {},
   "cell_type": "markdown",
   "metadata": {},
   "source": [
    "## Data"
   ]
  },
  {
   "cell_type": "code",
   "execution_count": null,
   "metadata": {},
   "outputs": [],
   "source": [
    "data_df = pd.read_csv(DATA_FILE)"
   ]
  },
  {
   "cell_type": "code",
   "execution_count": null,
   "metadata": {},
   "outputs": [],
   "source": [
    "data_df = data_df[:DATASET_MAX_SIZE]"
   ]
  },
  {
   "cell_type": "code",
   "execution_count": null,
   "metadata": {},
   "outputs": [
    {
     "data": {
      "text/html": [
       "<div>\n",
       "<style scoped>\n",
       "    .dataframe tbody tr th:only-of-type {\n",
       "        vertical-align: middle;\n",
       "    }\n",
       "\n",
       "    .dataframe tbody tr th {\n",
       "        vertical-align: top;\n",
       "    }\n",
       "\n",
       "    .dataframe thead th {\n",
       "        text-align: right;\n",
       "    }\n",
       "</style>\n",
       "<table border=\"1\" class=\"dataframe\">\n",
       "  <thead>\n",
       "    <tr style=\"text-align: right;\">\n",
       "      <th></th>\n",
       "      <th>text</th>\n",
       "    </tr>\n",
       "  </thead>\n",
       "  <tbody>\n",
       "    <tr>\n",
       "      <th>count</th>\n",
       "      <td>10000</td>\n",
       "    </tr>\n",
       "    <tr>\n",
       "      <th>unique</th>\n",
       "      <td>9949</td>\n",
       "    </tr>\n",
       "    <tr>\n",
       "      <th>top</th>\n",
       "      <td>.1</td>\n",
       "    </tr>\n",
       "    <tr>\n",
       "      <th>freq</th>\n",
       "      <td>18</td>\n",
       "    </tr>\n",
       "  </tbody>\n",
       "</table>\n",
       "</div>"
      ],
      "text/plain": [
       "         text\n",
       "count   10000\n",
       "unique   9949\n",
       "top        .1\n",
       "freq       18"
      ]
     },
     "execution_count": 30,
     "metadata": {},
     "output_type": "execute_result"
    }
   ],
   "source": [
    "data_df.describe()"
   ]
  },
  {
   "cell_type": "code",
   "execution_count": null,
   "metadata": {},
   "outputs": [
    {
     "data": {
      "text/html": [
       "<div>\n",
       "<style scoped>\n",
       "    .dataframe tbody tr th:only-of-type {\n",
       "        vertical-align: middle;\n",
       "    }\n",
       "\n",
       "    .dataframe tbody tr th {\n",
       "        vertical-align: top;\n",
       "    }\n",
       "\n",
       "    .dataframe thead th {\n",
       "        text-align: right;\n",
       "    }\n",
       "</style>\n",
       "<table border=\"1\" class=\"dataframe\">\n",
       "  <thead>\n",
       "    <tr style=\"text-align: right;\">\n",
       "      <th></th>\n",
       "      <th>text</th>\n",
       "    </tr>\n",
       "  </thead>\n",
       "  <tbody>\n",
       "    <tr>\n",
       "      <th>0</th>\n",
       "      <td>disabled = not self._is_active(key)</td>\n",
       "    </tr>\n",
       "    <tr>\n",
       "      <th>1</th>\n",
       "      <td>self._widgets[key].append(</td>\n",
       "    </tr>\n",
       "    <tr>\n",
       "      <th>2</th>\n",
       "      <td>self._widgets[key].append(.1</td>\n",
       "    </tr>\n",
       "    <tr>\n",
       "      <th>3</th>\n",
       "      <td>self._widgets[key].append(.2</td>\n",
       "    </tr>\n",
       "    <tr>\n",
       "      <th>4</th>\n",
       "      <td>self._widgets[key].append(.3</td>\n",
       "    </tr>\n",
       "  </tbody>\n",
       "</table>\n",
       "</div>"
      ],
      "text/plain": [
       "                                              text\n",
       "0              disabled = not self._is_active(key)\n",
       "1                       self._widgets[key].append(\n",
       "2                     self._widgets[key].append(.1\n",
       "3                     self._widgets[key].append(.2\n",
       "4                     self._widgets[key].append(.3"
      ]
     },
     "execution_count": 31,
     "metadata": {},
     "output_type": "execute_result"
    }
   ],
   "source": [
    "data_df.head()"
   ]
  },
  {
   "cell_type": "code",
   "execution_count": null,
   "metadata": {},
   "outputs": [],
   "source": [
    "if LOAD_DATA:\n",
    "    data_tokens = torch.load(TOKENISED_DATA_FILE)\n",
    "else:\n",
    "    data_tokens = model.to_tokens(data_df[\"text\"].values, move_to_device=False)\n",
    "\n",
    "if SAVE_DATA:\n",
    "    torch.save(data_tokens, TOKENISED_DATA_FILE)"
   ]
  },
  {
   "cell_type": "code",
   "execution_count": null,
   "metadata": {},
   "outputs": [
    {
     "data": {
      "text/plain": [
       "torch.Size([10000, 95])"
      ]
     },
     "execution_count": 33,
     "metadata": {},
     "output_type": "execute_result"
    }
   ],
   "source": [
    "data_tokens.shape"
   ]
  },
  {
   "cell_type": "code",
   "execution_count": null,
   "metadata": {},
   "outputs": [
    {
     "name": "stdout",
     "output_type": "stream",
     "text": [
      "Train tokens shape: torch.Size([9000, 95])\n",
      "Test tokens shape: torch.Size([1000, 95])\n"
     ]
    }
   ],
   "source": [
    "train_tokens = data_tokens[int(TEST_PROPORTION * data_tokens.shape[0]) :]\n",
    "test_tokens = data_tokens[: int(TEST_PROPORTION * data_tokens.shape[0])]\n",
    "print(\"Train tokens shape:\", train_tokens.shape)\n",
    "print(\"Test tokens shape:\", test_tokens.shape)"
   ]
  },
  {
   "attachments": {},
   "cell_type": "markdown",
   "metadata": {},
   "source": [
    "## Interchange intervention training"
   ]
  },
  {
   "cell_type": "code",
   "execution_count": null,
   "metadata": {},
   "outputs": [],
   "source": [
    "if LOAD_DATA:\n",
    "    train_ii_dataset = torch.load(TRAIN_II_DATA_FILE)\n",
    "    test_ii_dataset = torch.load(TEST_II_DATA_FILE)\n",
    "else:\n",
    "    train_ii_dataset = variable_alignment.create_interchange_intervention_dataset(\n",
    "        train_tokens, num_samples=TRAIN_II_DATASET_SIZE\n",
    "    )\n",
    "    test_ii_dataset = variable_alignment.create_interchange_intervention_dataset(\n",
    "        test_tokens, num_samples=TEST_II_DATASET_SIZE\n",
    "    )\n",
    "\n",
    "if SAVE_DATA:\n",
    "    torch.save(train_ii_dataset, TRAIN_II_DATA_FILE)\n",
    "    torch.save(test_ii_dataset, TEST_II_DATA_FILE)"
   ]
  },
  {
   "cell_type": "code",
   "execution_count": null,
   "metadata": {},
   "outputs": [
    {
     "name": "stderr",
     "output_type": "stream",
     "text": [
      "Epoch [1/10]:   0%|          | 0/105 [00:00<?, ?it/s]"
     ]
    },
    {
     "name": "stderr",
     "output_type": "stream",
     "text": [
      "Epoch [1/10]: 100%|██████████| 105/105 [07:08<00:00,  4.08s/it]\n"
     ]
    },
    {
     "name": "stdout",
     "output_type": "stream",
     "text": [
      "Loss: 0.77989, Accuracy: 0.41062\n"
     ]
    },
    {
     "name": "stderr",
     "output_type": "stream",
     "text": [
      "Epoch [2/10]: 100%|██████████| 105/105 [06:00<00:00,  3.43s/it]\n"
     ]
    },
    {
     "name": "stdout",
     "output_type": "stream",
     "text": [
      "Loss: 0.76389, Accuracy: 0.43462\n"
     ]
    },
    {
     "name": "stderr",
     "output_type": "stream",
     "text": [
      "Epoch [3/10]: 100%|██████████| 105/105 [07:20<00:00,  4.19s/it]\n"
     ]
    },
    {
     "name": "stdout",
     "output_type": "stream",
     "text": [
      "Loss: 0.75930, Accuracy: 0.44160\n"
     ]
    },
    {
     "name": "stderr",
     "output_type": "stream",
     "text": [
      "Epoch [4/10]: 100%|██████████| 105/105 [05:44<00:00,  3.28s/it]\n"
     ]
    },
    {
     "name": "stdout",
     "output_type": "stream",
     "text": [
      "Loss: 0.75659, Accuracy: 0.44569\n"
     ]
    },
    {
     "name": "stderr",
     "output_type": "stream",
     "text": [
      "Epoch [5/10]: 100%|██████████| 105/105 [06:43<00:00,  3.84s/it]\n"
     ]
    },
    {
     "name": "stdout",
     "output_type": "stream",
     "text": [
      "Loss: 0.75468, Accuracy: 0.44869\n"
     ]
    },
    {
     "name": "stderr",
     "output_type": "stream",
     "text": [
      "Epoch [6/10]: 100%|██████████| 105/105 [06:31<00:00,  3.73s/it]\n"
     ]
    },
    {
     "name": "stdout",
     "output_type": "stream",
     "text": [
      "Loss: 0.75323, Accuracy: 0.45093\n"
     ]
    },
    {
     "name": "stderr",
     "output_type": "stream",
     "text": [
      "Epoch [7/10]: 100%|██████████| 105/105 [07:14<00:00,  4.14s/it]\n"
     ]
    },
    {
     "name": "stdout",
     "output_type": "stream",
     "text": [
      "Loss: 0.75207, Accuracy: 0.45268\n"
     ]
    },
    {
     "name": "stderr",
     "output_type": "stream",
     "text": [
      "Epoch [8/10]: 100%|██████████| 105/105 [06:22<00:00,  3.65s/it]\n"
     ]
    },
    {
     "name": "stdout",
     "output_type": "stream",
     "text": [
      "Loss: 0.75112, Accuracy: 0.45403\n"
     ]
    },
    {
     "name": "stderr",
     "output_type": "stream",
     "text": [
      "Epoch [9/10]: 100%|██████████| 105/105 [07:25<00:00,  4.24s/it]\n"
     ]
    },
    {
     "name": "stdout",
     "output_type": "stream",
     "text": [
      "Loss: 0.75031, Accuracy: 0.45526\n"
     ]
    },
    {
     "name": "stderr",
     "output_type": "stream",
     "text": [
      "Epoch [10/10]: 100%|██████████| 105/105 [07:32<00:00,  4.30s/it]"
     ]
    },
    {
     "name": "stdout",
     "output_type": "stream",
     "text": [
      "Loss: 0.74962, Accuracy: 0.45636\n"
     ]
    },
    {
     "name": "stderr",
     "output_type": "stream",
     "text": [
      "\n"
     ]
    }
   ],
   "source": [
    "losses, accuracies = variable_alignment.train_rotation_matrix(\n",
    "    ii_dataset=train_ii_dataset, num_epochs=TRAIN_EPOCHS, batch_size=96, lr=100\n",
    ")"
   ]
  }
 ],
 "metadata": {
  "kernelspec": {
   "display_name": "causal-networks",
   "language": "python",
   "name": "python3"
  },
  "language_info": {
   "codemirror_mode": {
    "name": "ipython",
    "version": 3
   },
   "file_extension": ".py",
   "mimetype": "text/x-python",
   "name": "python",
   "nbconvert_exporter": "python",
   "pygments_lexer": "ipython3",
   "version": "3.11.2"
  },
  "orig_nbformat": 4
 },
 "nbformat": 4,
 "nbformat_minor": 2
}
