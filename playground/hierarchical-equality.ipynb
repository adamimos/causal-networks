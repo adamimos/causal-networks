{
 "cells": [
  {
   "attachments": {},
   "cell_type": "markdown",
   "metadata": {},
   "source": [
    "## Setup"
   ]
  },
  {
   "cell_type": "code",
   "execution_count": 72,
   "metadata": {},
   "outputs": [
    {
     "name": "stdout",
     "output_type": "stream",
     "text": [
      "The autoreload extension is already loaded. To reload it, use:\n",
      "  %reload_ext autoreload\n"
     ]
    }
   ],
   "source": [
    "%load_ext autoreload\n",
    "%autoreload 2"
   ]
  },
  {
   "cell_type": "code",
   "execution_count": 73,
   "metadata": {},
   "outputs": [],
   "source": [
    "FORCE_CPU = False\n",
    "SEED = 2384\n",
    "\n",
    "HIDDEN_SIZE = 16\n",
    "SIZE_PER_INPUT = 4\n",
    "TASK_TRAIN_SIZE = 100000\n",
    "TASK_TEST_SIZE = 1000\n",
    "TASK_LR = 0.01\n",
    "TASK_EPOCHS = 5000\n",
    "TASK_SCHEDULER_PATIENCE = 1000\n",
    "\n",
    "SAVE_MODEL = False\n",
    "LOAD_MODEL = True\n",
    "MODEL_PATH = \"saved_models/hierarchical-equality.pt\""
   ]
  },
  {
   "cell_type": "code",
   "execution_count": 74,
   "metadata": {},
   "outputs": [],
   "source": [
    "import random\n",
    "from dataclasses import dataclass\n",
    "from functools import partial\n",
    "\n",
    "import torch\n",
    "import torch.nn as nn\n",
    "import torch.nn.functional as F\n",
    "import torch.optim as optim\n",
    "from torch.utils.data import DataLoader\n",
    "\n",
    "import numpy as np\n",
    "\n",
    "from scipy.ndimage import gaussian_filter1d\n",
    "\n",
    "import pandas as pd\n",
    "\n",
    "import matplotlib.pyplot as plt\n",
    "\n",
    "import plotly.express as px\n",
    "\n",
    "import networkx as nx\n",
    "\n",
    "from transformer_lens.hook_points import HookedRootModule, HookPoint\n",
    "from transformer_lens.utils import to_numpy\n",
    "\n",
    "from causal_networks.dag import DAGModel, InputNode, EqualityNode"
   ]
  },
  {
   "cell_type": "code",
   "execution_count": 75,
   "metadata": {},
   "outputs": [
    {
     "name": "stdout",
     "output_type": "stream",
     "text": [
      "cuda\n"
     ]
    }
   ],
   "source": [
    "if not FORCE_CPU and torch.cuda.is_available():\n",
    "    device = torch.device(\"cuda\")\n",
    "else:\n",
    "    device = torch.device(\"cpu\")\n",
    "print(device)"
   ]
  },
  {
   "attachments": {},
   "cell_type": "markdown",
   "metadata": {},
   "source": [
    "## Training the model"
   ]
  },
  {
   "cell_type": "code",
   "execution_count": 76,
   "metadata": {},
   "outputs": [],
   "source": [
    "@dataclass\n",
    "class Config:\n",
    "    input_size: int = 4\n",
    "    hidden_size: int = 16\n",
    "    output_size: int = 2"
   ]
  },
  {
   "cell_type": "code",
   "execution_count": 77,
   "metadata": {},
   "outputs": [],
   "source": [
    "# Create a three layer hooked MLP\n",
    "class MLP(HookedRootModule):\n",
    "    def __init__(self, cfg: Config, device=None):\n",
    "        super().__init__()\n",
    "\n",
    "        if device is None:\n",
    "            device = torch.device(\"cpu\")\n",
    "\n",
    "        self.device = device\n",
    "\n",
    "        self.cfg = cfg\n",
    "\n",
    "        self.hook_pre1 = HookPoint()\n",
    "        self.layer1 = nn.Linear(cfg.input_size, cfg.hidden_size, bias=True, device=device)\n",
    "        self.hook_mid1 = HookPoint()\n",
    "        self.hook_pre2 = HookPoint()\n",
    "        self.layer2 = nn.Linear(cfg.hidden_size, cfg.hidden_size, bias=True, device=device)\n",
    "        self.hook_mid2 = HookPoint()\n",
    "        self.hook_pre3 = HookPoint()\n",
    "        self.layer3 = nn.Linear(cfg.hidden_size, cfg.output_size, bias=True, device=device)\n",
    "        self.hook_mid3 = HookPoint()\n",
    "        self.relu = nn.ReLU()\n",
    "\n",
    "    def forward(self, x):\n",
    "        x = self.hook_pre1(x)\n",
    "        x = self.hook_mid1(self.layer1(x))\n",
    "        x = self.relu(x)\n",
    "        x = self.hook_pre2(x)\n",
    "        x = self.hook_mid2(self.layer2(x))\n",
    "        x = self.relu(x)\n",
    "        x = self.hook_pre3(x)\n",
    "        x = self.hook_mid3(self.layer3(x))\n",
    "        return x"
   ]
  },
  {
   "cell_type": "code",
   "execution_count": 78,
   "metadata": {},
   "outputs": [
    {
     "name": "stdout",
     "output_type": "stream",
     "text": [
      "MLP(\n",
      "  (hook_pre1): HookPoint()\n",
      "  (layer1): Linear(in_features=16, out_features=16, bias=True)\n",
      "  (hook_mid1): HookPoint()\n",
      "  (hook_pre2): HookPoint()\n",
      "  (layer2): Linear(in_features=16, out_features=16, bias=True)\n",
      "  (hook_mid2): HookPoint()\n",
      "  (hook_pre3): HookPoint()\n",
      "  (layer3): Linear(in_features=16, out_features=2, bias=True)\n",
      "  (hook_mid3): HookPoint()\n",
      "  (relu): ReLU()\n",
      ")\n"
     ]
    }
   ],
   "source": [
    "# define the model\n",
    "model = MLP(\n",
    "    Config(hidden_size=HIDDEN_SIZE, input_size=4 * SIZE_PER_INPUT), device=device\n",
    ")\n",
    "model.setup()\n",
    "\n",
    "print(model)"
   ]
  },
  {
   "cell_type": "code",
   "execution_count": 79,
   "metadata": {},
   "outputs": [],
   "source": [
    "def generate_grouped_data(n, size_per_input):\n",
    "    \"\"\"Generates n data points with 4 balanced groups,\n",
    "       (w==x, y==z), (w==x, y!=z), (w!=x, y==z), (w!=x, y!=z)\n",
    "       For the heirarchical equality task\"\"\" \n",
    "    \n",
    "    data = np.empty((n, 4, size_per_input))\n",
    "    labels = np.empty(n)\n",
    "\n",
    "    quarter = n // 4\n",
    "\n",
    "    # w==x, y!=z\n",
    "    data[:quarter, 0] = data[:quarter, 1] = np.random.uniform(-0.5, 0.5, (quarter, size_per_input))\n",
    "    data[:quarter, 2] = np.random.uniform(-0.5, 0.5, (quarter, size_per_input))\n",
    "    data[:quarter, 3] = np.random.uniform(-0.5, 0.5, (quarter, size_per_input))\n",
    "    labels[:quarter] = 0\n",
    "\n",
    "    # w==x, y==z\n",
    "    data[quarter:2*quarter, 0] = data[quarter:2*quarter, 1] = np.random.uniform(-0.5, 0.5, (quarter, size_per_input))\n",
    "    data[quarter:2*quarter, 2] = data[quarter:2*quarter, 3] = np.random.uniform(-0.5, 0.5, (quarter, size_per_input))\n",
    "    labels[quarter:2*quarter] = 1\n",
    "\n",
    "    # w!=x, y==z\n",
    "    data[2*quarter:3*quarter, 0] = np.random.uniform(-0.5, 0.5, (quarter, size_per_input))\n",
    "    data[2*quarter:3*quarter, 1] = np.random.uniform(-0.5, 0.5, (quarter, size_per_input))\n",
    "    data[2*quarter:3*quarter, 2] = data[2*quarter:3*quarter, 3] = np.random.uniform(-0.5, 0.5, (quarter, size_per_input))\n",
    "    labels[2*quarter:3*quarter] = 0\n",
    "\n",
    "    # w!=x, y!=z\n",
    "    data[3*quarter:, 0] = np.random.uniform(-0.5, 0.5, (n - 3 * quarter, size_per_input))\n",
    "    data[3*quarter:, 1] = np.random.uniform(-0.5, 0.5, (n - 3 * quarter, size_per_input))\n",
    "    data[3*quarter:, 2] = np.random.uniform(-0.5, 0.5, (n - 3 * quarter, size_per_input))\n",
    "    data[3*quarter:, 3] = np.random.uniform(-0.5, 0.5, (n - 3 * quarter, size_per_input))\n",
    "    labels[3*quarter:] = 1\n",
    "\n",
    "    data = data.reshape(n, 4 * size_per_input)\n",
    "\n",
    "    permute = np.random.permutation(n)\n",
    "    data = data[permute]\n",
    "    labels = labels[permute]\n",
    "\n",
    "    return data, labels"
   ]
  },
  {
   "cell_type": "code",
   "execution_count": 80,
   "metadata": {},
   "outputs": [],
   "source": [
    "# generate the data\n",
    "data, labels = generate_grouped_data(TASK_TRAIN_SIZE, SIZE_PER_INPUT)\n",
    "val_data, val_labels = generate_grouped_data(TASK_TEST_SIZE, SIZE_PER_INPUT)"
   ]
  },
  {
   "cell_type": "code",
   "execution_count": 81,
   "metadata": {},
   "outputs": [
    {
     "name": "stdout",
     "output_type": "stream",
     "text": [
      "Accuracy of the network on the test data: 100.0 %\n"
     ]
    }
   ],
   "source": [
    "# train the network\n",
    "\n",
    "# set the random seed\n",
    "random.seed(SEED)\n",
    "np.random.seed(SEED)\n",
    "torch.manual_seed(SEED)\n",
    "\n",
    "if LOAD_MODEL:\n",
    "\n",
    "    model.load_state_dict(torch.load(MODEL_PATH, map_location=device))\n",
    "\n",
    "else:\n",
    "\n",
    "    # define the loss function and the optimizer\n",
    "    criterion = nn.CrossEntropyLoss()\n",
    "    optimizer = optim.Adam(model.parameters(), lr=TASK_LR)\n",
    "    scheduler = optim.lr_scheduler.ReduceLROnPlateau(optimizer, 'min', patience=TASK_SCHEDULER_PATIENCE, verbose=True)\n",
    "\n",
    "    # convert the data and labels to torch tensors\n",
    "    data = torch.from_numpy(data).float()\n",
    "    labels = torch.from_numpy(labels).long()\n",
    "\n",
    "    data = data.to(device)\n",
    "    labels = labels.to(device)\n",
    "    model = model.to(device)\n",
    "\n",
    "    # train the model\n",
    "    for epoch in range(TASK_EPOCHS):\n",
    "        outputs = model(data)\n",
    "        loss = criterion(outputs, labels)\n",
    "        \n",
    "        # backward and optimize\n",
    "        optimizer.zero_grad()\n",
    "        loss.backward()\n",
    "        optimizer.step()\n",
    "        scheduler.step(loss)\n",
    "        \n",
    "        if (epoch+1) % 100 == 0:\n",
    "            print ('Epoch [{}/{}], Loss: {:.4f}'.format(epoch+1, TASK_EPOCHS, loss.item()))\n",
    "\n",
    "# test the model\n",
    "val_data = torch.from_numpy(val_data).float()\n",
    "val_labels = torch.from_numpy(val_labels).long()\n",
    "\n",
    "with torch.no_grad():\n",
    "    val_data = val_data.to(device)\n",
    "    val_labels = val_labels.to(device)\n",
    "    outputs = model(val_data)\n",
    "    _, predicted = torch.max(outputs.data, 1)\n",
    "\n",
    "    # compute the accuracy\n",
    "    total = val_labels.size(0)\n",
    "    correct = (predicted == val_labels).sum().item()\n",
    "    print('Accuracy of the network on the test data: {} %'.format(100 * correct / total))"
   ]
  },
  {
   "cell_type": "code",
   "execution_count": 82,
   "metadata": {},
   "outputs": [],
   "source": [
    "if SAVE_MODEL:\n",
    "    torch.save(model.state_dict(), MODEL_PATH)"
   ]
  },
  {
   "attachments": {},
   "cell_type": "markdown",
   "metadata": {},
   "source": [
    "## Causal DAGS"
   ]
  },
  {
   "cell_type": "code",
   "execution_count": 83,
   "metadata": {},
   "outputs": [
    {
     "name": "stdout",
     "output_type": "stream",
     "text": [
      "DAGModel(\n",
      "  (x1): InputNode()\n",
      "  (hook_x1): HookPoint()\n",
      "  (x2): InputNode()\n",
      "  (hook_x2): HookPoint()\n",
      "  (x3): InputNode()\n",
      "  (hook_x3): HookPoint()\n",
      "  (x4): InputNode()\n",
      "  (hook_x4): HookPoint()\n",
      "  (b1): EqualityNode()\n",
      "  (hook_b1): HookPoint()\n",
      "  (b2): EqualityNode()\n",
      "  (hook_b2): HookPoint()\n",
      "  (y): EqualityNode()\n",
      "  (hook_y): HookPoint()\n",
      ")\n"
     ]
    }
   ],
   "source": [
    "dag = DAGModel()\n",
    "\n",
    "# Define the nodes\n",
    "dag.add_node(\"x1\", InputNode(), level=0)\n",
    "dag.add_node(\"x2\", InputNode(), level=0)\n",
    "dag.add_node(\"x3\", InputNode(), level=0)\n",
    "dag.add_node(\"x4\", InputNode(), level=0)\n",
    "dag.add_node(\"b1\", EqualityNode(), level=1)\n",
    "dag.add_node(\"b2\", EqualityNode(), level=1)\n",
    "dag.add_node(\"y\", EqualityNode(), level=2)\n",
    "\n",
    "# Define the edges\n",
    "edges = [\n",
    "    (\"x1\", \"b1\"),\n",
    "    (\"x2\", \"b1\"),\n",
    "    (\"x3\", \"b2\"),\n",
    "    (\"x4\", \"b2\"),\n",
    "    (\"b1\", \"y\"),\n",
    "    (\"b2\", \"y\"),\n",
    "]\n",
    "for edge in edges:\n",
    "    dag.add_edge(*edge)\n",
    "\n",
    "dag.set_visualization_layout(\n",
    "    partial(nx.multipartite_layout, subset_key=\"level\", align=\"horizontal\", scale=-1)\n",
    ")\n",
    "\n",
    "print(dag)"
   ]
  },
  {
   "cell_type": "code",
   "execution_count": 84,
   "metadata": {},
   "outputs": [
    {
     "data": {
      "image/png": "[encoded data removed]",
      "text/plain": [
       "<Figure size 640x480 with 1 Axes>"
      ]
     },
     "metadata": {},
     "output_type": "display_data"
    },
    {
     "data": {
      "text/html": [
       "<pre style=\"white-space:pre;overflow-x:auto;line-height:normal;font-family:Menlo,'DejaVu Sans Mono',consolas,'Courier New',monospace\"><span style=\"font-style: italic\">                        Node Information                        </span>\n",
       "┏━━━━━━┳━━━━━━━━━━━━━━━━┳━━━━━━━━━━━━━━━━━━━━━━━━━━━━━━━━━━━━━━┓\n",
       "┃<span style=\"font-weight: bold\"> Node </span>┃<span style=\"font-weight: bold\"> Module         </span>┃<span style=\"font-weight: bold\"> Value                                </span>┃\n",
       "┡━━━━━━╇━━━━━━━━━━━━━━━━╇━━━━━━━━━━━━━━━━━━━━━━━━━━━━━━━━━━━━━━┩\n",
       "│ x1   │ InputNode()    │ tensor([0, 0, 0, 0])                 │\n",
       "│ x2   │ InputNode()    │ tensor([0, 1, 1, 0])                 │\n",
       "│ x3   │ InputNode()    │ tensor([0, 0, 0, 0])                 │\n",
       "│ x4   │ InputNode()    │ tensor([0, 0, 1, 1])                 │\n",
       "│ b1   │ EqualityNode() │ tensor([ True, False, False,  True]) │\n",
       "│ b2   │ EqualityNode() │ tensor([ True,  True, False, False]) │\n",
       "│ y    │ EqualityNode() │ tensor([ True, False,  True, False]) │\n",
       "└──────┴────────────────┴──────────────────────────────────────┘\n",
       "</pre>\n"
      ],
      "text/plain": [
       "\u001b[3m                        Node Information                        \u001b[0m\n",
       "┏━━━━━━┳━━━━━━━━━━━━━━━━┳━━━━━━━━━━━━━━━━━━━━━━━━━━━━━━━━━━━━━━┓\n",
       "┃\u001b[1m \u001b[0m\u001b[1mNode\u001b[0m\u001b[1m \u001b[0m┃\u001b[1m \u001b[0m\u001b[1mModule        \u001b[0m\u001b[1m \u001b[0m┃\u001b[1m \u001b[0m\u001b[1mValue                               \u001b[0m\u001b[1m \u001b[0m┃\n",
       "┡━━━━━━╇━━━━━━━━━━━━━━━━╇━━━━━━━━━━━━━━━━━━━━━━━━━━━━━━━━━━━━━━┩\n",
       "│ x1   │ InputNode()    │ tensor([0, 0, 0, 0])                 │\n",
       "│ x2   │ InputNode()    │ tensor([0, 1, 1, 0])                 │\n",
       "│ x3   │ InputNode()    │ tensor([0, 0, 0, 0])                 │\n",
       "│ x4   │ InputNode()    │ tensor([0, 0, 1, 1])                 │\n",
       "│ b1   │ EqualityNode() │ tensor([ True, False, False,  True]) │\n",
       "│ b2   │ EqualityNode() │ tensor([ True,  True, False, False]) │\n",
       "│ y    │ EqualityNode() │ tensor([ True, False,  True, False]) │\n",
       "└──────┴────────────────┴──────────────────────────────────────┘\n"
      ]
     },
     "metadata": {},
     "output_type": "display_data"
    }
   ],
   "source": [
    "dag(\n",
    "    dict(\n",
    "        x1=torch.tensor([0, 0, 0, 0]),\n",
    "        x2=torch.tensor([0, 1, 1, 0]),\n",
    "        x3=torch.tensor([0, 0, 0, 0]),\n",
    "        x4=torch.tensor([0, 0, 1, 1]),\n",
    "    )\n",
    ")\n",
    "\n",
    "dag.visualize(display_node_values=True)"
   ]
  },
  {
   "cell_type": "code",
   "execution_count": 85,
   "metadata": {},
   "outputs": [],
   "source": [
    "def tensor_to_dict(tensor):\n",
    "    return dict(x1=tensor[..., 0], x2=tensor[..., 1], x3=tensor[..., 2], x4=tensor[..., 3])"
   ]
  },
  {
   "cell_type": "code",
   "execution_count": 86,
   "metadata": {},
   "outputs": [
    {
     "data": {
      "image/png": "[encoded data removed]",
      "text/plain": [
       "<Figure size 640x480 with 1 Axes>"
      ]
     },
     "metadata": {},
     "output_type": "display_data"
    },
    {
     "data": {
      "text/html": [
       "<pre style=\"white-space:pre;overflow-x:auto;line-height:normal;font-family:Menlo,'DejaVu Sans Mono',consolas,'Courier New',monospace\"><span style=\"font-style: italic\">                    Node Information                     </span>\n",
       "┏━━━━━━┳━━━━━━━━━━━━━━━━┳━━━━━━━━━━━━━━━━━━━━━━━━━━━━━━━┓\n",
       "┃<span style=\"font-weight: bold\"> Node </span>┃<span style=\"font-weight: bold\"> Module         </span>┃<span style=\"font-weight: bold\"> Value                         </span>┃\n",
       "┡━━━━━━╇━━━━━━━━━━━━━━━━╇━━━━━━━━━━━━━━━━━━━━━━━━━━━━━━━┩\n",
       "│ x1   │ InputNode()    │ tensor([1., 1., 1.])          │\n",
       "│ x2   │ InputNode()    │ tensor([1., 1., 1.])          │\n",
       "│ x3   │ InputNode()    │ tensor([1., 1., 1.])          │\n",
       "│ x4   │ InputNode()    │ tensor([1., 1., 1.])          │\n",
       "│ b1   │ EqualityNode() │ tensor([False, False,  True]) │\n",
       "│ b2   │ EqualityNode() │ tensor([False,  True,  True]) │\n",
       "│ y    │ EqualityNode() │ tensor([ True, False,  True]) │\n",
       "└──────┴────────────────┴───────────────────────────────┘\n",
       "</pre>\n"
      ],
      "text/plain": [
       "\u001b[3m                    Node Information                     \u001b[0m\n",
       "┏━━━━━━┳━━━━━━━━━━━━━━━━┳━━━━━━━━━━━━━━━━━━━━━━━━━━━━━━━┓\n",
       "┃\u001b[1m \u001b[0m\u001b[1mNode\u001b[0m\u001b[1m \u001b[0m┃\u001b[1m \u001b[0m\u001b[1mModule        \u001b[0m\u001b[1m \u001b[0m┃\u001b[1m \u001b[0m\u001b[1mValue                        \u001b[0m\u001b[1m \u001b[0m┃\n",
       "┡━━━━━━╇━━━━━━━━━━━━━━━━╇━━━━━━━━━━━━━━━━━━━━━━━━━━━━━━━┩\n",
       "│ x1   │ InputNode()    │ tensor([1., 1., 1.])          │\n",
       "│ x2   │ InputNode()    │ tensor([1., 1., 1.])          │\n",
       "│ x3   │ InputNode()    │ tensor([1., 1., 1.])          │\n",
       "│ x4   │ InputNode()    │ tensor([1., 1., 1.])          │\n",
       "│ b1   │ EqualityNode() │ tensor([False, False,  True]) │\n",
       "│ b2   │ EqualityNode() │ tensor([False,  True,  True]) │\n",
       "│ y    │ EqualityNode() │ tensor([ True, False,  True]) │\n",
       "└──────┴────────────────┴───────────────────────────────┘\n"
      ]
     },
     "metadata": {},
     "output_type": "display_data"
    }
   ],
   "source": [
    "dag.run_interchange_intervention(\n",
    "    tensor_to_dict(torch.ones(3, 4)),\n",
    "    tensor_to_dict(torch.rand(3, 2, 4)),\n",
    "    dict(\n",
    "        b1=torch.tensor([[True, False], [True, False], [False, False],]),\n",
    "        b2=torch.tensor([[False, True], [False, False], [False, False],]),\n",
    "    ),\n",
    ")\n",
    "dag.visualize(display_node_values=True)"
   ]
  }
 ],
 "metadata": {
  "kernelspec": {
   "display_name": "analysis",
   "language": "python",
   "name": "python3"
  },
  "language_info": {
   "codemirror_mode": {
    "name": "ipython",
    "version": 3
   },
   "file_extension": ".py",
   "mimetype": "text/x-python",
   "name": "python",
   "nbconvert_exporter": "python",
   "pygments_lexer": "ipython3",
   "version": "3.11.2"
  },
  "orig_nbformat": 4
 },
 "nbformat": 4,
 "nbformat_minor": 2
}
