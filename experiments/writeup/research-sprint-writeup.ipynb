{
 "cells": [
  {
   "attachments": {},
   "cell_type": "markdown",
   "metadata": {},
   "source": [
    "# Research sprint summary: Sam and Adam\n",
    "\n",
    "Following [Geiger et al. (2023)](https://arxiv.org/abs/2303.02536).\n",
    "\n",
    "## Overview\n",
    "\n",
    "### High level summary\n",
    "- Created large codebase (~3000 lines) that runs flexibly with arbitrary DAGs and Transformerlens\n",
    "- Created a new type of DAG specific for the transformer architecture, with stream-tied rotations, effectively testing the abstractness of the algorithm the transformer uses\n",
    "- Reproduced hierarchical equality experiments from [Geiger et al. (2023)](https://arxiv.org/abs/2303.02536)\n",
    "- Created clean dataset for parenthesis balancing task\n",
    "- Tested stream-tied rotation matrix on parenthesis balancing task, though results were inconclusive\n",
    "- Also created different DAGs that solve the task, but did not have time to test them\n",
    "\n",
    "### Details of what we did\n",
    "\n",
    "- Created big codebase (~3000 lines) that runs flexibly with arbitrary DAGs and Transformerlens\n",
    "    * DAG computation modelling, and recurrent version\n",
    "    * Interchange intervention: fixing some node values to those taken on source inputs,\n",
    "      then running on a base input.\n",
    "    * Alignment between DAG nodes and subspaces of neural networks using rotation\n",
    "      matrices, also for transformers\n",
    "    * Distributed interchange intervention: intervening on subspaces via DAG alignment\n",
    "    * Generating dataset of interchange interventions\n",
    "    * Training rotation matrix on this\n",
    "    * Many efficiency improvements were needed to make things run \n",
    "- Reproduced hierarchical equality experiments from [Geiger et al.\n",
    "  (2023)](https://arxiv.org/abs/2303.02536)\n",
    "    * Got similar values to the top left quadrant of Table 1\n",
    "- Cleaned dataset for parenthesis balancing\n",
    "    * Chunking\n",
    "    * Removing samples with weird parenthesis tokens (e.g. `(*!(`) \n",
    "- Created a new type of DAG specific for the transformer architecture, with stream-tied rotations\n",
    "    * Any DAG node is represented by the same subspace across all residual streams\n",
    "    * Strong compression: mechanisms and computations for task are shared across\n",
    "      streams. \n",
    "    * Intuitively this \n",
    "- Tested stream-tied rotation matrix on parenthesis balancing task\n",
    "    * Results inconclusive: training was very slow\n",
    "    * Could be because of a bug in the code\n",
    "    * Could be because our proposed DAG isn't correct\n",
    "    * Could be because hypothesis is wrong\n",
    "* Created other DAGs for paren balancing, but did not yet have time to test them\n",
    "  * Every stream has its own subspace\n",
    "  * Stream-tied rotation matrices but accounting for special tokens that suppress the close parenthesis token only for the next token\n",
    "  * Same as previous but not stream tied\n",
    "- Weak points\n",
    "    * Slow training on parenthesis balancing task\n",
    "    * Didn't balance parenthesis balancing interchange intervention dataset to\n",
    "      prioritise interesting interventions\n",
    "    * Little experimental red-teaming\n",
    "    * Some inefficiencies remain in the code\n",
    "* Next steps\n",
    "  * In general we feel we have a really great base to run many experiments now and collect a lot of data, which is great\n",
    "  * The first thing to do would be to get the training of the rotation matrix to run faster\n",
    "  * There are also a number of basic considerations we have to make to the intervention distributions. These are easy to do, but we didn't have time to do them\n",
    "  * Then we would train rotation matrices on all DAGs for the paren balancing task, and on different parts of the transformer. Given our code base this is just a matter of changing a few lines of code\n",
    "  * After that analysis we would attack the problem from the other side. That is, we would look at the activity in the rotated space and see if we can use the normal tools of \"bottom-up\" mechanistic interpretabiltiy to understand what is going on. This would make the top-down causal analysis more convincing to those who are skeptical of it, and more used to the bottom-up approach.If the rotated spaces are \"real\" then they should be extremely easy to interpret!!\n",
    "  * Staying at the high-level though, there are a number of interesting questions having to do with the geometry of the activations in the rotated space, how that changes up the residual stream, how attention and MLPs influence that geometry, etc. that we find interesting\n",
    "  * Atticus also brought up an idea having to do with a heirarchy of abstractions and finding those in the transformer. This is a very interesting idea that we would like to explore, and to some degree have it (though implicitly), in the relationship between the stream-tied rotation matrices and the untied version. (the stream-tied rotation DAG is a more abstracted version of the untied version, but the idea of abstract heirarchies is more general).\n",
    "  * There are obviously many other ideas e.g. looking for shared causal variables between different tasks, but that would be much farther in the future.\n",
    "  * For the moment the next steps seem pretty obvious to us"
   ]
  },
  {
   "attachments": {},
   "cell_type": "markdown",
   "metadata": {},
   "source": [
    "## Setup"
   ]
  },
  {
   "cell_type": "code",
   "execution_count": 1,
   "metadata": {},
   "outputs": [],
   "source": [
    "RESULTS_DATA_DIR = \"../results\"\n",
    "HIER_EQAL_PREFIX = \"hier_eqal\"\n",
    "PAREN_BAL_PREFIX = \"paren_bal\""
   ]
  },
  {
   "cell_type": "code",
   "execution_count": 2,
   "metadata": {},
   "outputs": [],
   "source": [
    "import json\n",
    "import os\n",
    "\n",
    "import numpy as np\n",
    "\n",
    "import plotly.express as px\n",
    "import plotly.graph_objects as go\n",
    "import plotly.colors as colors\n",
    "\n",
    "from rich.table import Table\n",
    "from rich.console import Console\n",
    "\n",
    "from causal_networks.models import (\n",
    "    make_hier_equal_dag_and_variable_alignment,\n",
    "    make_paren_bal_dag_and_variable_alignment,\n",
    ")"
   ]
  },
  {
   "cell_type": "code",
   "execution_count": 3,
   "metadata": {},
   "outputs": [],
   "source": [
    "import plotly.io as pio\n",
    "pio.renderers.default = \"colab+vscode\"\n",
    "\n",
    "console = Console()"
   ]
  },
  {
   "attachments": {},
   "cell_type": "markdown",
   "metadata": {},
   "source": [
    "## Hierarchical equality "
   ]
  },
  {
   "attachments": {},
   "cell_type": "markdown",
   "metadata": {},
   "source": [
    "### Task details\n",
    "\n",
    "Given four 4-dimensional inputs $x_1$, $x_2$, $x_3$, $x_4$, determine whether $(x_1 = x_2) \\text{ XNOR } (x_3 = x_4)$."
   ]
  },
  {
   "attachments": {},
   "cell_type": "markdown",
   "metadata": {},
   "source": [
    "### Implementation details\n",
    "\n",
    "- Following [Geiger et al. (2023)](https://arxiv.org/abs/2303.02536)\n",
    "- We trained a three-layer model to obtain 100% accuracy on the task\n",
    "- We test alignment with a simple DAG which solves the task"
   ]
  },
  {
   "cell_type": "code",
   "execution_count": 4,
   "metadata": {},
   "outputs": [
    {
     "name": "stdout",
     "output_type": "stream",
     "text": [
      "Training the model...\n"
     ]
    },
    {
     "name": "stderr",
     "output_type": "stream",
     "text": [
      "  0%|          | 0/5000 [00:00<?, ?it/s]/home/sam/.virtualenvs/causal-networks/lib/python3.11/site-packages/torch/autograd/__init__.py:200: UserWarning:\n",
      "\n",
      "CUDA initialization: CUDA unknown error - this may be due to an incorrectly set up environment, e.g. changing env variable CUDA_VISIBLE_DEVICES after program start. Setting the available devices to be zero. (Triggered internally at ../c10/cuda/CUDAFunctions.cpp:109.)\n",
      "\n",
      "100%|██████████| 5000/5000 [01:31<00:00, 54.71it/s]"
     ]
    },
    {
     "name": "stdout",
     "output_type": "stream",
     "text": [
      "Final loss: 2.7243e-05. Final accuracy: 100.00000%\n",
      "Running model to determine activation space size...\n"
     ]
    },
    {
     "name": "stderr",
     "output_type": "stream",
     "text": [
      "\n"
     ]
    }
   ],
   "source": [
    "dag_he, variable_alignment_he, model_he = make_hier_equal_dag_and_variable_alignment(\n",
    "    hidden_size=16,\n",
    "    size_per_input=4,\n",
    "    intervene_model_hooks=[\"hook_mid2\"],\n",
    "    intervene_nodes=[\"b1\", \"b2\"],\n",
    "    subspace_sizes=[8, 8],\n",
    "    device=\"cpu\",\n",
    ")"
   ]
  },
  {
   "cell_type": "code",
   "execution_count": 5,
   "metadata": {},
   "outputs": [
    {
     "data": {
      "image/png": "[encoded data removed]",
      "text/plain": [
       "<Figure size 640x480 with 1 Axes>"
      ]
     },
     "metadata": {},
     "output_type": "display_data"
    },
    {
     "data": {
      "text/html": [
       "<pre style=\"white-space:pre;overflow-x:auto;line-height:normal;font-family:Menlo,'DejaVu Sans Mono',consolas,'Courier New',monospace\"><span style=\"font-style: italic\">                           Node Information                            </span>\n",
       "┏━━━━━━┳━━━━━━━━━━━━━━┳━━━━━━━━━┳━━━━━━━━━━━━━━━━━━━━━━━━━━━━━┳━━━━━━━┓\n",
       "┃<span style=\"font-weight: bold\"> Node </span>┃<span style=\"font-weight: bold\"> Function     </span>┃<span style=\"font-weight: bold\"> Sampler </span>┃<span style=\"font-weight: bold\"> Validator                   </span>┃<span style=\"font-weight: bold\"> Value </span>┃\n",
       "┡━━━━━━╇━━━━━━━━━━━━━━╇━━━━━━━━━╇━━━━━━━━━━━━━━━━━━━━━━━━━━━━━╇━━━━━━━┩\n",
       "│ x1   │ -            │ -       │ array_float_validator(-, 4) │ -     │\n",
       "│ x2   │ -            │ -       │ array_float_validator(-, 4) │ -     │\n",
       "│ x3   │ -            │ -       │ array_float_validator(-, 4) │ -     │\n",
       "│ x4   │ -            │ -       │ array_float_validator(-, 4) │ -     │\n",
       "│ b1   │ compare_func │ -       │ bool_validator              │ -     │\n",
       "│ b2   │ compare_func │ -       │ bool_validator              │ -     │\n",
       "│ y    │ compare_func │ -       │ bool_validator              │ -     │\n",
       "└──────┴──────────────┴─────────┴─────────────────────────────┴───────┘\n",
       "</pre>\n"
      ],
      "text/plain": [
       "\u001b[3m                           Node Information                            \u001b[0m\n",
       "┏━━━━━━┳━━━━━━━━━━━━━━┳━━━━━━━━━┳━━━━━━━━━━━━━━━━━━━━━━━━━━━━━┳━━━━━━━┓\n",
       "┃\u001b[1m \u001b[0m\u001b[1mNode\u001b[0m\u001b[1m \u001b[0m┃\u001b[1m \u001b[0m\u001b[1mFunction    \u001b[0m\u001b[1m \u001b[0m┃\u001b[1m \u001b[0m\u001b[1mSampler\u001b[0m\u001b[1m \u001b[0m┃\u001b[1m \u001b[0m\u001b[1mValidator                  \u001b[0m\u001b[1m \u001b[0m┃\u001b[1m \u001b[0m\u001b[1mValue\u001b[0m\u001b[1m \u001b[0m┃\n",
       "┡━━━━━━╇━━━━━━━━━━━━━━╇━━━━━━━━━╇━━━━━━━━━━━━━━━━━━━━━━━━━━━━━╇━━━━━━━┩\n",
       "│ x1   │ -            │ -       │ array_float_validator(-, 4) │ -     │\n",
       "│ x2   │ -            │ -       │ array_float_validator(-, 4) │ -     │\n",
       "│ x3   │ -            │ -       │ array_float_validator(-, 4) │ -     │\n",
       "│ x4   │ -            │ -       │ array_float_validator(-, 4) │ -     │\n",
       "│ b1   │ compare_func │ -       │ bool_validator              │ -     │\n",
       "│ b2   │ compare_func │ -       │ bool_validator              │ -     │\n",
       "│ y    │ compare_func │ -       │ bool_validator              │ -     │\n",
       "└──────┴──────────────┴─────────┴─────────────────────────────┴───────┘\n"
      ]
     },
     "metadata": {},
     "output_type": "display_data"
    }
   ],
   "source": [
    "dag_he.reset()\n",
    "dag_he.visualize()"
   ]
  },
  {
   "attachments": {},
   "cell_type": "markdown",
   "metadata": {},
   "source": [
    "- Interchange intervention: fixing the value of nodes using source inputs, then running on a base input\n",
    "- Below: intervene on \"b1\", so that the intervened model outputs differently on a base input"
   ]
  },
  {
   "cell_type": "code",
   "execution_count": 6,
   "metadata": {},
   "outputs": [
    {
     "data": {
      "image/png": "[encoded data removed]",
      "text/plain": [
       "<Figure size 640x480 with 1 Axes>"
      ]
     },
     "metadata": {},
     "output_type": "display_data"
    },
    {
     "data": {
      "text/html": [
       "<pre style=\"white-space:pre;overflow-x:auto;line-height:normal;font-family:Menlo,'DejaVu Sans Mono',consolas,'Courier New',monospace\"><span style=\"font-style: italic\">                                 Node Information                                  </span>\n",
       "┏━━━━━━┳━━━━━━━━━━━━━━┳━━━━━━━━━┳━━━━━━━━━━━━━━━━━━━━━━━━━━━━━┳━━━━━━━━━━━━━━━━━━━┓\n",
       "┃<span style=\"font-weight: bold\"> Node </span>┃<span style=\"font-weight: bold\"> Function     </span>┃<span style=\"font-weight: bold\"> Sampler </span>┃<span style=\"font-weight: bold\"> Validator                   </span>┃<span style=\"font-weight: bold\"> Value             </span>┃\n",
       "┡━━━━━━╇━━━━━━━━━━━━━━╇━━━━━━━━━╇━━━━━━━━━━━━━━━━━━━━━━━━━━━━━╇━━━━━━━━━━━━━━━━━━━┩\n",
       "│ x1   │ -            │ -       │ array_float_validator(-, 4) │ [0.1 0.1 0.1 0.1] │\n",
       "│ x2   │ -            │ -       │ array_float_validator(-, 4) │ [0.2 0.2 0.2 0.2] │\n",
       "│ x3   │ -            │ -       │ array_float_validator(-, 4) │ [0.1 0.1 0.1 0.1] │\n",
       "│ x4   │ -            │ -       │ array_float_validator(-, 4) │ [0.2 0.2 0.2 0.2] │\n",
       "│ b1   │ compare_func │ -       │ bool_validator              │ True              │\n",
       "│ b2   │ compare_func │ -       │ bool_validator              │ False             │\n",
       "│ y    │ compare_func │ -       │ bool_validator              │ False             │\n",
       "└──────┴──────────────┴─────────┴─────────────────────────────┴───────────────────┘\n",
       "</pre>\n"
      ],
      "text/plain": [
       "\u001b[3m                                 Node Information                                  \u001b[0m\n",
       "┏━━━━━━┳━━━━━━━━━━━━━━┳━━━━━━━━━┳━━━━━━━━━━━━━━━━━━━━━━━━━━━━━┳━━━━━━━━━━━━━━━━━━━┓\n",
       "┃\u001b[1m \u001b[0m\u001b[1mNode\u001b[0m\u001b[1m \u001b[0m┃\u001b[1m \u001b[0m\u001b[1mFunction    \u001b[0m\u001b[1m \u001b[0m┃\u001b[1m \u001b[0m\u001b[1mSampler\u001b[0m\u001b[1m \u001b[0m┃\u001b[1m \u001b[0m\u001b[1mValidator                  \u001b[0m\u001b[1m \u001b[0m┃\u001b[1m \u001b[0m\u001b[1mValue            \u001b[0m\u001b[1m \u001b[0m┃\n",
       "┡━━━━━━╇━━━━━━━━━━━━━━╇━━━━━━━━━╇━━━━━━━━━━━━━━━━━━━━━━━━━━━━━╇━━━━━━━━━━━━━━━━━━━┩\n",
       "│ x1   │ -            │ -       │ array_float_validator(-, 4) │ [0.1 0.1 0.1 0.1] │\n",
       "│ x2   │ -            │ -       │ array_float_validator(-, 4) │ [0.2 0.2 0.2 0.2] │\n",
       "│ x3   │ -            │ -       │ array_float_validator(-, 4) │ [0.1 0.1 0.1 0.1] │\n",
       "│ x4   │ -            │ -       │ array_float_validator(-, 4) │ [0.2 0.2 0.2 0.2] │\n",
       "│ b1   │ compare_func │ -       │ bool_validator              │ True              │\n",
       "│ b2   │ compare_func │ -       │ bool_validator              │ False             │\n",
       "│ y    │ compare_func │ -       │ bool_validator              │ False             │\n",
       "└──────┴──────────────┴─────────┴─────────────────────────────┴───────────────────┘\n"
      ]
     },
     "metadata": {},
     "output_type": "display_data"
    }
   ],
   "source": [
    "value_1 = np.array([0.1] * 4)\n",
    "value_2 = np.array([0.2] * 4)\n",
    "\n",
    "dag_he.do_interchange_intervention(\n",
    "    [[\"b1\"]],\n",
    "    [\n",
    "        dict(\n",
    "            x1=value_1,\n",
    "            x2=value_1,\n",
    "            x3=value_1,\n",
    "            x4=value_1,\n",
    "        )\n",
    "    ],\n",
    ")\n",
    "dag_he.run(\n",
    "    dict(\n",
    "        x1=value_1,\n",
    "        x2=value_2,\n",
    "        x3=value_1,\n",
    "        x4=value_2,\n",
    "    ),\n",
    "    reset=False,\n",
    ")\n",
    "dag_he.visualize()"
   ]
  },
  {
   "attachments": {},
   "cell_type": "markdown",
   "metadata": {},
   "source": [
    "### Experimental results\n",
    "\n",
    "We considered intervening on the nodes \"b1\" and \"b2\" in different layers with different subspace sizes"
   ]
  },
  {
   "cell_type": "code",
   "execution_count": 7,
   "metadata": {},
   "outputs": [],
   "source": [
    "data_he = []\n",
    "for filename in os.listdir(RESULTS_DATA_DIR):\n",
    "    filepath = os.path.join(RESULTS_DATA_DIR, filename)\n",
    "    if os.path.isfile(filepath) and filename.startswith(HIER_EQAL_PREFIX):\n",
    "        with open(filepath) as fp:\n",
    "            data_he.append(json.load(fp))"
   ]
  },
  {
   "cell_type": "code",
   "execution_count": 8,
   "metadata": {},
   "outputs": [],
   "source": [
    "intervene_hook = [\n",
    "    \"hook_mid1\",\n",
    "    \"hook_mid2\",\n",
    "    \"hook_mid3\",\n",
    "]\n",
    "subspace_size = [1, 2, 4, 8]\n",
    "\n",
    "train_accuracies_he = np.zeros((len(intervene_hook), len(subspace_size), len(data_he[0][\"train_accuracies\"])))\n",
    "test_accuracies_he = np.zeros((len(intervene_hook), len(subspace_size)))\n",
    "for datum in data_he:\n",
    "    i = intervene_hook.index(datum[\"parameters\"][\"intervene_hook\"])\n",
    "    j = subspace_size.index(datum[\"parameters\"][\"subspace_sizes\"][0])\n",
    "    test_accuracies_he[i, j] = datum[\"test_accuracy\"]\n",
    "    train_accuracies_he[i, j] = np.array(datum[\"train_accuracies\"])"
   ]
  },
  {
   "attachments": {},
   "cell_type": "markdown",
   "metadata": {},
   "source": [
    "The following lists the test accuracies we obtained after training the rotation matrix"
   ]
  },
  {
   "cell_type": "code",
   "execution_count": 9,
   "metadata": {},
   "outputs": [
    {
     "data": {
      "text/html": [
       "<pre style=\"white-space:pre;overflow-x:auto;line-height:normal;font-family:Menlo,'DejaVu Sans Mono',consolas,'Courier New',monospace\"><span style=\"font-style: italic\">                     Test accuracies for interventions on b1 and b2                      </span>\n",
       "┏━━━━━━━━━━━┳━━━━━━━━━━━━━━━━━━┳━━━━━━━━━━━━━━━━━━┳━━━━━━━━━━━━━━━━━━┳━━━━━━━━━━━━━━━━━━┓\n",
       "┃<span style=\"font-weight: bold\"> Hook      </span>┃<span style=\"font-weight: bold\"> Subspace Sizes 1 </span>┃<span style=\"font-weight: bold\"> Subspace Sizes 2 </span>┃<span style=\"font-weight: bold\"> Subspace Sizes 4 </span>┃<span style=\"font-weight: bold\"> Subspace Sizes 8 </span>┃\n",
       "┡━━━━━━━━━━━╇━━━━━━━━━━━━━━━━━━╇━━━━━━━━━━━━━━━━━━╇━━━━━━━━━━━━━━━━━━╇━━━━━━━━━━━━━━━━━━┩\n",
       "│<span style=\"font-weight: bold\"> hook_mid1 </span>│ 0.6650           │ 0.7170           │ 0.6910           │ 0.8700           │\n",
       "│<span style=\"font-weight: bold\"> hook_mid2 </span>│ 0.8700           │ 0.8900           │ 0.9040           │ 0.9160           │\n",
       "└───────────┴──────────────────┴──────────────────┴──────────────────┴──────────────────┘\n",
       "</pre>\n"
      ],
      "text/plain": [
       "\u001b[3m                     Test accuracies for interventions on b1 and b2                      \u001b[0m\n",
       "┏━━━━━━━━━━━┳━━━━━━━━━━━━━━━━━━┳━━━━━━━━━━━━━━━━━━┳━━━━━━━━━━━━━━━━━━┳━━━━━━━━━━━━━━━━━━┓\n",
       "┃\u001b[1m \u001b[0m\u001b[1mHook     \u001b[0m\u001b[1m \u001b[0m┃\u001b[1m \u001b[0m\u001b[1mSubspace Sizes 1\u001b[0m\u001b[1m \u001b[0m┃\u001b[1m \u001b[0m\u001b[1mSubspace Sizes 2\u001b[0m\u001b[1m \u001b[0m┃\u001b[1m \u001b[0m\u001b[1mSubspace Sizes 4\u001b[0m\u001b[1m \u001b[0m┃\u001b[1m \u001b[0m\u001b[1mSubspace Sizes 8\u001b[0m\u001b[1m \u001b[0m┃\n",
       "┡━━━━━━━━━━━╇━━━━━━━━━━━━━━━━━━╇━━━━━━━━━━━━━━━━━━╇━━━━━━━━━━━━━━━━━━╇━━━━━━━━━━━━━━━━━━┩\n",
       "│\u001b[1m \u001b[0m\u001b[1mhook_mid1\u001b[0m\u001b[1m \u001b[0m│ 0.6650           │ 0.7170           │ 0.6910           │ 0.8700           │\n",
       "│\u001b[1m \u001b[0m\u001b[1mhook_mid2\u001b[0m\u001b[1m \u001b[0m│ 0.8700           │ 0.8900           │ 0.9040           │ 0.9160           │\n",
       "└───────────┴──────────────────┴──────────────────┴──────────────────┴──────────────────┘\n"
      ]
     },
     "metadata": {},
     "output_type": "display_data"
    }
   ],
   "source": [
    "table = Table(\n",
    "    title=\"Test accuracies for interventions on b1 and b2\", show_header=True, header_style=\"bold\"\n",
    ")\n",
    "table.add_column(\"Hook\", style=\"bold\")\n",
    "table.add_column(\"Subspace Sizes 1\")\n",
    "table.add_column(\"Subspace Sizes 2\")\n",
    "table.add_column(\"Subspace Sizes 4\")\n",
    "table.add_column(\"Subspace Sizes 8\")\n",
    "for i, hook in enumerate(intervene_hook[:2]):\n",
    "    table.add_row(\n",
    "        hook,\n",
    "        f\"{test_accuracies_he[i, 0]:.4f}\",\n",
    "        f\"{test_accuracies_he[i, 1]:.4f}\",\n",
    "        f\"{test_accuracies_he[i, 2]:.4f}\",\n",
    "        f\"{test_accuracies_he[i, 3]:.4f}\",\n",
    "    )\n",
    "console.print(table)"
   ]
  },
  {
   "attachments": {},
   "cell_type": "markdown",
   "metadata": {},
   "source": [
    "Looking at the plots of train accuracy, we got to convergence for the second layer, but not the first, indicating that we should have kept going"
   ]
  },
  {
   "cell_type": "code",
   "execution_count": 10,
   "metadata": {},
   "outputs": [
    {
     "data": {
      "application/vnd.plotly.v1+json": {
       "config": {
        "plotlyServerURL": "https://plot.ly"
       },
       "data": [
        {
         "mode": "lines",
         "name": "hook_mid1, subspace size: 1",
         "type": "scatter",
         "visible": true,
         "x": [
          0,
          1,
          2,
          3,
          4,
          5,
          6,
          7,
          8,
          9,
          10,
          11,
          12,
          13,
          14,
          15,
          16,
          17,
          18,
          19,
          20,
          21,
          22,
          23,
          24,
          25,
          26,
          27,
          28,
          29,
          30,
          31,
          32,
          33,
          34,
          35,
          36,
          37,
          38,
          39,
          40,
          41,
          42,
          43,
          44,
          45,
          46,
          47,
          48,
          49
         ],
         "y": [
          0.6281815738905043,
          0.6288551886876425,
          0.6280000323341006,
          0.6278581628723751,
          0.6279474525224595,
          0.6293998341711741,
          0.6337361420903888,
          0.6405397133221702,
          0.6484583644639879,
          0.6552510252074589,
          0.6596607452347165,
          0.6619494406003801,
          0.663764909146324,
          0.6650486427640158,
          0.6659563827136207,
          0.6663730475637648,
          0.6665635231941466,
          0.6667649168816824,
          0.6670972515666296,
          0.667303600954631,
          0.6673571732309129,
          0.6673819782241942,
          0.6673591562679836,
          0.6673700733790322,
          0.667443489271497,
          0.6675407053932311,
          0.6674891180462308,
          0.6675089597702026,
          0.667395862322005,
          0.6672490409442356,
          0.6672113424255735,
          0.6672579674493699,
          0.6671061856406075,
          0.6668413007070148,
          0.6667301910264152,
          0.6667291995078798,
          0.6666915009892176,
          0.6666498316658868,
          0.6666905104167877,
          0.6666696743359641,
          0.6667559875382317,
          0.6667619366494436,
          0.6667321750095913,
          0.6667619357033382,
          0.6667817764812045,
          0.6668641169865926,
          0.6670168969366286,
          0.6671220575060163,
          0.6672291992202638,
          0.6672738412069896
         ]
        },
        {
         "mode": "lines",
         "name": "hook_mid1, subspace size: 2",
         "type": "scatter",
         "visible": true,
         "x": [
          0,
          1,
          2,
          3,
          4,
          5,
          6,
          7,
          8,
          9,
          10,
          11,
          12,
          13,
          14,
          15,
          16,
          17,
          18,
          19,
          20,
          21,
          22,
          23,
          24,
          25,
          26,
          27,
          28,
          29,
          30,
          31,
          32,
          33,
          34,
          35,
          36,
          37,
          38,
          39,
          40,
          41,
          42,
          43,
          44,
          45,
          46,
          47,
          48,
          49
         ],
         "y": [
          0.6297043902533395,
          0.6401934850783575,
          0.6472530109541756,
          0.6504692785323613,
          0.6511934853735424,
          0.65448316316756,
          0.6579157038340493,
          0.6604494386249118,
          0.6621508229346502,
          0.6641855438550314,
          0.6652172945794605,
          0.665953400589171,
          0.6663472519980537,
          0.6660516214749169,
          0.6658551891644796,
          0.6651200727810935,
          0.665089317730495,
          0.6647043966111683,
          0.6652867425055731,
          0.6655198742472936,
          0.6695674951114352,
          0.6792887222199213,
          0.6857649125750103,
          0.6914603492570301,
          0.6954662989056299,
          0.6990476562863305,
          0.7017917008627028,
          0.7032153104978894,
          0.7047778103086684,
          0.7054544006075177,
          0.7060466569567484,
          0.7066845581645057,
          0.7073670966284615,
          0.7081349548839387,
          0.7083809848815675,
          0.7091299929316082,
          0.7078373328087821,
          0.7099772171368675,
          0.7077817756032186,
          0.7081111480319311,
          0.7079266196205503,
          0.7088591607790145,
          0.7080704702271355,
          0.7084375364439828,
          0.7082966575546871,
          0.7093095571275742,
          0.7080992375101361,
          0.7079583652435787,
          0.7072470547660948,
          0.7072976524867709
         ]
        },
        {
         "mode": "lines",
         "name": "hook_mid1, subspace size: 4",
         "type": "scatter",
         "visible": true,
         "x": [
          0,
          1,
          2,
          3,
          4,
          5,
          6,
          7,
          8,
          9,
          10,
          11,
          12,
          13,
          14,
          15,
          16,
          17,
          18,
          19,
          20,
          21,
          22,
          23,
          24,
          25,
          26,
          27,
          28,
          29,
          30,
          31,
          32,
          33,
          34,
          35,
          36,
          37,
          38,
          39,
          40,
          41,
          42,
          43,
          44,
          45,
          46,
          47,
          48,
          49
         ],
         "y": [
          0.6389206666795034,
          0.6482450678235009,
          0.651855192487202,
          0.6562232469755506,
          0.6598710644812811,
          0.6623849528176444,
          0.6640714567805094,
          0.6663323716511802,
          0.6690813766585456,
          0.6723948754961528,
          0.6745704686830915,
          0.6778869373457772,
          0.6803750291703239,
          0.6831260238374982,
          0.6854861407052903,
          0.6875337617737907,
          0.69000301190785,
          0.6908293962478638,
          0.6911825689058455,
          0.6924980472004603,
          0.6923710656544518,
          0.6938551938723004,
          0.6929305886465406,
          0.695191500678895,
          0.6931151151657104,
          0.6960446739953662,
          0.6963293978146144,
          0.6936299923866515,
          0.6961815782955715,
          0.6962688830163744,
          0.6935486433997987,
          0.696625030229962,
          0.6969057889211745,
          0.6962520139557975,
          0.6922172941858806,
          0.6954097501815312,
          0.6944653070162213,
          0.6920010220436823,
          0.6918591601508004,
          0.6923164999674237,
          0.6900575747565617,
          0.6907311819848561,
          0.691172648989965,
          0.6915069761730376,
          0.6932371400651478,
          0.6950476529106261,
          0.6956200703742013,
          0.6965010270239815,
          0.6983780113477556,
          0.6987291990764557
         ]
        },
        {
         "mode": "lines",
         "name": "hook_mid1, subspace size: 8",
         "type": "scatter",
         "visible": true,
         "x": [
          0,
          1,
          2,
          3,
          4,
          5,
          6,
          7,
          8,
          9,
          10,
          11,
          12,
          13,
          14,
          15,
          16,
          17,
          18,
          19,
          20,
          21,
          22,
          23,
          24,
          25,
          26,
          27,
          28,
          29,
          30,
          31,
          32,
          33,
          34,
          35,
          36,
          37,
          38,
          39,
          40,
          41,
          42,
          43,
          44,
          45,
          46,
          47,
          48,
          49
         ],
         "y": [
          0.6301736405917576,
          0.6382540019731673,
          0.6402301873479571,
          0.645425626209804,
          0.654250028587523,
          0.6642321764476715,
          0.6702916991143,
          0.6748353507783678,
          0.684218286521851,
          0.6951964573254661,
          0.7039881272921487,
          0.7111666987812708,
          0.7175575702909439,
          0.7238016232611642,
          0.7289722580758352,
          0.7331994384054153,
          0.7374474557619246,
          0.7418512247857594,
          0.7463690837224325,
          0.7506776149310763,
          0.7550684875912137,
          0.7592034074995253,
          0.7634216613239713,
          0.7676081695253887,
          0.7712411095225622,
          0.7744911038686358,
          0.7775278157658048,
          0.7807381323405674,
          0.7842242462294442,
          0.788644878637223,
          0.7938581724015493,
          0.7998809890141563,
          0.8067292012865581,
          0.8139901199038067,
          0.8213919041648744,
          0.8288046036447797,
          0.8356984532068646,
          0.8417510342976403,
          0.8471994418946523,
          0.8516270272315495,
          0.8553214697610765,
          0.8587956740742638,
          0.8620893283495827,
          0.8651399177218241,
          0.8681319829017397,
          0.8709018287204561,
          0.873694486088223,
          0.8764593657993135,
          0.8792252389211503,
          0.8818730570021129
         ]
        },
        {
         "mode": "lines",
         "name": "hook_mid2, subspace size: 1",
         "type": "scatter",
         "visible": false,
         "x": [
          0,
          1,
          2,
          3,
          4,
          5,
          6,
          7,
          8,
          9,
          10,
          11,
          12,
          13,
          14,
          15,
          16,
          17,
          18,
          19,
          20,
          21,
          22,
          23,
          24,
          25,
          26,
          27,
          28,
          29,
          30,
          31,
          32,
          33,
          34,
          35,
          36,
          37,
          38,
          39,
          40,
          41,
          42,
          43,
          44,
          45,
          46,
          47,
          48,
          49
         ],
         "y": [
          0.7151825692918565,
          0.7764008329028175,
          0.7997807917140779,
          0.8258948751858303,
          0.8505833745002747,
          0.8578591696799748,
          0.862774840423039,
          0.8643869454898532,
          0.8658571848793636,
          0.8671220673455132,
          0.8680655152078659,
          0.8688948797801185,
          0.8695317894693405,
          0.8701637349431477,
          0.8706895254907154,
          0.8711825836272467,
          0.8715387346252562,
          0.8718512323167589,
          0.872091309418754,
          0.8723036145407056,
          0.8724544086153545,
          0.8726081772456094,
          0.8726915073773217,
          0.8727520250138783,
          0.8728641281052242,
          0.8728919038696895,
          0.8729434864861625,
          0.8729593640282041,
          0.8729841699675908,
          0.8730238553077455,
          0.8730675038837251,
          0.8730992476145426,
          0.8730803983552116,
          0.8731002429174999,
          0.8730932966111198,
          0.8731042061533246,
          0.8731101628333803,
          0.8731121496548728,
          0.8731131392811972,
          0.8731280167897543,
          0.8731290102005005,
          0.8731290120927114,
          0.8731270281095354,
          0.8731419056180924,
          0.8731250422341483,
          0.8731369461332049,
          0.8731399216349163,
          0.8731270243251135,
          0.8731280167897543,
          0.8731399235271272
         ]
        },
        {
         "mode": "lines",
         "name": "hook_mid2, subspace size: 2",
         "type": "scatter",
         "visible": false,
         "x": [
          0,
          1,
          2,
          3,
          4,
          5,
          6,
          7,
          8,
          9,
          10,
          11,
          12,
          13,
          14,
          15,
          16,
          17,
          18,
          19,
          20,
          21,
          22,
          23,
          24,
          25,
          26,
          27,
          28,
          29,
          30,
          31,
          32,
          33,
          34,
          35,
          36,
          37,
          38,
          39,
          40,
          41,
          42,
          43,
          44,
          45,
          46,
          47,
          48,
          49
         ],
         "y": [
          0.7692847583029006,
          0.813583374969543,
          0.8295932894661313,
          0.837462340082441,
          0.849600234675029,
          0.8512907151191954,
          0.8600526206077092,
          0.8610694834164211,
          0.8638373461980668,
          0.8680774228913444,
          0.8687004361833844,
          0.8713680988266355,
          0.8752182930234879,
          0.8752014315317548,
          0.8768532172081962,
          0.8791180962607974,
          0.8795655189998566,
          0.8808026181326972,
          0.880778810334584,
          0.8821508382994031,
          0.8820010347971841,
          0.8829792075686984,
          0.8829286174168662,
          0.8836756395915198,
          0.8838561924677046,
          0.8840704825189378,
          0.8843988473453219,
          0.8845665085883367,
          0.8848204849258302,
          0.8850317871759809,
          0.8852688887762645,
          0.8854732617499337,
          0.8856954773267111,
          0.8859067899840218,
          0.8861300046481784,
          0.8863422984168643,
          0.8865248400067526,
          0.8866924993575566,
          0.8868938911528814,
          0.8870923046081786,
          0.8872421043259757,
          0.8873680990839762,
          0.8874762294784425,
          0.8876260358189779,
          0.8877768270553105,
          0.8879167049650162,
          0.8880794086153545,
          0.8882242422255259,
          0.8883671079363141,
          0.8885675006442599
         ]
        },
        {
         "mode": "lines",
         "name": "hook_mid2, subspace size: 4",
         "type": "scatter",
         "visible": false,
         "x": [
          0,
          1,
          2,
          3,
          4,
          5,
          6,
          7,
          8,
          9,
          10,
          11,
          12,
          13,
          14,
          15,
          16,
          17,
          18,
          19,
          20,
          21,
          22,
          23,
          24,
          25,
          26,
          27,
          28,
          29,
          30,
          31,
          32,
          33,
          34,
          35,
          36,
          37,
          38,
          39,
          40,
          41,
          42,
          43,
          44,
          45,
          46,
          47,
          48,
          49
         ],
         "y": [
          0.7445625378972008,
          0.8053393231497871,
          0.8232341664178031,
          0.8332629374095372,
          0.8491468647169689,
          0.8570684904143924,
          0.8651180976913089,
          0.8698928990061321,
          0.873822461991083,
          0.8768542068345206,
          0.8792103614125933,
          0.8815059926774766,
          0.8832897222231305,
          0.8849613496235439,
          0.8866012361314561,
          0.887988134982094,
          0.8892748431553916,
          0.8905605569718376,
          0.8916756397201901,
          0.8927688920308673,
          0.8938671066647484,
          0.8948274207493615,
          0.8957480551704528,
          0.8965050086142525,
          0.8972282154219491,
          0.8979127425996084,
          0.8985823818615505,
          0.8992292076822311,
          0.8997649266606286,
          0.9003026267838856,
          0.9008720687457493,
          0.9013175037172105,
          0.9018006409917559,
          0.9022421070507595,
          0.9027163130896432,
          0.9030992521180047,
          0.9033482585634504,
          0.9036349559587146,
          0.9039246477777996,
          0.9041875421054779,
          0.9044206785777259,
          0.9046309978242905,
          0.9048532143471733,
          0.9050665128798712,
          0.9052927039918446,
          0.9054643256323678,
          0.9056270254982842,
          0.9057222680440025,
          0.9058899236103845,
          0.9060079786512587
         ]
        },
        {
         "mode": "lines",
         "name": "hook_mid2, subspace size: 8",
         "type": "scatter",
         "visible": false,
         "x": [
          0,
          1,
          2,
          3,
          4,
          5,
          6,
          7,
          8,
          9,
          10,
          11,
          12,
          13,
          14,
          15,
          16,
          17,
          18,
          19,
          20,
          21,
          22,
          23,
          24,
          25,
          26,
          27,
          28,
          29,
          30,
          31,
          32,
          33,
          34,
          35,
          36,
          37,
          38,
          39,
          40,
          41,
          42,
          43,
          44,
          45,
          46,
          47,
          48,
          49
         ],
         "y": [
          0.7861220600113036,
          0.8501667058657086,
          0.8660446859541393,
          0.8731200827492608,
          0.8773393252539257,
          0.8808482563684857,
          0.8836835717398023,
          0.8867173015125214,
          0.8902569886237856,
          0.8932500443761311,
          0.8956389313652402,
          0.8977272236157977,
          0.899522862737141,
          0.9010794068139697,
          0.9024772256139725,
          0.9036954792719039,
          0.9047361527170453,
          0.9056349623770941,
          0.9063651249522254,
          0.9069831749749562,
          0.9075982580109249,
          0.9082163156024994,
          0.9086974651094467,
          0.9091696852729434,
          0.9095645282003615,
          0.9099881421952021,
          0.9102847670751905,
          0.9105962751403688,
          0.9109117502257937,
          0.9111696831763737,
          0.9114534164231921,
          0.911640913713546,
          0.9118482593506102,
          0.9120307971560766,
          0.9122212775169857,
          0.912416710740044,
          0.9125605566161019,
          0.9127192904078771,
          0.9128562013308207,
          0.9129752422135974,
          0.9130863509480915,
          0.913217304244874,
          0.9133611520131429,
          0.9135139291248624,
          0.9136379389535814,
          0.9137431004690746,
          0.9138780198399983,
          0.9139901219852387,
          0.914105202470507,
          0.914201433696444
         ]
        }
       ],
       "layout": {
        "template": {
         "data": {
          "bar": [
           {
            "error_x": {
             "color": "#2a3f5f"
            },
            "error_y": {
             "color": "#2a3f5f"
            },
            "marker": {
             "line": {
              "color": "#E5ECF6",
              "width": 0.5
             },
             "pattern": {
              "fillmode": "overlay",
              "size": 10,
              "solidity": 0.2
             }
            },
            "type": "bar"
           }
          ],
          "barpolar": [
           {
            "marker": {
             "line": {
              "color": "#E5ECF6",
              "width": 0.5
             },
             "pattern": {
              "fillmode": "overlay",
              "size": 10,
              "solidity": 0.2
             }
            },
            "type": "barpolar"
           }
          ],
          "carpet": [
           {
            "aaxis": {
             "endlinecolor": "#2a3f5f",
             "gridcolor": "white",
             "linecolor": "white",
             "minorgridcolor": "white",
             "startlinecolor": "#2a3f5f"
            },
            "baxis": {
             "endlinecolor": "#2a3f5f",
             "gridcolor": "white",
             "linecolor": "white",
             "minorgridcolor": "white",
             "startlinecolor": "#2a3f5f"
            },
            "type": "carpet"
           }
          ],
          "choropleth": [
           {
            "colorbar": {
             "outlinewidth": 0,
             "ticks": ""
            },
            "type": "choropleth"
           }
          ],
          "contour": [
           {
            "colorbar": {
             "outlinewidth": 0,
             "ticks": ""
            },
            "colorscale": [
             [
              0,
              "#0d0887"
             ],
             [
              0.1111111111111111,
              "#46039f"
             ],
             [
              0.2222222222222222,
              "#7201a8"
             ],
             [
              0.3333333333333333,
              "#9c179e"
             ],
             [
              0.4444444444444444,
              "#bd3786"
             ],
             [
              0.5555555555555556,
              "#d8576b"
             ],
             [
              0.6666666666666666,
              "#ed7953"
             ],
             [
              0.7777777777777778,
              "#fb9f3a"
             ],
             [
              0.8888888888888888,
              "#fdca26"
             ],
             [
              1,
              "#f0f921"
             ]
            ],
            "type": "contour"
           }
          ],
          "contourcarpet": [
           {
            "colorbar": {
             "outlinewidth": 0,
             "ticks": ""
            },
            "type": "contourcarpet"
           }
          ],
          "heatmap": [
           {
            "colorbar": {
             "outlinewidth": 0,
             "ticks": ""
            },
            "colorscale": [
             [
              0,
              "#0d0887"
             ],
             [
              0.1111111111111111,
              "#46039f"
             ],
             [
              0.2222222222222222,
              "#7201a8"
             ],
             [
              0.3333333333333333,
              "#9c179e"
             ],
             [
              0.4444444444444444,
              "#bd3786"
             ],
             [
              0.5555555555555556,
              "#d8576b"
             ],
             [
              0.6666666666666666,
              "#ed7953"
             ],
             [
              0.7777777777777778,
              "#fb9f3a"
             ],
             [
              0.8888888888888888,
              "#fdca26"
             ],
             [
              1,
              "#f0f921"
             ]
            ],
            "type": "heatmap"
           }
          ],
          "heatmapgl": [
           {
            "colorbar": {
             "outlinewidth": 0,
             "ticks": ""
            },
            "colorscale": [
             [
              0,
              "#0d0887"
             ],
             [
              0.1111111111111111,
              "#46039f"
             ],
             [
              0.2222222222222222,
              "#7201a8"
             ],
             [
              0.3333333333333333,
              "#9c179e"
             ],
             [
              0.4444444444444444,
              "#bd3786"
             ],
             [
              0.5555555555555556,
              "#d8576b"
             ],
             [
              0.6666666666666666,
              "#ed7953"
             ],
             [
              0.7777777777777778,
              "#fb9f3a"
             ],
             [
              0.8888888888888888,
              "#fdca26"
             ],
             [
              1,
              "#f0f921"
             ]
            ],
            "type": "heatmapgl"
           }
          ],
          "histogram": [
           {
            "marker": {
             "pattern": {
              "fillmode": "overlay",
              "size": 10,
              "solidity": 0.2
             }
            },
            "type": "histogram"
           }
          ],
          "histogram2d": [
           {
            "colorbar": {
             "outlinewidth": 0,
             "ticks": ""
            },
            "colorscale": [
             [
              0,
              "#0d0887"
             ],
             [
              0.1111111111111111,
              "#46039f"
             ],
             [
              0.2222222222222222,
              "#7201a8"
             ],
             [
              0.3333333333333333,
              "#9c179e"
             ],
             [
              0.4444444444444444,
              "#bd3786"
             ],
             [
              0.5555555555555556,
              "#d8576b"
             ],
             [
              0.6666666666666666,
              "#ed7953"
             ],
             [
              0.7777777777777778,
              "#fb9f3a"
             ],
             [
              0.8888888888888888,
              "#fdca26"
             ],
             [
              1,
              "#f0f921"
             ]
            ],
            "type": "histogram2d"
           }
          ],
          "histogram2dcontour": [
           {
            "colorbar": {
             "outlinewidth": 0,
             "ticks": ""
            },
            "colorscale": [
             [
              0,
              "#0d0887"
             ],
             [
              0.1111111111111111,
              "#46039f"
             ],
             [
              0.2222222222222222,
              "#7201a8"
             ],
             [
              0.3333333333333333,
              "#9c179e"
             ],
             [
              0.4444444444444444,
              "#bd3786"
             ],
             [
              0.5555555555555556,
              "#d8576b"
             ],
             [
              0.6666666666666666,
              "#ed7953"
             ],
             [
              0.7777777777777778,
              "#fb9f3a"
             ],
             [
              0.8888888888888888,
              "#fdca26"
             ],
             [
              1,
              "#f0f921"
             ]
            ],
            "type": "histogram2dcontour"
           }
          ],
          "mesh3d": [
           {
            "colorbar": {
             "outlinewidth": 0,
             "ticks": ""
            },
            "type": "mesh3d"
           }
          ],
          "parcoords": [
           {
            "line": {
             "colorbar": {
              "outlinewidth": 0,
              "ticks": ""
             }
            },
            "type": "parcoords"
           }
          ],
          "pie": [
           {
            "automargin": true,
            "type": "pie"
           }
          ],
          "scatter": [
           {
            "fillpattern": {
             "fillmode": "overlay",
             "size": 10,
             "solidity": 0.2
            },
            "type": "scatter"
           }
          ],
          "scatter3d": [
           {
            "line": {
             "colorbar": {
              "outlinewidth": 0,
              "ticks": ""
             }
            },
            "marker": {
             "colorbar": {
              "outlinewidth": 0,
              "ticks": ""
             }
            },
            "type": "scatter3d"
           }
          ],
          "scattercarpet": [
           {
            "marker": {
             "colorbar": {
              "outlinewidth": 0,
              "ticks": ""
             }
            },
            "type": "scattercarpet"
           }
          ],
          "scattergeo": [
           {
            "marker": {
             "colorbar": {
              "outlinewidth": 0,
              "ticks": ""
             }
            },
            "type": "scattergeo"
           }
          ],
          "scattergl": [
           {
            "marker": {
             "colorbar": {
              "outlinewidth": 0,
              "ticks": ""
             }
            },
            "type": "scattergl"
           }
          ],
          "scattermapbox": [
           {
            "marker": {
             "colorbar": {
              "outlinewidth": 0,
              "ticks": ""
             }
            },
            "type": "scattermapbox"
           }
          ],
          "scatterpolar": [
           {
            "marker": {
             "colorbar": {
              "outlinewidth": 0,
              "ticks": ""
             }
            },
            "type": "scatterpolar"
           }
          ],
          "scatterpolargl": [
           {
            "marker": {
             "colorbar": {
              "outlinewidth": 0,
              "ticks": ""
             }
            },
            "type": "scatterpolargl"
           }
          ],
          "scatterternary": [
           {
            "marker": {
             "colorbar": {
              "outlinewidth": 0,
              "ticks": ""
             }
            },
            "type": "scatterternary"
           }
          ],
          "surface": [
           {
            "colorbar": {
             "outlinewidth": 0,
             "ticks": ""
            },
            "colorscale": [
             [
              0,
              "#0d0887"
             ],
             [
              0.1111111111111111,
              "#46039f"
             ],
             [
              0.2222222222222222,
              "#7201a8"
             ],
             [
              0.3333333333333333,
              "#9c179e"
             ],
             [
              0.4444444444444444,
              "#bd3786"
             ],
             [
              0.5555555555555556,
              "#d8576b"
             ],
             [
              0.6666666666666666,
              "#ed7953"
             ],
             [
              0.7777777777777778,
              "#fb9f3a"
             ],
             [
              0.8888888888888888,
              "#fdca26"
             ],
             [
              1,
              "#f0f921"
             ]
            ],
            "type": "surface"
           }
          ],
          "table": [
           {
            "cells": {
             "fill": {
              "color": "#EBF0F8"
             },
             "line": {
              "color": "white"
             }
            },
            "header": {
             "fill": {
              "color": "#C8D4E3"
             },
             "line": {
              "color": "white"
             }
            },
            "type": "table"
           }
          ]
         },
         "layout": {
          "annotationdefaults": {
           "arrowcolor": "#2a3f5f",
           "arrowhead": 0,
           "arrowwidth": 1
          },
          "autotypenumbers": "strict",
          "coloraxis": {
           "colorbar": {
            "outlinewidth": 0,
            "ticks": ""
           }
          },
          "colorscale": {
           "diverging": [
            [
             0,
             "#8e0152"
            ],
            [
             0.1,
             "#c51b7d"
            ],
            [
             0.2,
             "#de77ae"
            ],
            [
             0.3,
             "#f1b6da"
            ],
            [
             0.4,
             "#fde0ef"
            ],
            [
             0.5,
             "#f7f7f7"
            ],
            [
             0.6,
             "#e6f5d0"
            ],
            [
             0.7,
             "#b8e186"
            ],
            [
             0.8,
             "#7fbc41"
            ],
            [
             0.9,
             "#4d9221"
            ],
            [
             1,
             "#276419"
            ]
           ],
           "sequential": [
            [
             0,
             "#0d0887"
            ],
            [
             0.1111111111111111,
             "#46039f"
            ],
            [
             0.2222222222222222,
             "#7201a8"
            ],
            [
             0.3333333333333333,
             "#9c179e"
            ],
            [
             0.4444444444444444,
             "#bd3786"
            ],
            [
             0.5555555555555556,
             "#d8576b"
            ],
            [
             0.6666666666666666,
             "#ed7953"
            ],
            [
             0.7777777777777778,
             "#fb9f3a"
            ],
            [
             0.8888888888888888,
             "#fdca26"
            ],
            [
             1,
             "#f0f921"
            ]
           ],
           "sequentialminus": [
            [
             0,
             "#0d0887"
            ],
            [
             0.1111111111111111,
             "#46039f"
            ],
            [
             0.2222222222222222,
             "#7201a8"
            ],
            [
             0.3333333333333333,
             "#9c179e"
            ],
            [
             0.4444444444444444,
             "#bd3786"
            ],
            [
             0.5555555555555556,
             "#d8576b"
            ],
            [
             0.6666666666666666,
             "#ed7953"
            ],
            [
             0.7777777777777778,
             "#fb9f3a"
            ],
            [
             0.8888888888888888,
             "#fdca26"
            ],
            [
             1,
             "#f0f921"
            ]
           ]
          },
          "colorway": [
           "#636efa",
           "#EF553B",
           "#00cc96",
           "#ab63fa",
           "#FFA15A",
           "#19d3f3",
           "#FF6692",
           "#B6E880",
           "#FF97FF",
           "#FECB52"
          ],
          "font": {
           "color": "#2a3f5f"
          },
          "geo": {
           "bgcolor": "white",
           "lakecolor": "white",
           "landcolor": "#E5ECF6",
           "showlakes": true,
           "showland": true,
           "subunitcolor": "white"
          },
          "hoverlabel": {
           "align": "left"
          },
          "hovermode": "closest",
          "mapbox": {
           "style": "light"
          },
          "paper_bgcolor": "white",
          "plot_bgcolor": "#E5ECF6",
          "polar": {
           "angularaxis": {
            "gridcolor": "white",
            "linecolor": "white",
            "ticks": ""
           },
           "bgcolor": "#E5ECF6",
           "radialaxis": {
            "gridcolor": "white",
            "linecolor": "white",
            "ticks": ""
           }
          },
          "scene": {
           "xaxis": {
            "backgroundcolor": "#E5ECF6",
            "gridcolor": "white",
            "gridwidth": 2,
            "linecolor": "white",
            "showbackground": true,
            "ticks": "",
            "zerolinecolor": "white"
           },
           "yaxis": {
            "backgroundcolor": "#E5ECF6",
            "gridcolor": "white",
            "gridwidth": 2,
            "linecolor": "white",
            "showbackground": true,
            "ticks": "",
            "zerolinecolor": "white"
           },
           "zaxis": {
            "backgroundcolor": "#E5ECF6",
            "gridcolor": "white",
            "gridwidth": 2,
            "linecolor": "white",
            "showbackground": true,
            "ticks": "",
            "zerolinecolor": "white"
           }
          },
          "shapedefaults": {
           "line": {
            "color": "#2a3f5f"
           }
          },
          "ternary": {
           "aaxis": {
            "gridcolor": "white",
            "linecolor": "white",
            "ticks": ""
           },
           "baxis": {
            "gridcolor": "white",
            "linecolor": "white",
            "ticks": ""
           },
           "bgcolor": "#E5ECF6",
           "caxis": {
            "gridcolor": "white",
            "linecolor": "white",
            "ticks": ""
           }
          },
          "title": {
           "x": 0.05
          },
          "xaxis": {
           "automargin": true,
           "gridcolor": "white",
           "linecolor": "white",
           "ticks": "",
           "title": {
            "standoff": 15
           },
           "zerolinecolor": "white",
           "zerolinewidth": 2
          },
          "yaxis": {
           "automargin": true,
           "gridcolor": "white",
           "linecolor": "white",
           "ticks": "",
           "title": {
            "standoff": 15
           },
           "zerolinecolor": "white",
           "zerolinewidth": 2
          }
         }
        },
        "title": {
         "text": "Hierarchical equality rotation matrix train accuracies"
        },
        "updatemenus": [
         {
          "active": 0,
          "buttons": [
           {
            "args": [
             {
              "visible": [
               true,
               true,
               true,
               true,
               false,
               false,
               false,
               false
              ]
             }
            ],
            "label": "hook_mid1",
            "method": "update"
           },
           {
            "args": [
             {
              "visible": [
               false,
               false,
               false,
               false,
               true,
               true,
               true,
               true
              ]
             }
            ],
            "label": "hook_mid2",
            "method": "update"
           }
          ],
          "showactive": true
         }
        ],
        "xaxis": {
         "title": {
          "text": "Epoch"
         }
        },
        "yaxis": {
         "title": {
          "text": "Train Accuracy"
         }
        }
       }
      },
      "text/html": [
       "<html>\n",
       "<head><meta charset=\"utf-8\" /></head>\n",
       "<body>\n",
       "    <div>            <script src=\"https://cdnjs.cloudflare.com/ajax/libs/mathjax/2.7.5/MathJax.js?config=TeX-AMS-MML_SVG\"></script><script type=\"text/javascript\">if (window.MathJax && window.MathJax.Hub && window.MathJax.Hub.Config) {window.MathJax.Hub.Config({SVG: {font: \"STIX-Web\"}});}</script>                <script type=\"text/javascript\">window.PlotlyConfig = {MathJaxConfig: 'local'};</script>\n",
       "        <script charset=\"utf-8\" src=\"https://cdn.plot.ly/plotly-2.24.1.min.js\"></script>                <div id=\"5d8891cc-f268-439e-8a79-a9a9c31e0443\" class=\"plotly-graph-div\" style=\"height:525px; width:100%;\"></div>            <script type=\"text/javascript\">                                    window.PLOTLYENV=window.PLOTLYENV || {};                                    if (document.getElementById(\"5d8891cc-f268-439e-8a79-a9a9c31e0443\")) {                    Plotly.newPlot(                        \"5d8891cc-f268-439e-8a79-a9a9c31e0443\",                        [{\"mode\":\"lines\",\"name\":\"hook_mid1, subspace size: 1\",\"visible\":true,\"x\":[0,1,2,3,4,5,6,7,8,9,10,11,12,13,14,15,16,17,18,19,20,21,22,23,24,25,26,27,28,29,30,31,32,33,34,35,36,37,38,39,40,41,42,43,44,45,46,47,48,49],\"y\":[0.6281815738905043,0.6288551886876425,0.6280000323341006,0.6278581628723751,0.6279474525224595,0.6293998341711741,0.6337361420903888,0.6405397133221702,0.6484583644639879,0.6552510252074589,0.6596607452347165,0.6619494406003801,0.663764909146324,0.6650486427640158,0.6659563827136207,0.6663730475637648,0.6665635231941466,0.6667649168816824,0.6670972515666296,0.667303600954631,0.6673571732309129,0.6673819782241942,0.6673591562679836,0.6673700733790322,0.667443489271497,0.6675407053932311,0.6674891180462308,0.6675089597702026,0.667395862322005,0.6672490409442356,0.6672113424255735,0.6672579674493699,0.6671061856406075,0.6668413007070148,0.6667301910264152,0.6667291995078798,0.6666915009892176,0.6666498316658868,0.6666905104167877,0.6666696743359641,0.6667559875382317,0.6667619366494436,0.6667321750095913,0.6667619357033382,0.6667817764812045,0.6668641169865926,0.6670168969366286,0.6671220575060163,0.6672291992202638,0.6672738412069896],\"type\":\"scatter\"},{\"mode\":\"lines\",\"name\":\"hook_mid1, subspace size: 2\",\"visible\":true,\"x\":[0,1,2,3,4,5,6,7,8,9,10,11,12,13,14,15,16,17,18,19,20,21,22,23,24,25,26,27,28,29,30,31,32,33,34,35,36,37,38,39,40,41,42,43,44,45,46,47,48,49],\"y\":[0.6297043902533395,0.6401934850783575,0.6472530109541756,0.6504692785323613,0.6511934853735424,0.65448316316756,0.6579157038340493,0.6604494386249118,0.6621508229346502,0.6641855438550314,0.6652172945794605,0.665953400589171,0.6663472519980537,0.6660516214749169,0.6658551891644796,0.6651200727810935,0.665089317730495,0.6647043966111683,0.6652867425055731,0.6655198742472936,0.6695674951114352,0.6792887222199213,0.6857649125750103,0.6914603492570301,0.6954662989056299,0.6990476562863305,0.7017917008627028,0.7032153104978894,0.7047778103086684,0.7054544006075177,0.7060466569567484,0.7066845581645057,0.7073670966284615,0.7081349548839387,0.7083809848815675,0.7091299929316082,0.7078373328087821,0.7099772171368675,0.7077817756032186,0.7081111480319311,0.7079266196205503,0.7088591607790145,0.7080704702271355,0.7084375364439828,0.7082966575546871,0.7093095571275742,0.7080992375101361,0.7079583652435787,0.7072470547660948,0.7072976524867709],\"type\":\"scatter\"},{\"mode\":\"lines\",\"name\":\"hook_mid1, subspace size: 4\",\"visible\":true,\"x\":[0,1,2,3,4,5,6,7,8,9,10,11,12,13,14,15,16,17,18,19,20,21,22,23,24,25,26,27,28,29,30,31,32,33,34,35,36,37,38,39,40,41,42,43,44,45,46,47,48,49],\"y\":[0.6389206666795034,0.6482450678235009,0.651855192487202,0.6562232469755506,0.6598710644812811,0.6623849528176444,0.6640714567805094,0.6663323716511802,0.6690813766585456,0.6723948754961528,0.6745704686830915,0.6778869373457772,0.6803750291703239,0.6831260238374982,0.6854861407052903,0.6875337617737907,0.69000301190785,0.6908293962478638,0.6911825689058455,0.6924980472004603,0.6923710656544518,0.6938551938723004,0.6929305886465406,0.695191500678895,0.6931151151657104,0.6960446739953662,0.6963293978146144,0.6936299923866515,0.6961815782955715,0.6962688830163744,0.6935486433997987,0.696625030229962,0.6969057889211745,0.6962520139557975,0.6922172941858806,0.6954097501815312,0.6944653070162213,0.6920010220436823,0.6918591601508004,0.6923164999674237,0.6900575747565617,0.6907311819848561,0.691172648989965,0.6915069761730376,0.6932371400651478,0.6950476529106261,0.6956200703742013,0.6965010270239815,0.6983780113477556,0.6987291990764557],\"type\":\"scatter\"},{\"mode\":\"lines\",\"name\":\"hook_mid1, subspace size: 8\",\"visible\":true,\"x\":[0,1,2,3,4,5,6,7,8,9,10,11,12,13,14,15,16,17,18,19,20,21,22,23,24,25,26,27,28,29,30,31,32,33,34,35,36,37,38,39,40,41,42,43,44,45,46,47,48,49],\"y\":[0.6301736405917576,0.6382540019731673,0.6402301873479571,0.645425626209804,0.654250028587523,0.6642321764476715,0.6702916991143,0.6748353507783678,0.684218286521851,0.6951964573254661,0.7039881272921487,0.7111666987812708,0.7175575702909439,0.7238016232611642,0.7289722580758352,0.7331994384054153,0.7374474557619246,0.7418512247857594,0.7463690837224325,0.7506776149310763,0.7550684875912137,0.7592034074995253,0.7634216613239713,0.7676081695253887,0.7712411095225622,0.7744911038686358,0.7775278157658048,0.7807381323405674,0.7842242462294442,0.788644878637223,0.7938581724015493,0.7998809890141563,0.8067292012865581,0.8139901199038067,0.8213919041648744,0.8288046036447797,0.8356984532068646,0.8417510342976403,0.8471994418946523,0.8516270272315495,0.8553214697610765,0.8587956740742638,0.8620893283495827,0.8651399177218241,0.8681319829017397,0.8709018287204561,0.873694486088223,0.8764593657993135,0.8792252389211503,0.8818730570021129],\"type\":\"scatter\"},{\"mode\":\"lines\",\"name\":\"hook_mid2, subspace size: 1\",\"visible\":false,\"x\":[0,1,2,3,4,5,6,7,8,9,10,11,12,13,14,15,16,17,18,19,20,21,22,23,24,25,26,27,28,29,30,31,32,33,34,35,36,37,38,39,40,41,42,43,44,45,46,47,48,49],\"y\":[0.7151825692918565,0.7764008329028175,0.7997807917140779,0.8258948751858303,0.8505833745002747,0.8578591696799748,0.862774840423039,0.8643869454898532,0.8658571848793636,0.8671220673455132,0.8680655152078659,0.8688948797801185,0.8695317894693405,0.8701637349431477,0.8706895254907154,0.8711825836272467,0.8715387346252562,0.8718512323167589,0.872091309418754,0.8723036145407056,0.8724544086153545,0.8726081772456094,0.8726915073773217,0.8727520250138783,0.8728641281052242,0.8728919038696895,0.8729434864861625,0.8729593640282041,0.8729841699675908,0.8730238553077455,0.8730675038837251,0.8730992476145426,0.8730803983552116,0.8731002429174999,0.8730932966111198,0.8731042061533246,0.8731101628333803,0.8731121496548728,0.8731131392811972,0.8731280167897543,0.8731290102005005,0.8731290120927114,0.8731270281095354,0.8731419056180924,0.8731250422341483,0.8731369461332049,0.8731399216349163,0.8731270243251135,0.8731280167897543,0.8731399235271272],\"type\":\"scatter\"},{\"mode\":\"lines\",\"name\":\"hook_mid2, subspace size: 2\",\"visible\":false,\"x\":[0,1,2,3,4,5,6,7,8,9,10,11,12,13,14,15,16,17,18,19,20,21,22,23,24,25,26,27,28,29,30,31,32,33,34,35,36,37,38,39,40,41,42,43,44,45,46,47,48,49],\"y\":[0.7692847583029006,0.813583374969543,0.8295932894661313,0.837462340082441,0.849600234675029,0.8512907151191954,0.8600526206077092,0.8610694834164211,0.8638373461980668,0.8680774228913444,0.8687004361833844,0.8713680988266355,0.8752182930234879,0.8752014315317548,0.8768532172081962,0.8791180962607974,0.8795655189998566,0.8808026181326972,0.880778810334584,0.8821508382994031,0.8820010347971841,0.8829792075686984,0.8829286174168662,0.8836756395915198,0.8838561924677046,0.8840704825189378,0.8843988473453219,0.8845665085883367,0.8848204849258302,0.8850317871759809,0.8852688887762645,0.8854732617499337,0.8856954773267111,0.8859067899840218,0.8861300046481784,0.8863422984168643,0.8865248400067526,0.8866924993575566,0.8868938911528814,0.8870923046081786,0.8872421043259757,0.8873680990839762,0.8874762294784425,0.8876260358189779,0.8877768270553105,0.8879167049650162,0.8880794086153545,0.8882242422255259,0.8883671079363141,0.8885675006442599],\"type\":\"scatter\"},{\"mode\":\"lines\",\"name\":\"hook_mid2, subspace size: 4\",\"visible\":false,\"x\":[0,1,2,3,4,5,6,7,8,9,10,11,12,13,14,15,16,17,18,19,20,21,22,23,24,25,26,27,28,29,30,31,32,33,34,35,36,37,38,39,40,41,42,43,44,45,46,47,48,49],\"y\":[0.7445625378972008,0.8053393231497871,0.8232341664178031,0.8332629374095372,0.8491468647169689,0.8570684904143924,0.8651180976913089,0.8698928990061321,0.873822461991083,0.8768542068345206,0.8792103614125933,0.8815059926774766,0.8832897222231305,0.8849613496235439,0.8866012361314561,0.887988134982094,0.8892748431553916,0.8905605569718376,0.8916756397201901,0.8927688920308673,0.8938671066647484,0.8948274207493615,0.8957480551704528,0.8965050086142525,0.8972282154219491,0.8979127425996084,0.8985823818615505,0.8992292076822311,0.8997649266606286,0.9003026267838856,0.9008720687457493,0.9013175037172105,0.9018006409917559,0.9022421070507595,0.9027163130896432,0.9030992521180047,0.9033482585634504,0.9036349559587146,0.9039246477777996,0.9041875421054779,0.9044206785777259,0.9046309978242905,0.9048532143471733,0.9050665128798712,0.9052927039918446,0.9054643256323678,0.9056270254982842,0.9057222680440025,0.9058899236103845,0.9060079786512587],\"type\":\"scatter\"},{\"mode\":\"lines\",\"name\":\"hook_mid2, subspace size: 8\",\"visible\":false,\"x\":[0,1,2,3,4,5,6,7,8,9,10,11,12,13,14,15,16,17,18,19,20,21,22,23,24,25,26,27,28,29,30,31,32,33,34,35,36,37,38,39,40,41,42,43,44,45,46,47,48,49],\"y\":[0.7861220600113036,0.8501667058657086,0.8660446859541393,0.8731200827492608,0.8773393252539257,0.8808482563684857,0.8836835717398023,0.8867173015125214,0.8902569886237856,0.8932500443761311,0.8956389313652402,0.8977272236157977,0.899522862737141,0.9010794068139697,0.9024772256139725,0.9036954792719039,0.9047361527170453,0.9056349623770941,0.9063651249522254,0.9069831749749562,0.9075982580109249,0.9082163156024994,0.9086974651094467,0.9091696852729434,0.9095645282003615,0.9099881421952021,0.9102847670751905,0.9105962751403688,0.9109117502257937,0.9111696831763737,0.9114534164231921,0.911640913713546,0.9118482593506102,0.9120307971560766,0.9122212775169857,0.912416710740044,0.9125605566161019,0.9127192904078771,0.9128562013308207,0.9129752422135974,0.9130863509480915,0.913217304244874,0.9133611520131429,0.9135139291248624,0.9136379389535814,0.9137431004690746,0.9138780198399983,0.9139901219852387,0.914105202470507,0.914201433696444],\"type\":\"scatter\"}],                        {\"title\":{\"text\":\"Hierarchical equality rotation matrix train accuracies\"},\"updatemenus\":[{\"active\":0,\"buttons\":[{\"args\":[{\"visible\":[true,true,true,true,false,false,false,false]}],\"label\":\"hook_mid1\",\"method\":\"update\"},{\"args\":[{\"visible\":[false,false,false,false,true,true,true,true]}],\"label\":\"hook_mid2\",\"method\":\"update\"}],\"showactive\":true}],\"xaxis\":{\"title\":{\"text\":\"Epoch\"}},\"yaxis\":{\"title\":{\"text\":\"Train Accuracy\"}},\"template\":{\"data\":{\"histogram2dcontour\":[{\"type\":\"histogram2dcontour\",\"colorbar\":{\"outlinewidth\":0,\"ticks\":\"\"},\"colorscale\":[[0.0,\"#0d0887\"],[0.1111111111111111,\"#46039f\"],[0.2222222222222222,\"#7201a8\"],[0.3333333333333333,\"#9c179e\"],[0.4444444444444444,\"#bd3786\"],[0.5555555555555556,\"#d8576b\"],[0.6666666666666666,\"#ed7953\"],[0.7777777777777778,\"#fb9f3a\"],[0.8888888888888888,\"#fdca26\"],[1.0,\"#f0f921\"]]}],\"choropleth\":[{\"type\":\"choropleth\",\"colorbar\":{\"outlinewidth\":0,\"ticks\":\"\"}}],\"histogram2d\":[{\"type\":\"histogram2d\",\"colorbar\":{\"outlinewidth\":0,\"ticks\":\"\"},\"colorscale\":[[0.0,\"#0d0887\"],[0.1111111111111111,\"#46039f\"],[0.2222222222222222,\"#7201a8\"],[0.3333333333333333,\"#9c179e\"],[0.4444444444444444,\"#bd3786\"],[0.5555555555555556,\"#d8576b\"],[0.6666666666666666,\"#ed7953\"],[0.7777777777777778,\"#fb9f3a\"],[0.8888888888888888,\"#fdca26\"],[1.0,\"#f0f921\"]]}],\"heatmap\":[{\"type\":\"heatmap\",\"colorbar\":{\"outlinewidth\":0,\"ticks\":\"\"},\"colorscale\":[[0.0,\"#0d0887\"],[0.1111111111111111,\"#46039f\"],[0.2222222222222222,\"#7201a8\"],[0.3333333333333333,\"#9c179e\"],[0.4444444444444444,\"#bd3786\"],[0.5555555555555556,\"#d8576b\"],[0.6666666666666666,\"#ed7953\"],[0.7777777777777778,\"#fb9f3a\"],[0.8888888888888888,\"#fdca26\"],[1.0,\"#f0f921\"]]}],\"heatmapgl\":[{\"type\":\"heatmapgl\",\"colorbar\":{\"outlinewidth\":0,\"ticks\":\"\"},\"colorscale\":[[0.0,\"#0d0887\"],[0.1111111111111111,\"#46039f\"],[0.2222222222222222,\"#7201a8\"],[0.3333333333333333,\"#9c179e\"],[0.4444444444444444,\"#bd3786\"],[0.5555555555555556,\"#d8576b\"],[0.6666666666666666,\"#ed7953\"],[0.7777777777777778,\"#fb9f3a\"],[0.8888888888888888,\"#fdca26\"],[1.0,\"#f0f921\"]]}],\"contourcarpet\":[{\"type\":\"contourcarpet\",\"colorbar\":{\"outlinewidth\":0,\"ticks\":\"\"}}],\"contour\":[{\"type\":\"contour\",\"colorbar\":{\"outlinewidth\":0,\"ticks\":\"\"},\"colorscale\":[[0.0,\"#0d0887\"],[0.1111111111111111,\"#46039f\"],[0.2222222222222222,\"#7201a8\"],[0.3333333333333333,\"#9c179e\"],[0.4444444444444444,\"#bd3786\"],[0.5555555555555556,\"#d8576b\"],[0.6666666666666666,\"#ed7953\"],[0.7777777777777778,\"#fb9f3a\"],[0.8888888888888888,\"#fdca26\"],[1.0,\"#f0f921\"]]}],\"surface\":[{\"type\":\"surface\",\"colorbar\":{\"outlinewidth\":0,\"ticks\":\"\"},\"colorscale\":[[0.0,\"#0d0887\"],[0.1111111111111111,\"#46039f\"],[0.2222222222222222,\"#7201a8\"],[0.3333333333333333,\"#9c179e\"],[0.4444444444444444,\"#bd3786\"],[0.5555555555555556,\"#d8576b\"],[0.6666666666666666,\"#ed7953\"],[0.7777777777777778,\"#fb9f3a\"],[0.8888888888888888,\"#fdca26\"],[1.0,\"#f0f921\"]]}],\"mesh3d\":[{\"type\":\"mesh3d\",\"colorbar\":{\"outlinewidth\":0,\"ticks\":\"\"}}],\"scatter\":[{\"fillpattern\":{\"fillmode\":\"overlay\",\"size\":10,\"solidity\":0.2},\"type\":\"scatter\"}],\"parcoords\":[{\"type\":\"parcoords\",\"line\":{\"colorbar\":{\"outlinewidth\":0,\"ticks\":\"\"}}}],\"scatterpolargl\":[{\"type\":\"scatterpolargl\",\"marker\":{\"colorbar\":{\"outlinewidth\":0,\"ticks\":\"\"}}}],\"bar\":[{\"error_x\":{\"color\":\"#2a3f5f\"},\"error_y\":{\"color\":\"#2a3f5f\"},\"marker\":{\"line\":{\"color\":\"#E5ECF6\",\"width\":0.5},\"pattern\":{\"fillmode\":\"overlay\",\"size\":10,\"solidity\":0.2}},\"type\":\"bar\"}],\"scattergeo\":[{\"type\":\"scattergeo\",\"marker\":{\"colorbar\":{\"outlinewidth\":0,\"ticks\":\"\"}}}],\"scatterpolar\":[{\"type\":\"scatterpolar\",\"marker\":{\"colorbar\":{\"outlinewidth\":0,\"ticks\":\"\"}}}],\"histogram\":[{\"marker\":{\"pattern\":{\"fillmode\":\"overlay\",\"size\":10,\"solidity\":0.2}},\"type\":\"histogram\"}],\"scattergl\":[{\"type\":\"scattergl\",\"marker\":{\"colorbar\":{\"outlinewidth\":0,\"ticks\":\"\"}}}],\"scatter3d\":[{\"type\":\"scatter3d\",\"line\":{\"colorbar\":{\"outlinewidth\":0,\"ticks\":\"\"}},\"marker\":{\"colorbar\":{\"outlinewidth\":0,\"ticks\":\"\"}}}],\"scattermapbox\":[{\"type\":\"scattermapbox\",\"marker\":{\"colorbar\":{\"outlinewidth\":0,\"ticks\":\"\"}}}],\"scatterternary\":[{\"type\":\"scatterternary\",\"marker\":{\"colorbar\":{\"outlinewidth\":0,\"ticks\":\"\"}}}],\"scattercarpet\":[{\"type\":\"scattercarpet\",\"marker\":{\"colorbar\":{\"outlinewidth\":0,\"ticks\":\"\"}}}],\"carpet\":[{\"aaxis\":{\"endlinecolor\":\"#2a3f5f\",\"gridcolor\":\"white\",\"linecolor\":\"white\",\"minorgridcolor\":\"white\",\"startlinecolor\":\"#2a3f5f\"},\"baxis\":{\"endlinecolor\":\"#2a3f5f\",\"gridcolor\":\"white\",\"linecolor\":\"white\",\"minorgridcolor\":\"white\",\"startlinecolor\":\"#2a3f5f\"},\"type\":\"carpet\"}],\"table\":[{\"cells\":{\"fill\":{\"color\":\"#EBF0F8\"},\"line\":{\"color\":\"white\"}},\"header\":{\"fill\":{\"color\":\"#C8D4E3\"},\"line\":{\"color\":\"white\"}},\"type\":\"table\"}],\"barpolar\":[{\"marker\":{\"line\":{\"color\":\"#E5ECF6\",\"width\":0.5},\"pattern\":{\"fillmode\":\"overlay\",\"size\":10,\"solidity\":0.2}},\"type\":\"barpolar\"}],\"pie\":[{\"automargin\":true,\"type\":\"pie\"}]},\"layout\":{\"autotypenumbers\":\"strict\",\"colorway\":[\"#636efa\",\"#EF553B\",\"#00cc96\",\"#ab63fa\",\"#FFA15A\",\"#19d3f3\",\"#FF6692\",\"#B6E880\",\"#FF97FF\",\"#FECB52\"],\"font\":{\"color\":\"#2a3f5f\"},\"hovermode\":\"closest\",\"hoverlabel\":{\"align\":\"left\"},\"paper_bgcolor\":\"white\",\"plot_bgcolor\":\"#E5ECF6\",\"polar\":{\"bgcolor\":\"#E5ECF6\",\"angularaxis\":{\"gridcolor\":\"white\",\"linecolor\":\"white\",\"ticks\":\"\"},\"radialaxis\":{\"gridcolor\":\"white\",\"linecolor\":\"white\",\"ticks\":\"\"}},\"ternary\":{\"bgcolor\":\"#E5ECF6\",\"aaxis\":{\"gridcolor\":\"white\",\"linecolor\":\"white\",\"ticks\":\"\"},\"baxis\":{\"gridcolor\":\"white\",\"linecolor\":\"white\",\"ticks\":\"\"},\"caxis\":{\"gridcolor\":\"white\",\"linecolor\":\"white\",\"ticks\":\"\"}},\"coloraxis\":{\"colorbar\":{\"outlinewidth\":0,\"ticks\":\"\"}},\"colorscale\":{\"sequential\":[[0.0,\"#0d0887\"],[0.1111111111111111,\"#46039f\"],[0.2222222222222222,\"#7201a8\"],[0.3333333333333333,\"#9c179e\"],[0.4444444444444444,\"#bd3786\"],[0.5555555555555556,\"#d8576b\"],[0.6666666666666666,\"#ed7953\"],[0.7777777777777778,\"#fb9f3a\"],[0.8888888888888888,\"#fdca26\"],[1.0,\"#f0f921\"]],\"sequentialminus\":[[0.0,\"#0d0887\"],[0.1111111111111111,\"#46039f\"],[0.2222222222222222,\"#7201a8\"],[0.3333333333333333,\"#9c179e\"],[0.4444444444444444,\"#bd3786\"],[0.5555555555555556,\"#d8576b\"],[0.6666666666666666,\"#ed7953\"],[0.7777777777777778,\"#fb9f3a\"],[0.8888888888888888,\"#fdca26\"],[1.0,\"#f0f921\"]],\"diverging\":[[0,\"#8e0152\"],[0.1,\"#c51b7d\"],[0.2,\"#de77ae\"],[0.3,\"#f1b6da\"],[0.4,\"#fde0ef\"],[0.5,\"#f7f7f7\"],[0.6,\"#e6f5d0\"],[0.7,\"#b8e186\"],[0.8,\"#7fbc41\"],[0.9,\"#4d9221\"],[1,\"#276419\"]]},\"xaxis\":{\"gridcolor\":\"white\",\"linecolor\":\"white\",\"ticks\":\"\",\"title\":{\"standoff\":15},\"zerolinecolor\":\"white\",\"automargin\":true,\"zerolinewidth\":2},\"yaxis\":{\"gridcolor\":\"white\",\"linecolor\":\"white\",\"ticks\":\"\",\"title\":{\"standoff\":15},\"zerolinecolor\":\"white\",\"automargin\":true,\"zerolinewidth\":2},\"scene\":{\"xaxis\":{\"backgroundcolor\":\"#E5ECF6\",\"gridcolor\":\"white\",\"linecolor\":\"white\",\"showbackground\":true,\"ticks\":\"\",\"zerolinecolor\":\"white\",\"gridwidth\":2},\"yaxis\":{\"backgroundcolor\":\"#E5ECF6\",\"gridcolor\":\"white\",\"linecolor\":\"white\",\"showbackground\":true,\"ticks\":\"\",\"zerolinecolor\":\"white\",\"gridwidth\":2},\"zaxis\":{\"backgroundcolor\":\"#E5ECF6\",\"gridcolor\":\"white\",\"linecolor\":\"white\",\"showbackground\":true,\"ticks\":\"\",\"zerolinecolor\":\"white\",\"gridwidth\":2}},\"shapedefaults\":{\"line\":{\"color\":\"#2a3f5f\"}},\"annotationdefaults\":{\"arrowcolor\":\"#2a3f5f\",\"arrowhead\":0,\"arrowwidth\":1},\"geo\":{\"bgcolor\":\"white\",\"landcolor\":\"#E5ECF6\",\"subunitcolor\":\"white\",\"showland\":true,\"showlakes\":true,\"lakecolor\":\"white\"},\"title\":{\"x\":0.05},\"mapbox\":{\"style\":\"light\"}}}},                        {\"responsive\": true}                    ).then(function(){\n",
       "                            \n",
       "var gd = document.getElementById('5d8891cc-f268-439e-8a79-a9a9c31e0443');\n",
       "var x = new MutationObserver(function (mutations, observer) {{\n",
       "        var display = window.getComputedStyle(gd).display;\n",
       "        if (!display || display === 'none') {{\n",
       "            console.log([gd, 'removed!']);\n",
       "            Plotly.purge(gd);\n",
       "            observer.disconnect();\n",
       "        }}\n",
       "}});\n",
       "\n",
       "// Listen for the removal of the full notebook cells\n",
       "var notebookContainer = gd.closest('#notebook-container');\n",
       "if (notebookContainer) {{\n",
       "    x.observe(notebookContainer, {childList: true});\n",
       "}}\n",
       "\n",
       "// Listen for the clearing of the current output cell\n",
       "var outputEl = gd.closest('.output');\n",
       "if (outputEl) {{\n",
       "    x.observe(outputEl, {childList: true});\n",
       "}}\n",
       "\n",
       "                        })                };                            </script>        </div>\n",
       "</body>\n",
       "</html>"
      ]
     },
     "metadata": {},
     "output_type": "display_data"
    }
   ],
   "source": [
    "import plotly.graph_objects as go\n",
    "\n",
    "traces = []\n",
    "\n",
    "# Iterate over the first two elements of intervene_hook\n",
    "for i, hook in enumerate(intervene_hook[:2]):\n",
    "    # Iterate over subspace_size\n",
    "    for j, size in enumerate(subspace_size):\n",
    "        # Get train accuracies for the current hook and size\n",
    "        train_accuracies = train_accuracies_he[i, j]\n",
    "        \n",
    "        # Create a scatter trace for the train accuracies\n",
    "        trace = go.Scatter(\n",
    "            x=list(range(len(train_accuracies))),\n",
    "            y=train_accuracies,\n",
    "            name=f\"{hook}, subspace size: {size}\",\n",
    "            mode=\"lines\",\n",
    "            visible=bool(1-i),\n",
    "        )\n",
    "        \n",
    "        # Add the trace to the list of traces\n",
    "        traces.append(trace)\n",
    "\n",
    "# Create layout\n",
    "layout = go.Layout(\n",
    "    title=\"Hierarchical equality rotation matrix train accuracies\",\n",
    "    xaxis_title=\"Epoch\",\n",
    "    yaxis_title=\"Train Accuracy\",\n",
    "    updatemenus=[\n",
    "        dict(\n",
    "            buttons=[\n",
    "                dict(\n",
    "                    label=\"hook_mid1\",\n",
    "                    method=\"update\",\n",
    "                    args=[{\"visible\": [True] * 4 + [False] *4}]\n",
    "                ),\n",
    "                dict(\n",
    "                    label=\"hook_mid2\",\n",
    "                    method=\"update\",\n",
    "                    args=[{\"visible\": [False] * 4 + [True] *4}]\n",
    "                )\n",
    "            ],\n",
    "            active=0,\n",
    "            showactive=True\n",
    "        )\n",
    "    ]\n",
    ")\n",
    "\n",
    "# Create Figure object\n",
    "fig = go.Figure(data=traces, layout=layout)\n",
    "\n",
    "# Display the figure\n",
    "fig.show()"
   ]
  },
  {
   "attachments": {},
   "cell_type": "markdown",
   "metadata": {},
   "source": [
    "## Parenthesis balancing"
   ]
  },
  {
   "attachments": {},
   "cell_type": "markdown",
   "metadata": {},
   "source": [
    "### Task details\n",
    "\n",
    "Given a string, determine whether the next token is more likely to be an open or closed parenthesis"
   ]
  },
  {
   "attachments": {},
   "cell_type": "markdown",
   "metadata": {},
   "source": [
    "### Implementation details\n",
    "\n",
    "- We used a pretrained 1-layer transformer (\"gelu-1l\")\n",
    "- We developed a recurrent DAG to solve the task\n",
    "- The implementation of the DAG allows it to apply to arbitrary length sequences"
   ]
  },
  {
   "cell_type": "code",
   "execution_count": 11,
   "metadata": {},
   "outputs": [
    {
     "name": "stdout",
     "output_type": "stream",
     "text": [
      "Loaded pretrained model gelu-1l into HookedTransformer\n",
      "Running model to determine activation space size...\n"
     ]
    }
   ],
   "source": [
    "dag_pb, variable_alignment_pb, model_pb = make_paren_bal_dag_and_variable_alignment(\n",
    "    model_name=\"gelu-1l\",\n",
    "    intervene_model_hooks=[\"blocks.0.hook_resid_mid\"],\n",
    "    intervene_nodes=[\"s\"],\n",
    "    subspace_sizes=[64],\n",
    "    device=\"cpu\",\n",
    ")"
   ]
  },
  {
   "attachments": {},
   "cell_type": "markdown",
   "metadata": {},
   "source": [
    "Here we intervene on the DAG at a specific node and stream position, which changes the final output."
   ]
  },
  {
   "cell_type": "code",
   "execution_count": 12,
   "metadata": {},
   "outputs": [
    {
     "data": {
      "image/png": "[encoded data removed]",
      "text/plain": [
       "<Figure size 640x480 with 1 Axes>"
      ]
     },
     "metadata": {},
     "output_type": "display_data"
    },
    {
     "data": {
      "text/html": [
       "<pre style=\"white-space:pre;overflow-x:auto;line-height:normal;font-family:Menlo,'DejaVu Sans Mono',consolas,'Courier New',monospace\"><span style=\"font-style: italic\">                                                 Node Information                                                  </span>\n",
       "┏━━━━━━┳━━━━━━━━━━━━━━━━┳━━━━━━━━━┳━━━━━━━━━┳━━━━━━━━━┳━━━━━━━━━┳━━━━━━━━━┳━━━━━━━━━┳━━━━━━━━━┳━━━━━━━━━┳━━━━━━━━━┓\n",
       "┃<span style=\"font-weight: bold\"> Node </span>┃<span style=\"font-weight: bold\"> Function       </span>┃<span style=\"font-weight: bold\"> Value 0 </span>┃<span style=\"font-weight: bold\"> Value 1 </span>┃<span style=\"font-weight: bold\"> Value 2 </span>┃<span style=\"font-weight: bold\"> Value 3 </span>┃<span style=\"font-weight: bold\"> Value 4 </span>┃<span style=\"font-weight: bold\"> Value 5 </span>┃<span style=\"font-weight: bold\"> Value 6 </span>┃<span style=\"font-weight: bold\"> Value 7 </span>┃<span style=\"font-weight: bold\"> Value 8 </span>┃\n",
       "┡━━━━━━╇━━━━━━━━━━━━━━━━╇━━━━━━━━━╇━━━━━━━━━╇━━━━━━━━━╇━━━━━━━━━╇━━━━━━━━━╇━━━━━━━━━╇━━━━━━━━━╇━━━━━━━━━╇━━━━━━━━━┩\n",
       "│ x    │ -              │ &lt;|BOS|&gt; │ (       │ d       │ (       │ d       │ )       │ d       │ )       │ d       │\n",
       "│ v    │ interp_symbol… │ 0       │ 1       │ 0       │ -1      │ 0       │ -1      │ 0       │ -1      │ 0       │\n",
       "│ s    │ cumsum_func    │ 0       │ 1       │ 1       │ 0       │ 0       │ -1      │ -1      │ -2      │ -2      │\n",
       "│ c    │ close_paren_f… │ False   │ True    │ True    │ False   │ False   │ False   │ False   │ False   │ False   │\n",
       "└──────┴────────────────┴─────────┴─────────┴─────────┴─────────┴─────────┴─────────┴─────────┴─────────┴─────────┘\n",
       "</pre>\n"
      ],
      "text/plain": [
       "\u001b[3m                                                 Node Information                                                  \u001b[0m\n",
       "┏━━━━━━┳━━━━━━━━━━━━━━━━┳━━━━━━━━━┳━━━━━━━━━┳━━━━━━━━━┳━━━━━━━━━┳━━━━━━━━━┳━━━━━━━━━┳━━━━━━━━━┳━━━━━━━━━┳━━━━━━━━━┓\n",
       "┃\u001b[1m \u001b[0m\u001b[1mNode\u001b[0m\u001b[1m \u001b[0m┃\u001b[1m \u001b[0m\u001b[1mFunction      \u001b[0m\u001b[1m \u001b[0m┃\u001b[1m \u001b[0m\u001b[1mValue 0\u001b[0m\u001b[1m \u001b[0m┃\u001b[1m \u001b[0m\u001b[1mValue 1\u001b[0m\u001b[1m \u001b[0m┃\u001b[1m \u001b[0m\u001b[1mValue 2\u001b[0m\u001b[1m \u001b[0m┃\u001b[1m \u001b[0m\u001b[1mValue 3\u001b[0m\u001b[1m \u001b[0m┃\u001b[1m \u001b[0m\u001b[1mValue 4\u001b[0m\u001b[1m \u001b[0m┃\u001b[1m \u001b[0m\u001b[1mValue 5\u001b[0m\u001b[1m \u001b[0m┃\u001b[1m \u001b[0m\u001b[1mValue 6\u001b[0m\u001b[1m \u001b[0m┃\u001b[1m \u001b[0m\u001b[1mValue 7\u001b[0m\u001b[1m \u001b[0m┃\u001b[1m \u001b[0m\u001b[1mValue 8\u001b[0m\u001b[1m \u001b[0m┃\n",
       "┡━━━━━━╇━━━━━━━━━━━━━━━━╇━━━━━━━━━╇━━━━━━━━━╇━━━━━━━━━╇━━━━━━━━━╇━━━━━━━━━╇━━━━━━━━━╇━━━━━━━━━╇━━━━━━━━━╇━━━━━━━━━┩\n",
       "│ x    │ -              │ <|BOS|> │ (       │ d       │ (       │ d       │ )       │ d       │ )       │ d       │\n",
       "│ v    │ interp_symbol… │ 0       │ 1       │ 0       │ -1      │ 0       │ -1      │ 0       │ -1      │ 0       │\n",
       "│ s    │ cumsum_func    │ 0       │ 1       │ 1       │ 0       │ 0       │ -1      │ -1      │ -2      │ -2      │\n",
       "│ c    │ close_paren_f… │ False   │ True    │ True    │ False   │ False   │ False   │ False   │ False   │ False   │\n",
       "└──────┴────────────────┴─────────┴─────────┴─────────┴─────────┴─────────┴─────────┴─────────┴─────────┴─────────┘\n"
      ]
     },
     "metadata": {},
     "output_type": "display_data"
    }
   ],
   "source": [
    "string1 = \"(d(d)d)d\"\n",
    "string2 = \"(d)d(d)d\"\n",
    "\n",
    "dag_pb.num_streams = 9\n",
    "dag_pb.do_interchange_intervention([[(\"v\", 3)]], [dict(x=model_pb.to_str_tokens(string2))])\n",
    "dag_pb.run(dict(x=model_pb.to_str_tokens(string1)), reset=False)\n",
    "dag_pb.visualize()"
   ]
  },
  {
   "attachments": {},
   "cell_type": "markdown",
   "metadata": {},
   "source": [
    "### Experimental results"
   ]
  },
  {
   "cell_type": "code",
   "execution_count": 13,
   "metadata": {},
   "outputs": [],
   "source": [
    "data_pb = []\n",
    "for filename in os.listdir(RESULTS_DATA_DIR):\n",
    "    filepath = os.path.join(RESULTS_DATA_DIR, filename)\n",
    "    if os.path.isfile(filepath) and filename.startswith(PAREN_BAL_PREFIX):\n",
    "        with open(filepath) as fp:\n",
    "            data_pb.append(json.load(fp))"
   ]
  },
  {
   "cell_type": "code",
   "execution_count": 14,
   "metadata": {},
   "outputs": [],
   "source": [
    "intervene_node = [\"v\", \"s\"]\n",
    "intervene_hook = [\n",
    "    \"blocks.0.hook_resid_pre\",\n",
    "    \"blocks.0.hook_resid_mid\",\n",
    "    \"blocks.0.hook_resid_post\",\n",
    "]\n",
    "subspace_size = [64, 256]\n",
    "train_lr = [1, 100, 10000]\n",
    "\n",
    "test_accuracies_pb = np.zeros(\n",
    "    (len(intervene_node), len(intervene_hook), len(subspace_size))\n",
    ")\n",
    "train_accuracies_pb = np.zeros(\n",
    "    (\n",
    "        len(intervene_node),\n",
    "        len(intervene_hook),\n",
    "        len(subspace_size),\n",
    "        len(data_pb[0][\"train_accuracies\"]),\n",
    "    )\n",
    ")\n",
    "\n",
    "# Select the best runs\n",
    "for datum in data_pb:\n",
    "    i = intervene_node.index(datum[\"parameters\"][\"intervene_node\"])\n",
    "    j = intervene_hook.index(datum[\"parameters\"][\"intervene_hook\"])\n",
    "    k = subspace_size.index(datum[\"parameters\"][\"subspace_size\"])\n",
    "    if datum[\"test_accuracy\"] > test_accuracies_pb[i, j, k]:\n",
    "        test_accuracies_pb[i, j, k] = datum[\"test_accuracy\"]\n",
    "        train_accuracies_pb[i, j, k] = np.array(datum[\"train_accuracies\"])"
   ]
  },
  {
   "attachments": {},
   "cell_type": "markdown",
   "metadata": {},
   "source": [
    "The final test accuracies we obtained were quite low"
   ]
  },
  {
   "cell_type": "code",
   "execution_count": 17,
   "metadata": {},
   "outputs": [
    {
     "data": {
      "text/html": [
       "<pre style=\"white-space:pre;overflow-x:auto;line-height:normal;font-family:Menlo,'DejaVu Sans Mono',consolas,'Courier New',monospace\">                        <span style=\"font-style: italic\">                      Accuracies for node 'v'                      </span>                        \n",
       "                        ┏━━━━━━━━━━━━━━━━━━━━━━━━━━┳━━━━━━━━━━━━━━━━━━┳━━━━━━━━━━━━━━━━━━━┓                        \n",
       "                        ┃<span style=\"font-weight: bold\"> Hook                     </span>┃<span style=\"font-weight: bold\"> Subspace Size 64 </span>┃<span style=\"font-weight: bold\"> Subspace Size 256 </span>┃                        \n",
       "                        ┡━━━━━━━━━━━━━━━━━━━━━━━━━━╇━━━━━━━━━━━━━━━━━━╇━━━━━━━━━━━━━━━━━━━┩                        \n",
       "                        │<span style=\"font-weight: bold\"> blocks.0.hook_resid_pre  </span>│ 0.4774           │ 0.4772            │                        \n",
       "                        │<span style=\"font-weight: bold\"> blocks.0.hook_resid_mid  </span>│ 0.4749           │ 0.4733            │                        \n",
       "                        │<span style=\"font-weight: bold\"> blocks.0.hook_resid_post </span>│ 0.4744           │ 0.0000            │                        \n",
       "                        └──────────────────────────┴──────────────────┴───────────────────┘                        \n",
       "                        <span style=\"font-style: italic\">                      Accuracies for node 's'                      </span>                        \n",
       "                        ┏━━━━━━━━━━━━━━━━━━━━━━━━━━┳━━━━━━━━━━━━━━━━━━┳━━━━━━━━━━━━━━━━━━━┓                        \n",
       "                        ┃<span style=\"font-weight: bold\"> Hook                     </span>┃<span style=\"font-weight: bold\"> Subspace Size 64 </span>┃<span style=\"font-weight: bold\"> Subspace Size 256 </span>┃                        \n",
       "                        ┡━━━━━━━━━━━━━━━━━━━━━━━━━━╇━━━━━━━━━━━━━━━━━━╇━━━━━━━━━━━━━━━━━━━┩                        \n",
       "                        │<span style=\"font-weight: bold\"> blocks.0.hook_resid_pre  </span>│ 0.3851           │ 0.3751            │                        \n",
       "                        │<span style=\"font-weight: bold\"> blocks.0.hook_resid_mid  </span>│ 0.3599           │ 0.3578            │                        \n",
       "                        │<span style=\"font-weight: bold\"> blocks.0.hook_resid_post </span>│ 0.0000           │ 0.0000            │                        \n",
       "                        └──────────────────────────┴──────────────────┴───────────────────┘                        \n",
       "</pre>\n"
      ],
      "text/plain": [
       "                        \u001b[3m                      Accuracies for node 'v'                      \u001b[0m                        \n",
       "                        ┏━━━━━━━━━━━━━━━━━━━━━━━━━━┳━━━━━━━━━━━━━━━━━━┳━━━━━━━━━━━━━━━━━━━┓                        \n",
       "                        ┃\u001b[1m \u001b[0m\u001b[1mHook                    \u001b[0m\u001b[1m \u001b[0m┃\u001b[1m \u001b[0m\u001b[1mSubspace Size 64\u001b[0m\u001b[1m \u001b[0m┃\u001b[1m \u001b[0m\u001b[1mSubspace Size 256\u001b[0m\u001b[1m \u001b[0m┃                        \n",
       "                        ┡━━━━━━━━━━━━━━━━━━━━━━━━━━╇━━━━━━━━━━━━━━━━━━╇━━━━━━━━━━━━━━━━━━━┩                        \n",
       "                        │\u001b[1m \u001b[0m\u001b[1mblocks.0.hook_resid_pre \u001b[0m\u001b[1m \u001b[0m│ 0.4774           │ 0.4772            │                        \n",
       "                        │\u001b[1m \u001b[0m\u001b[1mblocks.0.hook_resid_mid \u001b[0m\u001b[1m \u001b[0m│ 0.4749           │ 0.4733            │                        \n",
       "                        │\u001b[1m \u001b[0m\u001b[1mblocks.0.hook_resid_post\u001b[0m\u001b[1m \u001b[0m│ 0.4744           │ 0.0000            │                        \n",
       "                        └──────────────────────────┴──────────────────┴───────────────────┘                        \n",
       "                        \u001b[3m                      Accuracies for node 's'                      \u001b[0m                        \n",
       "                        ┏━━━━━━━━━━━━━━━━━━━━━━━━━━┳━━━━━━━━━━━━━━━━━━┳━━━━━━━━━━━━━━━━━━━┓                        \n",
       "                        ┃\u001b[1m \u001b[0m\u001b[1mHook                    \u001b[0m\u001b[1m \u001b[0m┃\u001b[1m \u001b[0m\u001b[1mSubspace Size 64\u001b[0m\u001b[1m \u001b[0m┃\u001b[1m \u001b[0m\u001b[1mSubspace Size 256\u001b[0m\u001b[1m \u001b[0m┃                        \n",
       "                        ┡━━━━━━━━━━━━━━━━━━━━━━━━━━╇━━━━━━━━━━━━━━━━━━╇━━━━━━━━━━━━━━━━━━━┩                        \n",
       "                        │\u001b[1m \u001b[0m\u001b[1mblocks.0.hook_resid_pre \u001b[0m\u001b[1m \u001b[0m│ 0.3851           │ 0.3751            │                        \n",
       "                        │\u001b[1m \u001b[0m\u001b[1mblocks.0.hook_resid_mid \u001b[0m\u001b[1m \u001b[0m│ 0.3599           │ 0.3578            │                        \n",
       "                        │\u001b[1m \u001b[0m\u001b[1mblocks.0.hook_resid_post\u001b[0m\u001b[1m \u001b[0m│ 0.0000           │ 0.0000            │                        \n",
       "                        └──────────────────────────┴──────────────────┴───────────────────┘                        \n"
      ]
     },
     "metadata": {},
     "output_type": "display_data"
    }
   ],
   "source": [
    "table_v = Table(\n",
    "    title=\"Accuracies for node 'v'\", show_header=True, header_style=\"bold\"\n",
    ")\n",
    "table_v.add_column(\"Hook\", style=\"bold\")\n",
    "table_v.add_column(\"Subspace Size 64\")\n",
    "table_v.add_column(\"Subspace Size 256\")\n",
    "for j, hook in enumerate(intervene_hook):\n",
    "    table_v.add_row(\n",
    "        hook,\n",
    "        f\"{test_accuracies_pb[0, j, 0]:.4f}\",\n",
    "        f\"{test_accuracies_pb[0, j, 1]:.4f}\",\n",
    "    )\n",
    "\n",
    "table_s = Table(\n",
    "    title=\"Accuracies for node 's'\", show_header=True, header_style=\"bold\"\n",
    ")\n",
    "\n",
    "table_s.add_column(\"Hook\", style=\"bold\")\n",
    "table_s.add_column(\"Subspace Size 64\")\n",
    "table_s.add_column(\"Subspace Size 256\")\n",
    "for j, hook in enumerate(intervene_hook):\n",
    "    table_s.add_row(\n",
    "        hook,\n",
    "        f\"{test_accuracies_pb[1, j, 0]:.4f}\",\n",
    "        f\"{test_accuracies_pb[1, j, 1]:.4f}\",\n",
    "    )\n",
    "\n",
    "console.print(table_v, table_s, justify=\"center\")"
   ]
  },
  {
   "attachments": {},
   "cell_type": "markdown",
   "metadata": {},
   "source": [
    "Looking at the loss curves, it's clear that the rotation matrix is training very slowly"
   ]
  },
  {
   "cell_type": "code",
   "execution_count": 16,
   "metadata": {},
   "outputs": [
    {
     "data": {
      "application/vnd.plotly.v1+json": {
       "config": {
        "plotlyServerURL": "https://plot.ly"
       },
       "data": [
        {
         "mode": "lines",
         "name": "node: v, blocks.0.hook_resid_pre, subspace size: 64",
         "type": "scatter",
         "visible": true,
         "x": [
          0,
          1,
          2,
          3,
          4,
          5,
          6,
          7,
          8,
          9,
          10,
          11,
          12,
          13,
          14,
          15,
          16,
          17,
          18,
          19,
          20,
          21,
          22,
          23,
          24,
          25,
          26,
          27,
          28,
          29
         ],
         "y": [
          0.4574637929849987,
          0.45753562110888807,
          0.4576220214366913,
          0.45765637332880044,
          0.45771987340118314,
          0.45776775705663464,
          0.4578312586379957,
          0.45792494355877744,
          0.4579655422440058,
          0.45803320634214184,
          0.4581164811985402,
          0.4581841468056546,
          0.4582559753067886,
          0.45835902985138227,
          0.4583985884732838,
          0.45846208665944355,
          0.4585287084307852,
          0.4585942905160445,
          0.45865362618542926,
          0.4587441901617412,
          0.45884308218955994,
          0.45892740125897563,
          0.458998188565049,
          0.45907209606110294,
          0.4591491286513172,
          0.4591928490355045,
          0.45927716848216477,
          0.4593344221386728,
          0.45944892831995515,
          0.4595551083359537
         ]
        },
        {
         "mode": "lines",
         "name": "node: v, blocks.0.hook_resid_pre, subspace size: 256",
         "type": "scatter",
         "visible": true,
         "x": [
          0,
          1,
          2,
          3,
          4,
          5,
          6,
          7,
          8,
          9,
          10,
          11,
          12,
          13,
          14,
          15,
          16,
          17,
          18,
          19,
          20,
          21,
          22,
          23,
          24,
          25,
          26,
          27,
          28,
          29
         ],
         "y": [
          0.45717023860050154,
          0.45718793703030935,
          0.45720771445503716,
          0.4572347783589665,
          0.4572462299956551,
          0.4572701699371579,
          0.45730348327491854,
          0.45734095875220965,
          0.4573815551739705,
          0.45740862322759024,
          0.45743048266519476,
          0.45745858965040764,
          0.4574971044365364,
          0.45752312714540505,
          0.4575512348851071,
          0.45758350400985043,
          0.4576209794871415,
          0.4576303464702413,
          0.4576417996159083,
          0.45766782270202155,
          0.45768760276746145,
          0.4577292403842829,
          0.45773340554177006,
          0.457777126303202,
          0.4578239717815496,
          0.45784895404984677,
          0.45787393556365485,
          0.45791557544394385,
          0.4579332727420179,
          0.45795409249354013
         ]
        },
        {
         "mode": "lines",
         "name": "node: v, blocks.0.hook_resid_mid, subspace size: 64",
         "type": "scatter",
         "visible": true,
         "x": [
          0,
          1,
          2,
          3,
          4,
          5,
          6,
          7,
          8,
          9,
          10,
          11,
          12,
          13,
          14,
          15,
          16,
          17,
          18,
          19,
          20,
          21,
          22,
          23,
          24,
          25,
          26,
          27,
          28,
          29
         ],
         "y": [
          0.45494880253755593,
          0.45495192574549326,
          0.45495608977124663,
          0.45495608901675744,
          0.4549540077583699,
          0.4549633766276927,
          0.45497066197516045,
          0.4549623346781429,
          0.45496857996228374,
          0.45497170392471026,
          0.45497274511977087,
          0.45496754103069065,
          0.4549706631068942,
          0.4549685826029959,
          0.4549748278871367,
          0.4549831544296651,
          0.45498523719703093,
          0.4549914828584164,
          0.4549946064435983,
          0.45499772927429105,
          0.4550164658812028,
          0.4550185494030578,
          0.4550185478940795,
          0.45501750594452967,
          0.45502167223375056,
          0.45501126254661173,
          0.45501854978030243,
          0.455018550157547,
          0.4550247946871987,
          0.45502479506444327
         ]
        },
        {
         "mode": "lines",
         "name": "node: v, blocks.0.hook_resid_mid, subspace size: 256",
         "type": "scatter",
         "visible": true,
         "x": [
          0,
          1,
          2,
          3,
          4,
          5,
          6,
          7,
          8,
          9,
          10,
          11,
          12,
          13,
          14,
          15,
          16,
          17,
          18,
          19,
          20,
          21,
          22,
          23,
          24,
          25,
          26,
          27,
          28,
          29
         ],
         "y": [
          0.45601059439816055,
          0.45601475842391387,
          0.4560168404367906,
          0.45600955433483364,
          0.45601788351807415,
          0.45601684156852434,
          0.45601788351807415,
          0.4560137194923208,
          0.4560168430775027,
          0.4560147606873814,
          0.4560210067260114,
          0.4560230876071544,
          0.4560199640219725,
          0.45602100559427766,
          0.4560262108150917,
          0.45602829320521293,
          0.4560230891161327,
          0.45602308798439894,
          0.4560230876071544,
          0.4560241276704812,
          0.4560262100606025,
          0.45603037370911126,
          0.45602829207347917,
          0.456033496539804,
          0.4560334961625594,
          0.456033496539804,
          0.4560376598110682,
          0.45603974182394486,
          0.4560459874853303,
          0.456049112202246
         ]
        },
        {
         "mode": "lines",
         "name": "node: v, blocks.0.hook_resid_post, subspace size: 64",
         "type": "scatter",
         "visible": true,
         "x": [
          0,
          1,
          2,
          3,
          4,
          5,
          6,
          7,
          8,
          9,
          10,
          11,
          12,
          13,
          14,
          15,
          16,
          17,
          18,
          19,
          20,
          21,
          22,
          23,
          24,
          25,
          26,
          27,
          28,
          29
         ],
         "y": [
          0.4547749603096443,
          0.45477600037297117,
          0.45476559030858776,
          0.45476663225813757,
          0.45476559106307696,
          0.45476350942744487,
          0.4547655921948107,
          0.45476455099975005,
          0.45476975584331947,
          0.4547812071027635,
          0.45478328987012934,
          0.45479473999783965,
          0.45478537112851686,
          0.4547895328908027,
          0.45479265609874003,
          0.4547895336452919,
          0.45478953439978104,
          0.45479890251461463,
          0.4548041081126732,
          0.4548113953463639,
          0.45480514855324466,
          0.4548009852819805,
          0.45481035452854784,
          0.4548134766047514,
          0.4548145185543012,
          0.4548207623294637,
          0.4548290903809704,
          0.45482805031764356,
          0.45482180314727977,
          0.4548176387442818
         ]
        },
        {
         "mode": "lines",
         "name": "node: v, blocks.0.hook_resid_post, subspace size: 256",
         "type": "scatter",
         "visible": true,
         "x": [
          0,
          1,
          2,
          3,
          4,
          5,
          6,
          7,
          8,
          9,
          10,
          11,
          12,
          13,
          14,
          15,
          16,
          17,
          18,
          19,
          20,
          21,
          22,
          23,
          24,
          25,
          26,
          27,
          28,
          29
         ],
         "y": [
          0,
          0,
          0,
          0,
          0,
          0,
          0,
          0,
          0,
          0,
          0,
          0,
          0,
          0,
          0,
          0,
          0,
          0,
          0,
          0,
          0,
          0,
          0,
          0,
          0,
          0,
          0,
          0,
          0,
          0
         ]
        },
        {
         "mode": "lines",
         "name": "node: s, blocks.0.hook_resid_pre, subspace size: 64",
         "type": "scatter",
         "visible": false,
         "x": [
          0,
          1,
          2,
          3,
          4,
          5,
          6,
          7,
          8,
          9,
          10,
          11,
          12,
          13,
          14,
          15,
          16,
          17,
          18,
          19,
          20,
          21,
          22,
          23,
          24,
          25,
          26,
          27,
          28,
          29
         ],
         "y": [
          0.35855889320373535,
          0.35898360798630535,
          0.359433309186863,
          0.3598684362972839,
          0.36030668661564214,
          0.36073140290719047,
          0.36118214492556416,
          0.36162143568449384,
          0.3621086104761196,
          0.36254477764986737,
          0.3630621387988706,
          0.36360344667977923,
          0.36407500618620764,
          0.3644997243639789,
          0.36501396494575694,
          0.3655188366582122,
          0.36603620082517213,
          0.3665733424168599,
          0.367134426213518,
          0.3676663637161255,
          0.36819413643849047,
          0.3687364836282368,
          0.3693163036545621,
          0.3698971675166601,
          0.3704374338252635,
          0.3711223922952821,
          0.37177924604355533,
          0.3723882150046433,
          0.37308358467077907,
          0.3738153882419007
         ]
        },
        {
         "mode": "lines",
         "name": "node: s, blocks.0.hook_resid_pre, subspace size: 256",
         "type": "scatter",
         "visible": false,
         "x": [
          0,
          1,
          2,
          3,
          4,
          5,
          6,
          7,
          8,
          9,
          10,
          11,
          12,
          13,
          14,
          15,
          16,
          17,
          18,
          19,
          20,
          21,
          22,
          23,
          24,
          25,
          26,
          27,
          28,
          29
         ],
         "y": [
          0.35608658156817474,
          0.3561896402624589,
          0.3562697941743875,
          0.35638013632991644,
          0.3564967264102984,
          0.3566466271877289,
          0.3568058949482592,
          0.35694434258002267,
          0.35706613788121866,
          0.3572118746328957,
          0.35736593717261206,
          0.3575095922886571,
          0.3576542870907844,
          0.3577708752849434,
          0.35789787542970875,
          0.3580404882189594,
          0.35818830547453484,
          0.358342371786697,
          0.35846520337877397,
          0.3585932450958445,
          0.35869734423070015,
          0.3588305855099159,
          0.3589836068545716,
          0.35911060888555985,
          0.3592792455154129,
          0.35939063037498087,
          0.359538446121578,
          0.35965815903265264,
          0.3598059766654727,
          0.3599517130399052
         ]
        },
        {
         "mode": "lines",
         "name": "node: s, blocks.0.hook_resid_mid, subspace size: 64",
         "type": "scatter",
         "visible": false,
         "x": [
          0,
          1,
          2,
          3,
          4,
          5,
          6,
          7,
          8,
          9,
          10,
          11,
          12,
          13,
          14,
          15,
          16,
          17,
          18,
          19,
          20,
          21,
          22,
          23,
          24,
          25,
          26,
          27,
          28,
          29
         ],
         "y": [
          0.34157854582689984,
          0.34159832400611684,
          0.3416128984734982,
          0.3416482919379126,
          0.3416763985458809,
          0.34169825798348535,
          0.34171595490431483,
          0.3417346918884712,
          0.34175134761424003,
          0.34176383893701096,
          0.34177112541621246,
          0.3418002724647522,
          0.34182733787765984,
          0.34185544373113896,
          0.3418668946133384,
          0.34190124801442595,
          0.34193143550353716,
          0.34194184254996385,
          0.34196682783621773,
          0.3419938943808592,
          0.34203657394723047,
          0.34205843451656875,
          0.3421011144601846,
          0.34213962962355793,
          0.3421625306334677,
          0.3421843915800505,
          0.3422093753573261,
          0.3422249895107897,
          0.3422530949870242,
          0.3422739158702802
         ]
        },
        {
         "mode": "lines",
         "name": "node: s, blocks.0.hook_resid_mid, subspace size: 256",
         "type": "scatter",
         "visible": false,
         "x": [
          0,
          1,
          2,
          3,
          4,
          5,
          6,
          7,
          8,
          9,
          10,
          11,
          12,
          13,
          14,
          15,
          16,
          17,
          18,
          19,
          20,
          21,
          22,
          23,
          24,
          25,
          26,
          27,
          28,
          29
         ],
         "y": [
          0.34125063955029356,
          0.34126208930075924,
          0.34126833722561223,
          0.3412808300573615,
          0.341283952133565,
          0.34128187087517753,
          0.3412922809395609,
          0.34130269024945514,
          0.3413110175464727,
          0.3413224688059167,
          0.34133599981476986,
          0.3413568173028246,
          0.3413703505751453,
          0.3413713917702059,
          0.34139117070391206,
          0.3414109500148628,
          0.3414161544811877,
          0.34145154719111287,
          0.34146195838723004,
          0.34148069310791884,
          0.3414952675753002,
          0.34149839153772665,
          0.34151712814463847,
          0.34153794714167146,
          0.3415400291545482,
          0.34154627670215654,
          0.3415546047536633,
          0.3415546036219295,
          0.3415608515467825,
          0.3415722997882698
         ]
        },
        {
         "mode": "lines",
         "name": "node: s, blocks.0.hook_resid_post, subspace size: 64",
         "type": "scatter",
         "visible": false,
         "x": [
          0,
          1,
          2,
          3,
          4,
          5,
          6,
          7,
          8,
          9,
          10,
          11,
          12,
          13,
          14,
          15,
          16,
          17,
          18,
          19,
          20,
          21,
          22,
          23,
          24,
          25,
          26,
          27,
          28,
          29
         ],
         "y": [
          0,
          0,
          0,
          0,
          0,
          0,
          0,
          0,
          0,
          0,
          0,
          0,
          0,
          0,
          0,
          0,
          0,
          0,
          0,
          0,
          0,
          0,
          0,
          0,
          0,
          0,
          0,
          0,
          0,
          0
         ]
        },
        {
         "mode": "lines",
         "name": "node: s, blocks.0.hook_resid_post, subspace size: 256",
         "type": "scatter",
         "visible": false,
         "x": [
          0,
          1,
          2,
          3,
          4,
          5,
          6,
          7,
          8,
          9,
          10,
          11,
          12,
          13,
          14,
          15,
          16,
          17,
          18,
          19,
          20,
          21,
          22,
          23,
          24,
          25,
          26,
          27,
          28,
          29
         ],
         "y": [
          0,
          0,
          0,
          0,
          0,
          0,
          0,
          0,
          0,
          0,
          0,
          0,
          0,
          0,
          0,
          0,
          0,
          0,
          0,
          0,
          0,
          0,
          0,
          0,
          0,
          0,
          0,
          0,
          0,
          0
         ]
        }
       ],
       "layout": {
        "template": {
         "data": {
          "bar": [
           {
            "error_x": {
             "color": "#2a3f5f"
            },
            "error_y": {
             "color": "#2a3f5f"
            },
            "marker": {
             "line": {
              "color": "#E5ECF6",
              "width": 0.5
             },
             "pattern": {
              "fillmode": "overlay",
              "size": 10,
              "solidity": 0.2
             }
            },
            "type": "bar"
           }
          ],
          "barpolar": [
           {
            "marker": {
             "line": {
              "color": "#E5ECF6",
              "width": 0.5
             },
             "pattern": {
              "fillmode": "overlay",
              "size": 10,
              "solidity": 0.2
             }
            },
            "type": "barpolar"
           }
          ],
          "carpet": [
           {
            "aaxis": {
             "endlinecolor": "#2a3f5f",
             "gridcolor": "white",
             "linecolor": "white",
             "minorgridcolor": "white",
             "startlinecolor": "#2a3f5f"
            },
            "baxis": {
             "endlinecolor": "#2a3f5f",
             "gridcolor": "white",
             "linecolor": "white",
             "minorgridcolor": "white",
             "startlinecolor": "#2a3f5f"
            },
            "type": "carpet"
           }
          ],
          "choropleth": [
           {
            "colorbar": {
             "outlinewidth": 0,
             "ticks": ""
            },
            "type": "choropleth"
           }
          ],
          "contour": [
           {
            "colorbar": {
             "outlinewidth": 0,
             "ticks": ""
            },
            "colorscale": [
             [
              0,
              "#0d0887"
             ],
             [
              0.1111111111111111,
              "#46039f"
             ],
             [
              0.2222222222222222,
              "#7201a8"
             ],
             [
              0.3333333333333333,
              "#9c179e"
             ],
             [
              0.4444444444444444,
              "#bd3786"
             ],
             [
              0.5555555555555556,
              "#d8576b"
             ],
             [
              0.6666666666666666,
              "#ed7953"
             ],
             [
              0.7777777777777778,
              "#fb9f3a"
             ],
             [
              0.8888888888888888,
              "#fdca26"
             ],
             [
              1,
              "#f0f921"
             ]
            ],
            "type": "contour"
           }
          ],
          "contourcarpet": [
           {
            "colorbar": {
             "outlinewidth": 0,
             "ticks": ""
            },
            "type": "contourcarpet"
           }
          ],
          "heatmap": [
           {
            "colorbar": {
             "outlinewidth": 0,
             "ticks": ""
            },
            "colorscale": [
             [
              0,
              "#0d0887"
             ],
             [
              0.1111111111111111,
              "#46039f"
             ],
             [
              0.2222222222222222,
              "#7201a8"
             ],
             [
              0.3333333333333333,
              "#9c179e"
             ],
             [
              0.4444444444444444,
              "#bd3786"
             ],
             [
              0.5555555555555556,
              "#d8576b"
             ],
             [
              0.6666666666666666,
              "#ed7953"
             ],
             [
              0.7777777777777778,
              "#fb9f3a"
             ],
             [
              0.8888888888888888,
              "#fdca26"
             ],
             [
              1,
              "#f0f921"
             ]
            ],
            "type": "heatmap"
           }
          ],
          "heatmapgl": [
           {
            "colorbar": {
             "outlinewidth": 0,
             "ticks": ""
            },
            "colorscale": [
             [
              0,
              "#0d0887"
             ],
             [
              0.1111111111111111,
              "#46039f"
             ],
             [
              0.2222222222222222,
              "#7201a8"
             ],
             [
              0.3333333333333333,
              "#9c179e"
             ],
             [
              0.4444444444444444,
              "#bd3786"
             ],
             [
              0.5555555555555556,
              "#d8576b"
             ],
             [
              0.6666666666666666,
              "#ed7953"
             ],
             [
              0.7777777777777778,
              "#fb9f3a"
             ],
             [
              0.8888888888888888,
              "#fdca26"
             ],
             [
              1,
              "#f0f921"
             ]
            ],
            "type": "heatmapgl"
           }
          ],
          "histogram": [
           {
            "marker": {
             "pattern": {
              "fillmode": "overlay",
              "size": 10,
              "solidity": 0.2
             }
            },
            "type": "histogram"
           }
          ],
          "histogram2d": [
           {
            "colorbar": {
             "outlinewidth": 0,
             "ticks": ""
            },
            "colorscale": [
             [
              0,
              "#0d0887"
             ],
             [
              0.1111111111111111,
              "#46039f"
             ],
             [
              0.2222222222222222,
              "#7201a8"
             ],
             [
              0.3333333333333333,
              "#9c179e"
             ],
             [
              0.4444444444444444,
              "#bd3786"
             ],
             [
              0.5555555555555556,
              "#d8576b"
             ],
             [
              0.6666666666666666,
              "#ed7953"
             ],
             [
              0.7777777777777778,
              "#fb9f3a"
             ],
             [
              0.8888888888888888,
              "#fdca26"
             ],
             [
              1,
              "#f0f921"
             ]
            ],
            "type": "histogram2d"
           }
          ],
          "histogram2dcontour": [
           {
            "colorbar": {
             "outlinewidth": 0,
             "ticks": ""
            },
            "colorscale": [
             [
              0,
              "#0d0887"
             ],
             [
              0.1111111111111111,
              "#46039f"
             ],
             [
              0.2222222222222222,
              "#7201a8"
             ],
             [
              0.3333333333333333,
              "#9c179e"
             ],
             [
              0.4444444444444444,
              "#bd3786"
             ],
             [
              0.5555555555555556,
              "#d8576b"
             ],
             [
              0.6666666666666666,
              "#ed7953"
             ],
             [
              0.7777777777777778,
              "#fb9f3a"
             ],
             [
              0.8888888888888888,
              "#fdca26"
             ],
             [
              1,
              "#f0f921"
             ]
            ],
            "type": "histogram2dcontour"
           }
          ],
          "mesh3d": [
           {
            "colorbar": {
             "outlinewidth": 0,
             "ticks": ""
            },
            "type": "mesh3d"
           }
          ],
          "parcoords": [
           {
            "line": {
             "colorbar": {
              "outlinewidth": 0,
              "ticks": ""
             }
            },
            "type": "parcoords"
           }
          ],
          "pie": [
           {
            "automargin": true,
            "type": "pie"
           }
          ],
          "scatter": [
           {
            "fillpattern": {
             "fillmode": "overlay",
             "size": 10,
             "solidity": 0.2
            },
            "type": "scatter"
           }
          ],
          "scatter3d": [
           {
            "line": {
             "colorbar": {
              "outlinewidth": 0,
              "ticks": ""
             }
            },
            "marker": {
             "colorbar": {
              "outlinewidth": 0,
              "ticks": ""
             }
            },
            "type": "scatter3d"
           }
          ],
          "scattercarpet": [
           {
            "marker": {
             "colorbar": {
              "outlinewidth": 0,
              "ticks": ""
             }
            },
            "type": "scattercarpet"
           }
          ],
          "scattergeo": [
           {
            "marker": {
             "colorbar": {
              "outlinewidth": 0,
              "ticks": ""
             }
            },
            "type": "scattergeo"
           }
          ],
          "scattergl": [
           {
            "marker": {
             "colorbar": {
              "outlinewidth": 0,
              "ticks": ""
             }
            },
            "type": "scattergl"
           }
          ],
          "scattermapbox": [
           {
            "marker": {
             "colorbar": {
              "outlinewidth": 0,
              "ticks": ""
             }
            },
            "type": "scattermapbox"
           }
          ],
          "scatterpolar": [
           {
            "marker": {
             "colorbar": {
              "outlinewidth": 0,
              "ticks": ""
             }
            },
            "type": "scatterpolar"
           }
          ],
          "scatterpolargl": [
           {
            "marker": {
             "colorbar": {
              "outlinewidth": 0,
              "ticks": ""
             }
            },
            "type": "scatterpolargl"
           }
          ],
          "scatterternary": [
           {
            "marker": {
             "colorbar": {
              "outlinewidth": 0,
              "ticks": ""
             }
            },
            "type": "scatterternary"
           }
          ],
          "surface": [
           {
            "colorbar": {
             "outlinewidth": 0,
             "ticks": ""
            },
            "colorscale": [
             [
              0,
              "#0d0887"
             ],
             [
              0.1111111111111111,
              "#46039f"
             ],
             [
              0.2222222222222222,
              "#7201a8"
             ],
             [
              0.3333333333333333,
              "#9c179e"
             ],
             [
              0.4444444444444444,
              "#bd3786"
             ],
             [
              0.5555555555555556,
              "#d8576b"
             ],
             [
              0.6666666666666666,
              "#ed7953"
             ],
             [
              0.7777777777777778,
              "#fb9f3a"
             ],
             [
              0.8888888888888888,
              "#fdca26"
             ],
             [
              1,
              "#f0f921"
             ]
            ],
            "type": "surface"
           }
          ],
          "table": [
           {
            "cells": {
             "fill": {
              "color": "#EBF0F8"
             },
             "line": {
              "color": "white"
             }
            },
            "header": {
             "fill": {
              "color": "#C8D4E3"
             },
             "line": {
              "color": "white"
             }
            },
            "type": "table"
           }
          ]
         },
         "layout": {
          "annotationdefaults": {
           "arrowcolor": "#2a3f5f",
           "arrowhead": 0,
           "arrowwidth": 1
          },
          "autotypenumbers": "strict",
          "coloraxis": {
           "colorbar": {
            "outlinewidth": 0,
            "ticks": ""
           }
          },
          "colorscale": {
           "diverging": [
            [
             0,
             "#8e0152"
            ],
            [
             0.1,
             "#c51b7d"
            ],
            [
             0.2,
             "#de77ae"
            ],
            [
             0.3,
             "#f1b6da"
            ],
            [
             0.4,
             "#fde0ef"
            ],
            [
             0.5,
             "#f7f7f7"
            ],
            [
             0.6,
             "#e6f5d0"
            ],
            [
             0.7,
             "#b8e186"
            ],
            [
             0.8,
             "#7fbc41"
            ],
            [
             0.9,
             "#4d9221"
            ],
            [
             1,
             "#276419"
            ]
           ],
           "sequential": [
            [
             0,
             "#0d0887"
            ],
            [
             0.1111111111111111,
             "#46039f"
            ],
            [
             0.2222222222222222,
             "#7201a8"
            ],
            [
             0.3333333333333333,
             "#9c179e"
            ],
            [
             0.4444444444444444,
             "#bd3786"
            ],
            [
             0.5555555555555556,
             "#d8576b"
            ],
            [
             0.6666666666666666,
             "#ed7953"
            ],
            [
             0.7777777777777778,
             "#fb9f3a"
            ],
            [
             0.8888888888888888,
             "#fdca26"
            ],
            [
             1,
             "#f0f921"
            ]
           ],
           "sequentialminus": [
            [
             0,
             "#0d0887"
            ],
            [
             0.1111111111111111,
             "#46039f"
            ],
            [
             0.2222222222222222,
             "#7201a8"
            ],
            [
             0.3333333333333333,
             "#9c179e"
            ],
            [
             0.4444444444444444,
             "#bd3786"
            ],
            [
             0.5555555555555556,
             "#d8576b"
            ],
            [
             0.6666666666666666,
             "#ed7953"
            ],
            [
             0.7777777777777778,
             "#fb9f3a"
            ],
            [
             0.8888888888888888,
             "#fdca26"
            ],
            [
             1,
             "#f0f921"
            ]
           ]
          },
          "colorway": [
           "#636efa",
           "#EF553B",
           "#00cc96",
           "#ab63fa",
           "#FFA15A",
           "#19d3f3",
           "#FF6692",
           "#B6E880",
           "#FF97FF",
           "#FECB52"
          ],
          "font": {
           "color": "#2a3f5f"
          },
          "geo": {
           "bgcolor": "white",
           "lakecolor": "white",
           "landcolor": "#E5ECF6",
           "showlakes": true,
           "showland": true,
           "subunitcolor": "white"
          },
          "hoverlabel": {
           "align": "left"
          },
          "hovermode": "closest",
          "mapbox": {
           "style": "light"
          },
          "paper_bgcolor": "white",
          "plot_bgcolor": "#E5ECF6",
          "polar": {
           "angularaxis": {
            "gridcolor": "white",
            "linecolor": "white",
            "ticks": ""
           },
           "bgcolor": "#E5ECF6",
           "radialaxis": {
            "gridcolor": "white",
            "linecolor": "white",
            "ticks": ""
           }
          },
          "scene": {
           "xaxis": {
            "backgroundcolor": "#E5ECF6",
            "gridcolor": "white",
            "gridwidth": 2,
            "linecolor": "white",
            "showbackground": true,
            "ticks": "",
            "zerolinecolor": "white"
           },
           "yaxis": {
            "backgroundcolor": "#E5ECF6",
            "gridcolor": "white",
            "gridwidth": 2,
            "linecolor": "white",
            "showbackground": true,
            "ticks": "",
            "zerolinecolor": "white"
           },
           "zaxis": {
            "backgroundcolor": "#E5ECF6",
            "gridcolor": "white",
            "gridwidth": 2,
            "linecolor": "white",
            "showbackground": true,
            "ticks": "",
            "zerolinecolor": "white"
           }
          },
          "shapedefaults": {
           "line": {
            "color": "#2a3f5f"
           }
          },
          "ternary": {
           "aaxis": {
            "gridcolor": "white",
            "linecolor": "white",
            "ticks": ""
           },
           "baxis": {
            "gridcolor": "white",
            "linecolor": "white",
            "ticks": ""
           },
           "bgcolor": "#E5ECF6",
           "caxis": {
            "gridcolor": "white",
            "linecolor": "white",
            "ticks": ""
           }
          },
          "title": {
           "x": 0.05
          },
          "xaxis": {
           "automargin": true,
           "gridcolor": "white",
           "linecolor": "white",
           "ticks": "",
           "title": {
            "standoff": 15
           },
           "zerolinecolor": "white",
           "zerolinewidth": 2
          },
          "yaxis": {
           "automargin": true,
           "gridcolor": "white",
           "linecolor": "white",
           "ticks": "",
           "title": {
            "standoff": 15
           },
           "zerolinecolor": "white",
           "zerolinewidth": 2
          }
         }
        },
        "title": {
         "text": "Parenthesis balancing rotation matrix train losses"
        },
        "updatemenus": [
         {
          "active": 0,
          "buttons": [
           {
            "args": [
             {
              "visible": [
               true,
               true,
               true,
               true,
               true,
               true,
               false,
               false,
               false,
               false,
               false,
               false
              ]
             }
            ],
            "label": "Node v",
            "method": "update"
           },
           {
            "args": [
             {
              "visible": [
               false,
               false,
               false,
               false,
               false,
               false,
               true,
               true,
               true,
               true,
               true,
               true
              ]
             }
            ],
            "label": "Node s",
            "method": "update"
           }
          ],
          "showactive": true
         }
        ],
        "xaxis": {
         "title": {
          "text": "Epoch"
         }
        },
        "yaxis": {
         "title": {
          "text": "Loss"
         }
        }
       }
      },
      "text/html": [
       "<html>\n",
       "<head><meta charset=\"utf-8\" /></head>\n",
       "<body>\n",
       "    <div>            <script src=\"https://cdnjs.cloudflare.com/ajax/libs/mathjax/2.7.5/MathJax.js?config=TeX-AMS-MML_SVG\"></script><script type=\"text/javascript\">if (window.MathJax && window.MathJax.Hub && window.MathJax.Hub.Config) {window.MathJax.Hub.Config({SVG: {font: \"STIX-Web\"}});}</script>                <script type=\"text/javascript\">window.PlotlyConfig = {MathJaxConfig: 'local'};</script>\n",
       "        <script charset=\"utf-8\" src=\"https://cdn.plot.ly/plotly-2.24.1.min.js\"></script>                <div id=\"d29f5557-753b-4a60-94db-3424e6f912bd\" class=\"plotly-graph-div\" style=\"height:525px; width:100%;\"></div>            <script type=\"text/javascript\">                                    window.PLOTLYENV=window.PLOTLYENV || {};                                    if (document.getElementById(\"d29f5557-753b-4a60-94db-3424e6f912bd\")) {                    Plotly.newPlot(                        \"d29f5557-753b-4a60-94db-3424e6f912bd\",                        [{\"mode\":\"lines\",\"name\":\"node: v, blocks.0.hook_resid_pre, subspace size: 64\",\"visible\":true,\"x\":[0,1,2,3,4,5,6,7,8,9,10,11,12,13,14,15,16,17,18,19,20,21,22,23,24,25,26,27,28,29],\"y\":[0.4574637929849987,0.45753562110888807,0.4576220214366913,0.45765637332880044,0.45771987340118314,0.45776775705663464,0.4578312586379957,0.45792494355877744,0.4579655422440058,0.45803320634214184,0.4581164811985402,0.4581841468056546,0.4582559753067886,0.45835902985138227,0.4583985884732838,0.45846208665944355,0.4585287084307852,0.4585942905160445,0.45865362618542926,0.4587441901617412,0.45884308218955994,0.45892740125897563,0.458998188565049,0.45907209606110294,0.4591491286513172,0.4591928490355045,0.45927716848216477,0.4593344221386728,0.45944892831995515,0.4595551083359537],\"type\":\"scatter\"},{\"mode\":\"lines\",\"name\":\"node: v, blocks.0.hook_resid_pre, subspace size: 256\",\"visible\":true,\"x\":[0,1,2,3,4,5,6,7,8,9,10,11,12,13,14,15,16,17,18,19,20,21,22,23,24,25,26,27,28,29],\"y\":[0.45717023860050154,0.45718793703030935,0.45720771445503716,0.4572347783589665,0.4572462299956551,0.4572701699371579,0.45730348327491854,0.45734095875220965,0.4573815551739705,0.45740862322759024,0.45743048266519476,0.45745858965040764,0.4574971044365364,0.45752312714540505,0.4575512348851071,0.45758350400985043,0.4576209794871415,0.4576303464702413,0.4576417996159083,0.45766782270202155,0.45768760276746145,0.4577292403842829,0.45773340554177006,0.457777126303202,0.4578239717815496,0.45784895404984677,0.45787393556365485,0.45791557544394385,0.4579332727420179,0.45795409249354013],\"type\":\"scatter\"},{\"mode\":\"lines\",\"name\":\"node: v, blocks.0.hook_resid_mid, subspace size: 64\",\"visible\":true,\"x\":[0,1,2,3,4,5,6,7,8,9,10,11,12,13,14,15,16,17,18,19,20,21,22,23,24,25,26,27,28,29],\"y\":[0.45494880253755593,0.45495192574549326,0.45495608977124663,0.45495608901675744,0.4549540077583699,0.4549633766276927,0.45497066197516045,0.4549623346781429,0.45496857996228374,0.45497170392471026,0.45497274511977087,0.45496754103069065,0.4549706631068942,0.4549685826029959,0.4549748278871367,0.4549831544296651,0.45498523719703093,0.4549914828584164,0.4549946064435983,0.45499772927429105,0.4550164658812028,0.4550185494030578,0.4550185478940795,0.45501750594452967,0.45502167223375056,0.45501126254661173,0.45501854978030243,0.455018550157547,0.4550247946871987,0.45502479506444327],\"type\":\"scatter\"},{\"mode\":\"lines\",\"name\":\"node: v, blocks.0.hook_resid_mid, subspace size: 256\",\"visible\":true,\"x\":[0,1,2,3,4,5,6,7,8,9,10,11,12,13,14,15,16,17,18,19,20,21,22,23,24,25,26,27,28,29],\"y\":[0.45601059439816055,0.45601475842391387,0.4560168404367906,0.45600955433483364,0.45601788351807415,0.45601684156852434,0.45601788351807415,0.4560137194923208,0.4560168430775027,0.4560147606873814,0.4560210067260114,0.4560230876071544,0.4560199640219725,0.45602100559427766,0.4560262108150917,0.45602829320521293,0.4560230891161327,0.45602308798439894,0.4560230876071544,0.4560241276704812,0.4560262100606025,0.45603037370911126,0.45602829207347917,0.456033496539804,0.4560334961625594,0.456033496539804,0.4560376598110682,0.45603974182394486,0.4560459874853303,0.456049112202246],\"type\":\"scatter\"},{\"mode\":\"lines\",\"name\":\"node: v, blocks.0.hook_resid_post, subspace size: 64\",\"visible\":true,\"x\":[0,1,2,3,4,5,6,7,8,9,10,11,12,13,14,15,16,17,18,19,20,21,22,23,24,25,26,27,28,29],\"y\":[0.4547749603096443,0.45477600037297117,0.45476559030858776,0.45476663225813757,0.45476559106307696,0.45476350942744487,0.4547655921948107,0.45476455099975005,0.45476975584331947,0.4547812071027635,0.45478328987012934,0.45479473999783965,0.45478537112851686,0.4547895328908027,0.45479265609874003,0.4547895336452919,0.45478953439978104,0.45479890251461463,0.4548041081126732,0.4548113953463639,0.45480514855324466,0.4548009852819805,0.45481035452854784,0.4548134766047514,0.4548145185543012,0.4548207623294637,0.4548290903809704,0.45482805031764356,0.45482180314727977,0.4548176387442818],\"type\":\"scatter\"},{\"mode\":\"lines\",\"name\":\"node: v, blocks.0.hook_resid_post, subspace size: 256\",\"visible\":true,\"x\":[0,1,2,3,4,5,6,7,8,9,10,11,12,13,14,15,16,17,18,19,20,21,22,23,24,25,26,27,28,29],\"y\":[0.0,0.0,0.0,0.0,0.0,0.0,0.0,0.0,0.0,0.0,0.0,0.0,0.0,0.0,0.0,0.0,0.0,0.0,0.0,0.0,0.0,0.0,0.0,0.0,0.0,0.0,0.0,0.0,0.0,0.0],\"type\":\"scatter\"},{\"mode\":\"lines\",\"name\":\"node: s, blocks.0.hook_resid_pre, subspace size: 64\",\"visible\":false,\"x\":[0,1,2,3,4,5,6,7,8,9,10,11,12,13,14,15,16,17,18,19,20,21,22,23,24,25,26,27,28,29],\"y\":[0.35855889320373535,0.35898360798630535,0.359433309186863,0.3598684362972839,0.36030668661564214,0.36073140290719047,0.36118214492556416,0.36162143568449384,0.3621086104761196,0.36254477764986737,0.3630621387988706,0.36360344667977923,0.36407500618620764,0.3644997243639789,0.36501396494575694,0.3655188366582122,0.36603620082517213,0.3665733424168599,0.367134426213518,0.3676663637161255,0.36819413643849047,0.3687364836282368,0.3693163036545621,0.3698971675166601,0.3704374338252635,0.3711223922952821,0.37177924604355533,0.3723882150046433,0.37308358467077907,0.3738153882419007],\"type\":\"scatter\"},{\"mode\":\"lines\",\"name\":\"node: s, blocks.0.hook_resid_pre, subspace size: 256\",\"visible\":false,\"x\":[0,1,2,3,4,5,6,7,8,9,10,11,12,13,14,15,16,17,18,19,20,21,22,23,24,25,26,27,28,29],\"y\":[0.35608658156817474,0.3561896402624589,0.3562697941743875,0.35638013632991644,0.3564967264102984,0.3566466271877289,0.3568058949482592,0.35694434258002267,0.35706613788121866,0.3572118746328957,0.35736593717261206,0.3575095922886571,0.3576542870907844,0.3577708752849434,0.35789787542970875,0.3580404882189594,0.35818830547453484,0.358342371786697,0.35846520337877397,0.3585932450958445,0.35869734423070015,0.3588305855099159,0.3589836068545716,0.35911060888555985,0.3592792455154129,0.35939063037498087,0.359538446121578,0.35965815903265264,0.3598059766654727,0.3599517130399052],\"type\":\"scatter\"},{\"mode\":\"lines\",\"name\":\"node: s, blocks.0.hook_resid_mid, subspace size: 64\",\"visible\":false,\"x\":[0,1,2,3,4,5,6,7,8,9,10,11,12,13,14,15,16,17,18,19,20,21,22,23,24,25,26,27,28,29],\"y\":[0.34157854582689984,0.34159832400611684,0.3416128984734982,0.3416482919379126,0.3416763985458809,0.34169825798348535,0.34171595490431483,0.3417346918884712,0.34175134761424003,0.34176383893701096,0.34177112541621246,0.3418002724647522,0.34182733787765984,0.34185544373113896,0.3418668946133384,0.34190124801442595,0.34193143550353716,0.34194184254996385,0.34196682783621773,0.3419938943808592,0.34203657394723047,0.34205843451656875,0.3421011144601846,0.34213962962355793,0.3421625306334677,0.3421843915800505,0.3422093753573261,0.3422249895107897,0.3422530949870242,0.3422739158702802],\"type\":\"scatter\"},{\"mode\":\"lines\",\"name\":\"node: s, blocks.0.hook_resid_mid, subspace size: 256\",\"visible\":false,\"x\":[0,1,2,3,4,5,6,7,8,9,10,11,12,13,14,15,16,17,18,19,20,21,22,23,24,25,26,27,28,29],\"y\":[0.34125063955029356,0.34126208930075924,0.34126833722561223,0.3412808300573615,0.341283952133565,0.34128187087517753,0.3412922809395609,0.34130269024945514,0.3413110175464727,0.3413224688059167,0.34133599981476986,0.3413568173028246,0.3413703505751453,0.3413713917702059,0.34139117070391206,0.3414109500148628,0.3414161544811877,0.34145154719111287,0.34146195838723004,0.34148069310791884,0.3414952675753002,0.34149839153772665,0.34151712814463847,0.34153794714167146,0.3415400291545482,0.34154627670215654,0.3415546047536633,0.3415546036219295,0.3415608515467825,0.3415722997882698],\"type\":\"scatter\"},{\"mode\":\"lines\",\"name\":\"node: s, blocks.0.hook_resid_post, subspace size: 64\",\"visible\":false,\"x\":[0,1,2,3,4,5,6,7,8,9,10,11,12,13,14,15,16,17,18,19,20,21,22,23,24,25,26,27,28,29],\"y\":[0.0,0.0,0.0,0.0,0.0,0.0,0.0,0.0,0.0,0.0,0.0,0.0,0.0,0.0,0.0,0.0,0.0,0.0,0.0,0.0,0.0,0.0,0.0,0.0,0.0,0.0,0.0,0.0,0.0,0.0],\"type\":\"scatter\"},{\"mode\":\"lines\",\"name\":\"node: s, blocks.0.hook_resid_post, subspace size: 256\",\"visible\":false,\"x\":[0,1,2,3,4,5,6,7,8,9,10,11,12,13,14,15,16,17,18,19,20,21,22,23,24,25,26,27,28,29],\"y\":[0.0,0.0,0.0,0.0,0.0,0.0,0.0,0.0,0.0,0.0,0.0,0.0,0.0,0.0,0.0,0.0,0.0,0.0,0.0,0.0,0.0,0.0,0.0,0.0,0.0,0.0,0.0,0.0,0.0,0.0],\"type\":\"scatter\"}],                        {\"title\":{\"text\":\"Parenthesis balancing rotation matrix train losses\"},\"updatemenus\":[{\"active\":0,\"buttons\":[{\"args\":[{\"visible\":[true,true,true,true,true,true,false,false,false,false,false,false]}],\"label\":\"Node v\",\"method\":\"update\"},{\"args\":[{\"visible\":[false,false,false,false,false,false,true,true,true,true,true,true]}],\"label\":\"Node s\",\"method\":\"update\"}],\"showactive\":true}],\"xaxis\":{\"title\":{\"text\":\"Epoch\"}},\"yaxis\":{\"title\":{\"text\":\"Loss\"}},\"template\":{\"data\":{\"histogram2dcontour\":[{\"type\":\"histogram2dcontour\",\"colorbar\":{\"outlinewidth\":0,\"ticks\":\"\"},\"colorscale\":[[0.0,\"#0d0887\"],[0.1111111111111111,\"#46039f\"],[0.2222222222222222,\"#7201a8\"],[0.3333333333333333,\"#9c179e\"],[0.4444444444444444,\"#bd3786\"],[0.5555555555555556,\"#d8576b\"],[0.6666666666666666,\"#ed7953\"],[0.7777777777777778,\"#fb9f3a\"],[0.8888888888888888,\"#fdca26\"],[1.0,\"#f0f921\"]]}],\"choropleth\":[{\"type\":\"choropleth\",\"colorbar\":{\"outlinewidth\":0,\"ticks\":\"\"}}],\"histogram2d\":[{\"type\":\"histogram2d\",\"colorbar\":{\"outlinewidth\":0,\"ticks\":\"\"},\"colorscale\":[[0.0,\"#0d0887\"],[0.1111111111111111,\"#46039f\"],[0.2222222222222222,\"#7201a8\"],[0.3333333333333333,\"#9c179e\"],[0.4444444444444444,\"#bd3786\"],[0.5555555555555556,\"#d8576b\"],[0.6666666666666666,\"#ed7953\"],[0.7777777777777778,\"#fb9f3a\"],[0.8888888888888888,\"#fdca26\"],[1.0,\"#f0f921\"]]}],\"heatmap\":[{\"type\":\"heatmap\",\"colorbar\":{\"outlinewidth\":0,\"ticks\":\"\"},\"colorscale\":[[0.0,\"#0d0887\"],[0.1111111111111111,\"#46039f\"],[0.2222222222222222,\"#7201a8\"],[0.3333333333333333,\"#9c179e\"],[0.4444444444444444,\"#bd3786\"],[0.5555555555555556,\"#d8576b\"],[0.6666666666666666,\"#ed7953\"],[0.7777777777777778,\"#fb9f3a\"],[0.8888888888888888,\"#fdca26\"],[1.0,\"#f0f921\"]]}],\"heatmapgl\":[{\"type\":\"heatmapgl\",\"colorbar\":{\"outlinewidth\":0,\"ticks\":\"\"},\"colorscale\":[[0.0,\"#0d0887\"],[0.1111111111111111,\"#46039f\"],[0.2222222222222222,\"#7201a8\"],[0.3333333333333333,\"#9c179e\"],[0.4444444444444444,\"#bd3786\"],[0.5555555555555556,\"#d8576b\"],[0.6666666666666666,\"#ed7953\"],[0.7777777777777778,\"#fb9f3a\"],[0.8888888888888888,\"#fdca26\"],[1.0,\"#f0f921\"]]}],\"contourcarpet\":[{\"type\":\"contourcarpet\",\"colorbar\":{\"outlinewidth\":0,\"ticks\":\"\"}}],\"contour\":[{\"type\":\"contour\",\"colorbar\":{\"outlinewidth\":0,\"ticks\":\"\"},\"colorscale\":[[0.0,\"#0d0887\"],[0.1111111111111111,\"#46039f\"],[0.2222222222222222,\"#7201a8\"],[0.3333333333333333,\"#9c179e\"],[0.4444444444444444,\"#bd3786\"],[0.5555555555555556,\"#d8576b\"],[0.6666666666666666,\"#ed7953\"],[0.7777777777777778,\"#fb9f3a\"],[0.8888888888888888,\"#fdca26\"],[1.0,\"#f0f921\"]]}],\"surface\":[{\"type\":\"surface\",\"colorbar\":{\"outlinewidth\":0,\"ticks\":\"\"},\"colorscale\":[[0.0,\"#0d0887\"],[0.1111111111111111,\"#46039f\"],[0.2222222222222222,\"#7201a8\"],[0.3333333333333333,\"#9c179e\"],[0.4444444444444444,\"#bd3786\"],[0.5555555555555556,\"#d8576b\"],[0.6666666666666666,\"#ed7953\"],[0.7777777777777778,\"#fb9f3a\"],[0.8888888888888888,\"#fdca26\"],[1.0,\"#f0f921\"]]}],\"mesh3d\":[{\"type\":\"mesh3d\",\"colorbar\":{\"outlinewidth\":0,\"ticks\":\"\"}}],\"scatter\":[{\"fillpattern\":{\"fillmode\":\"overlay\",\"size\":10,\"solidity\":0.2},\"type\":\"scatter\"}],\"parcoords\":[{\"type\":\"parcoords\",\"line\":{\"colorbar\":{\"outlinewidth\":0,\"ticks\":\"\"}}}],\"scatterpolargl\":[{\"type\":\"scatterpolargl\",\"marker\":{\"colorbar\":{\"outlinewidth\":0,\"ticks\":\"\"}}}],\"bar\":[{\"error_x\":{\"color\":\"#2a3f5f\"},\"error_y\":{\"color\":\"#2a3f5f\"},\"marker\":{\"line\":{\"color\":\"#E5ECF6\",\"width\":0.5},\"pattern\":{\"fillmode\":\"overlay\",\"size\":10,\"solidity\":0.2}},\"type\":\"bar\"}],\"scattergeo\":[{\"type\":\"scattergeo\",\"marker\":{\"colorbar\":{\"outlinewidth\":0,\"ticks\":\"\"}}}],\"scatterpolar\":[{\"type\":\"scatterpolar\",\"marker\":{\"colorbar\":{\"outlinewidth\":0,\"ticks\":\"\"}}}],\"histogram\":[{\"marker\":{\"pattern\":{\"fillmode\":\"overlay\",\"size\":10,\"solidity\":0.2}},\"type\":\"histogram\"}],\"scattergl\":[{\"type\":\"scattergl\",\"marker\":{\"colorbar\":{\"outlinewidth\":0,\"ticks\":\"\"}}}],\"scatter3d\":[{\"type\":\"scatter3d\",\"line\":{\"colorbar\":{\"outlinewidth\":0,\"ticks\":\"\"}},\"marker\":{\"colorbar\":{\"outlinewidth\":0,\"ticks\":\"\"}}}],\"scattermapbox\":[{\"type\":\"scattermapbox\",\"marker\":{\"colorbar\":{\"outlinewidth\":0,\"ticks\":\"\"}}}],\"scatterternary\":[{\"type\":\"scatterternary\",\"marker\":{\"colorbar\":{\"outlinewidth\":0,\"ticks\":\"\"}}}],\"scattercarpet\":[{\"type\":\"scattercarpet\",\"marker\":{\"colorbar\":{\"outlinewidth\":0,\"ticks\":\"\"}}}],\"carpet\":[{\"aaxis\":{\"endlinecolor\":\"#2a3f5f\",\"gridcolor\":\"white\",\"linecolor\":\"white\",\"minorgridcolor\":\"white\",\"startlinecolor\":\"#2a3f5f\"},\"baxis\":{\"endlinecolor\":\"#2a3f5f\",\"gridcolor\":\"white\",\"linecolor\":\"white\",\"minorgridcolor\":\"white\",\"startlinecolor\":\"#2a3f5f\"},\"type\":\"carpet\"}],\"table\":[{\"cells\":{\"fill\":{\"color\":\"#EBF0F8\"},\"line\":{\"color\":\"white\"}},\"header\":{\"fill\":{\"color\":\"#C8D4E3\"},\"line\":{\"color\":\"white\"}},\"type\":\"table\"}],\"barpolar\":[{\"marker\":{\"line\":{\"color\":\"#E5ECF6\",\"width\":0.5},\"pattern\":{\"fillmode\":\"overlay\",\"size\":10,\"solidity\":0.2}},\"type\":\"barpolar\"}],\"pie\":[{\"automargin\":true,\"type\":\"pie\"}]},\"layout\":{\"autotypenumbers\":\"strict\",\"colorway\":[\"#636efa\",\"#EF553B\",\"#00cc96\",\"#ab63fa\",\"#FFA15A\",\"#19d3f3\",\"#FF6692\",\"#B6E880\",\"#FF97FF\",\"#FECB52\"],\"font\":{\"color\":\"#2a3f5f\"},\"hovermode\":\"closest\",\"hoverlabel\":{\"align\":\"left\"},\"paper_bgcolor\":\"white\",\"plot_bgcolor\":\"#E5ECF6\",\"polar\":{\"bgcolor\":\"#E5ECF6\",\"angularaxis\":{\"gridcolor\":\"white\",\"linecolor\":\"white\",\"ticks\":\"\"},\"radialaxis\":{\"gridcolor\":\"white\",\"linecolor\":\"white\",\"ticks\":\"\"}},\"ternary\":{\"bgcolor\":\"#E5ECF6\",\"aaxis\":{\"gridcolor\":\"white\",\"linecolor\":\"white\",\"ticks\":\"\"},\"baxis\":{\"gridcolor\":\"white\",\"linecolor\":\"white\",\"ticks\":\"\"},\"caxis\":{\"gridcolor\":\"white\",\"linecolor\":\"white\",\"ticks\":\"\"}},\"coloraxis\":{\"colorbar\":{\"outlinewidth\":0,\"ticks\":\"\"}},\"colorscale\":{\"sequential\":[[0.0,\"#0d0887\"],[0.1111111111111111,\"#46039f\"],[0.2222222222222222,\"#7201a8\"],[0.3333333333333333,\"#9c179e\"],[0.4444444444444444,\"#bd3786\"],[0.5555555555555556,\"#d8576b\"],[0.6666666666666666,\"#ed7953\"],[0.7777777777777778,\"#fb9f3a\"],[0.8888888888888888,\"#fdca26\"],[1.0,\"#f0f921\"]],\"sequentialminus\":[[0.0,\"#0d0887\"],[0.1111111111111111,\"#46039f\"],[0.2222222222222222,\"#7201a8\"],[0.3333333333333333,\"#9c179e\"],[0.4444444444444444,\"#bd3786\"],[0.5555555555555556,\"#d8576b\"],[0.6666666666666666,\"#ed7953\"],[0.7777777777777778,\"#fb9f3a\"],[0.8888888888888888,\"#fdca26\"],[1.0,\"#f0f921\"]],\"diverging\":[[0,\"#8e0152\"],[0.1,\"#c51b7d\"],[0.2,\"#de77ae\"],[0.3,\"#f1b6da\"],[0.4,\"#fde0ef\"],[0.5,\"#f7f7f7\"],[0.6,\"#e6f5d0\"],[0.7,\"#b8e186\"],[0.8,\"#7fbc41\"],[0.9,\"#4d9221\"],[1,\"#276419\"]]},\"xaxis\":{\"gridcolor\":\"white\",\"linecolor\":\"white\",\"ticks\":\"\",\"title\":{\"standoff\":15},\"zerolinecolor\":\"white\",\"automargin\":true,\"zerolinewidth\":2},\"yaxis\":{\"gridcolor\":\"white\",\"linecolor\":\"white\",\"ticks\":\"\",\"title\":{\"standoff\":15},\"zerolinecolor\":\"white\",\"automargin\":true,\"zerolinewidth\":2},\"scene\":{\"xaxis\":{\"backgroundcolor\":\"#E5ECF6\",\"gridcolor\":\"white\",\"linecolor\":\"white\",\"showbackground\":true,\"ticks\":\"\",\"zerolinecolor\":\"white\",\"gridwidth\":2},\"yaxis\":{\"backgroundcolor\":\"#E5ECF6\",\"gridcolor\":\"white\",\"linecolor\":\"white\",\"showbackground\":true,\"ticks\":\"\",\"zerolinecolor\":\"white\",\"gridwidth\":2},\"zaxis\":{\"backgroundcolor\":\"#E5ECF6\",\"gridcolor\":\"white\",\"linecolor\":\"white\",\"showbackground\":true,\"ticks\":\"\",\"zerolinecolor\":\"white\",\"gridwidth\":2}},\"shapedefaults\":{\"line\":{\"color\":\"#2a3f5f\"}},\"annotationdefaults\":{\"arrowcolor\":\"#2a3f5f\",\"arrowhead\":0,\"arrowwidth\":1},\"geo\":{\"bgcolor\":\"white\",\"landcolor\":\"#E5ECF6\",\"subunitcolor\":\"white\",\"showland\":true,\"showlakes\":true,\"lakecolor\":\"white\"},\"title\":{\"x\":0.05},\"mapbox\":{\"style\":\"light\"}}}},                        {\"responsive\": true}                    ).then(function(){\n",
       "                            \n",
       "var gd = document.getElementById('d29f5557-753b-4a60-94db-3424e6f912bd');\n",
       "var x = new MutationObserver(function (mutations, observer) {{\n",
       "        var display = window.getComputedStyle(gd).display;\n",
       "        if (!display || display === 'none') {{\n",
       "            console.log([gd, 'removed!']);\n",
       "            Plotly.purge(gd);\n",
       "            observer.disconnect();\n",
       "        }}\n",
       "}});\n",
       "\n",
       "// Listen for the removal of the full notebook cells\n",
       "var notebookContainer = gd.closest('#notebook-container');\n",
       "if (notebookContainer) {{\n",
       "    x.observe(notebookContainer, {childList: true});\n",
       "}}\n",
       "\n",
       "// Listen for the clearing of the current output cell\n",
       "var outputEl = gd.closest('.output');\n",
       "if (outputEl) {{\n",
       "    x.observe(outputEl, {childList: true});\n",
       "}}\n",
       "\n",
       "                        })                };                            </script>        </div>\n",
       "</body>\n",
       "</html>"
      ]
     },
     "metadata": {},
     "output_type": "display_data"
    }
   ],
   "source": [
    "traces = []\n",
    "\n",
    "for i, node in enumerate(intervene_node):\n",
    "    for j, hook in enumerate(intervene_hook):\n",
    "        for k, size in enumerate(subspace_size):\n",
    "    \n",
    "            train_accuracies = train_accuracies_pb[i, j, k]\n",
    "            \n",
    "            # Create a scatter trace for the train accuracies\n",
    "            trace = go.Scatter(\n",
    "                x=list(range(len(train_accuracies))),\n",
    "                y=train_accuracies,\n",
    "                name=f\"node: {node}, {hook}, subspace size: {size}\",\n",
    "                mode=\"lines\",\n",
    "                visible=bool(1-i),\n",
    "            )\n",
    "            \n",
    "            # Add the trace to the list of traces\n",
    "            traces.append(trace)\n",
    "\n",
    "# Create layout\n",
    "layout = go.Layout(\n",
    "    title=\"Parenthesis balancing rotation matrix train losses\",\n",
    "    xaxis_title=\"Epoch\",\n",
    "    yaxis_title=\"Loss\",\n",
    "    updatemenus=[\n",
    "        dict(\n",
    "            buttons=[\n",
    "                dict(\n",
    "                    label=\"Node v\",\n",
    "                    method=\"update\",\n",
    "                    args=[{\"visible\": [True] * 6 + [False] *6}]\n",
    "                ),\n",
    "                dict(\n",
    "                    label=\"Node s\",\n",
    "                    method=\"update\",\n",
    "                    args=[{\"visible\": [False] * 6 + [True] *6}]\n",
    "                )\n",
    "            ],\n",
    "            active=0,\n",
    "            showactive=True\n",
    "        )\n",
    "    ]\n",
    ")\n",
    "\n",
    "fig = go.Figure(data=traces, layout=layout)\n",
    "fig.show()"
   ]
  }
 ],
 "metadata": {
  "kernelspec": {
   "display_name": "causal-networks",
   "language": "python",
   "name": "python3"
  },
  "language_info": {
   "codemirror_mode": {
    "name": "ipython",
    "version": 3
   },
   "file_extension": ".py",
   "mimetype": "text/x-python",
   "name": "python",
   "nbconvert_exporter": "python",
   "pygments_lexer": "ipython3",
   "version": "3.11.2"
  },
  "orig_nbformat": 4
 },
 "nbformat": 4,
 "nbformat_minor": 2
}
